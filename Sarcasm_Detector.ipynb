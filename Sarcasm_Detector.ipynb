{
  "nbformat": 4,
  "nbformat_minor": 0,
  "metadata": {
    "kernelspec": {
      "display_name": "Python 3",
      "name": "python3"
    },
    "language_info": {
      "codemirror_mode": {
        "name": "ipython",
        "version": 3
      },
      "file_extension": ".py",
      "mimetype": "text/x-python",
      "name": "python",
      "nbconvert_exporter": "python",
      "pygments_lexer": "ipython3",
      "version": "3.6.5"
    },
    "colab": {
      "provenance": [],
      "machine_shape": "hm",
      "gpuType": "T4"
    },
    "accelerator": "GPU"
  },
  "cells": [
    {
      "cell_type": "markdown",
      "metadata": {
        "id": "uLjPUgZ67ghr"
      },
      "source": [
        "# Sarcasm Detector"
      ]
    },
    {
      "cell_type": "markdown",
      "source": [
        "## Get and Load Data"
      ],
      "metadata": {
        "id": "q2DT1dstWUDg"
      }
    },
    {
      "cell_type": "code",
      "source": [
        "!pip install --upgrade --no-cache-dir gdown"
      ],
      "metadata": {
        "id": "9D0TkX5nVb46"
      },
      "execution_count": null,
      "outputs": []
    },
    {
      "cell_type": "code",
      "source": [
        "!gdown --id 1ytPDo88FEC2ArOjdqErAiarAZBNJzEJz"
      ],
      "metadata": {
        "id": "q3gQq7rYWWzM"
      },
      "execution_count": null,
      "outputs": []
    },
    {
      "cell_type": "code",
      "source": [
        "import pandas as pd\n",
        "\n",
        "df = pd.read_json('./SarcasmDetect.json', lines=True)\n",
        "df.head()"
      ],
      "metadata": {
        "id": "OZM68bF-Wdw6",
        "colab": {
          "base_uri": "https://localhost:8080/",
          "height": 206
        },
        "outputId": "778133b0-f30c-4d7f-a3e8-465187141406"
      },
      "execution_count": null,
      "outputs": [
        {
          "output_type": "execute_result",
          "data": {
            "text/plain": [
              "   is_sarcastic                                           headline  \\\n",
              "0             1  thirtysomething scientists unveil doomsday clo...   \n",
              "1             0  dem rep. totally nails why congress is falling...   \n",
              "2             0  eat your veggies: 9 deliciously different recipes   \n",
              "3             1  inclement weather prevents liar from getting t...   \n",
              "4             1  mother comes pretty close to using word 'strea...   \n",
              "\n",
              "                                        article_link  \n",
              "0  https://www.theonion.com/thirtysomething-scien...  \n",
              "1  https://www.huffingtonpost.com/entry/donna-edw...  \n",
              "2  https://www.huffingtonpost.com/entry/eat-your-...  \n",
              "3  https://local.theonion.com/inclement-weather-p...  \n",
              "4  https://www.theonion.com/mother-comes-pretty-c...  "
            ],
            "text/html": [
              "\n",
              "  <div id=\"df-cea6a6ee-fd38-4dbe-97d9-1c33e87fc74b\">\n",
              "    <div class=\"colab-df-container\">\n",
              "      <div>\n",
              "<style scoped>\n",
              "    .dataframe tbody tr th:only-of-type {\n",
              "        vertical-align: middle;\n",
              "    }\n",
              "\n",
              "    .dataframe tbody tr th {\n",
              "        vertical-align: top;\n",
              "    }\n",
              "\n",
              "    .dataframe thead th {\n",
              "        text-align: right;\n",
              "    }\n",
              "</style>\n",
              "<table border=\"1\" class=\"dataframe\">\n",
              "  <thead>\n",
              "    <tr style=\"text-align: right;\">\n",
              "      <th></th>\n",
              "      <th>is_sarcastic</th>\n",
              "      <th>headline</th>\n",
              "      <th>article_link</th>\n",
              "    </tr>\n",
              "  </thead>\n",
              "  <tbody>\n",
              "    <tr>\n",
              "      <th>0</th>\n",
              "      <td>1</td>\n",
              "      <td>thirtysomething scientists unveil doomsday clo...</td>\n",
              "      <td>https://www.theonion.com/thirtysomething-scien...</td>\n",
              "    </tr>\n",
              "    <tr>\n",
              "      <th>1</th>\n",
              "      <td>0</td>\n",
              "      <td>dem rep. totally nails why congress is falling...</td>\n",
              "      <td>https://www.huffingtonpost.com/entry/donna-edw...</td>\n",
              "    </tr>\n",
              "    <tr>\n",
              "      <th>2</th>\n",
              "      <td>0</td>\n",
              "      <td>eat your veggies: 9 deliciously different recipes</td>\n",
              "      <td>https://www.huffingtonpost.com/entry/eat-your-...</td>\n",
              "    </tr>\n",
              "    <tr>\n",
              "      <th>3</th>\n",
              "      <td>1</td>\n",
              "      <td>inclement weather prevents liar from getting t...</td>\n",
              "      <td>https://local.theonion.com/inclement-weather-p...</td>\n",
              "    </tr>\n",
              "    <tr>\n",
              "      <th>4</th>\n",
              "      <td>1</td>\n",
              "      <td>mother comes pretty close to using word 'strea...</td>\n",
              "      <td>https://www.theonion.com/mother-comes-pretty-c...</td>\n",
              "    </tr>\n",
              "  </tbody>\n",
              "</table>\n",
              "</div>\n",
              "      <button class=\"colab-df-convert\" onclick=\"convertToInteractive('df-cea6a6ee-fd38-4dbe-97d9-1c33e87fc74b')\"\n",
              "              title=\"Convert this dataframe to an interactive table.\"\n",
              "              style=\"display:none;\">\n",
              "        \n",
              "  <svg xmlns=\"http://www.w3.org/2000/svg\" height=\"24px\"viewBox=\"0 0 24 24\"\n",
              "       width=\"24px\">\n",
              "    <path d=\"M0 0h24v24H0V0z\" fill=\"none\"/>\n",
              "    <path d=\"M18.56 5.44l.94 2.06.94-2.06 2.06-.94-2.06-.94-.94-2.06-.94 2.06-2.06.94zm-11 1L8.5 8.5l.94-2.06 2.06-.94-2.06-.94L8.5 2.5l-.94 2.06-2.06.94zm10 10l.94 2.06.94-2.06 2.06-.94-2.06-.94-.94-2.06-.94 2.06-2.06.94z\"/><path d=\"M17.41 7.96l-1.37-1.37c-.4-.4-.92-.59-1.43-.59-.52 0-1.04.2-1.43.59L10.3 9.45l-7.72 7.72c-.78.78-.78 2.05 0 2.83L4 21.41c.39.39.9.59 1.41.59.51 0 1.02-.2 1.41-.59l7.78-7.78 2.81-2.81c.8-.78.8-2.07 0-2.86zM5.41 20L4 18.59l7.72-7.72 1.47 1.35L5.41 20z\"/>\n",
              "  </svg>\n",
              "      </button>\n",
              "      \n",
              "  <style>\n",
              "    .colab-df-container {\n",
              "      display:flex;\n",
              "      flex-wrap:wrap;\n",
              "      gap: 12px;\n",
              "    }\n",
              "\n",
              "    .colab-df-convert {\n",
              "      background-color: #E8F0FE;\n",
              "      border: none;\n",
              "      border-radius: 50%;\n",
              "      cursor: pointer;\n",
              "      display: none;\n",
              "      fill: #1967D2;\n",
              "      height: 32px;\n",
              "      padding: 0 0 0 0;\n",
              "      width: 32px;\n",
              "    }\n",
              "\n",
              "    .colab-df-convert:hover {\n",
              "      background-color: #E2EBFA;\n",
              "      box-shadow: 0px 1px 2px rgba(60, 64, 67, 0.3), 0px 1px 3px 1px rgba(60, 64, 67, 0.15);\n",
              "      fill: #174EA6;\n",
              "    }\n",
              "\n",
              "    [theme=dark] .colab-df-convert {\n",
              "      background-color: #3B4455;\n",
              "      fill: #D2E3FC;\n",
              "    }\n",
              "\n",
              "    [theme=dark] .colab-df-convert:hover {\n",
              "      background-color: #434B5C;\n",
              "      box-shadow: 0px 1px 3px 1px rgba(0, 0, 0, 0.15);\n",
              "      filter: drop-shadow(0px 1px 2px rgba(0, 0, 0, 0.3));\n",
              "      fill: #FFFFFF;\n",
              "    }\n",
              "  </style>\n",
              "\n",
              "      <script>\n",
              "        const buttonEl =\n",
              "          document.querySelector('#df-cea6a6ee-fd38-4dbe-97d9-1c33e87fc74b button.colab-df-convert');\n",
              "        buttonEl.style.display =\n",
              "          google.colab.kernel.accessAllowed ? 'block' : 'none';\n",
              "\n",
              "        async function convertToInteractive(key) {\n",
              "          const element = document.querySelector('#df-cea6a6ee-fd38-4dbe-97d9-1c33e87fc74b');\n",
              "          const dataTable =\n",
              "            await google.colab.kernel.invokeFunction('convertToInteractive',\n",
              "                                                     [key], {});\n",
              "          if (!dataTable) return;\n",
              "\n",
              "          const docLinkHtml = 'Like what you see? Visit the ' +\n",
              "            '<a target=\"_blank\" href=https://colab.research.google.com/notebooks/data_table.ipynb>data table notebook</a>'\n",
              "            + ' to learn more about interactive tables.';\n",
              "          element.innerHTML = '';\n",
              "          dataTable['output_type'] = 'display_data';\n",
              "          await google.colab.output.renderOutput(dataTable, element);\n",
              "          const docLink = document.createElement('div');\n",
              "          docLink.innerHTML = docLinkHtml;\n",
              "          element.appendChild(docLink);\n",
              "        }\n",
              "      </script>\n",
              "    </div>\n",
              "  </div>\n",
              "  "
            ]
          },
          "metadata": {},
          "execution_count": 84
        }
      ]
    },
    {
      "cell_type": "markdown",
      "metadata": {
        "id": "CmRclPlP7gh4"
      },
      "source": [
        "## Remove all records with no headline text"
      ]
    },
    {
      "cell_type": "code",
      "metadata": {
        "id": "myWq442E7gh5",
        "colab": {
          "base_uri": "https://localhost:8080/"
        },
        "outputId": "7bbff9bf-0676-4f46-8062-e7d267088f63"
      },
      "source": [
        "df = df[df['headline'] != '']\n",
        "df.info()"
      ],
      "execution_count": null,
      "outputs": [
        {
          "output_type": "stream",
          "name": "stdout",
          "text": [
            "<class 'pandas.core.frame.DataFrame'>\n",
            "Int64Index: 28619 entries, 0 to 28618\n",
            "Data columns (total 3 columns):\n",
            " #   Column        Non-Null Count  Dtype \n",
            "---  ------        --------------  ----- \n",
            " 0   is_sarcastic  28619 non-null  int64 \n",
            " 1   headline      28619 non-null  object\n",
            " 2   article_link  28619 non-null  object\n",
            "dtypes: int64(1), object(2)\n",
            "memory usage: 894.3+ KB\n"
          ]
        }
      ]
    },
    {
      "cell_type": "code",
      "source": [
        "import numpy as np\n",
        "import pandas as pd\n",
        "from sklearn.metrics import classification_report, confusion_matrix,accuracy_score\n",
        "import tensorflow as tf\n",
        "import tensorflow_hub as hub\n",
        "import nltk\n",
        "\n",
        "\n",
        "nltk.download('punkt')\n",
        "nltk.download('stopwords')\n",
        "nltk.download('averaged_perceptron_tagger')"
      ],
      "metadata": {
        "id": "KPpgfdri-8dm"
      },
      "execution_count": null,
      "outputs": []
    },
    {
      "cell_type": "code",
      "source": [
        "!pip install contractions\n",
        "!pip install textsearch\n",
        "!pip install tqdm"
      ],
      "metadata": {
        "id": "aHRgtzfu-823"
      },
      "execution_count": null,
      "outputs": []
    },
    {
      "cell_type": "markdown",
      "source": [
        "### Check Imbalance"
      ],
      "metadata": {
        "id": "bIQM6LZK_QnJ"
      }
    },
    {
      "cell_type": "code",
      "source": [
        "df['is_sarcastic'].value_counts()"
      ],
      "metadata": {
        "colab": {
          "base_uri": "https://localhost:8080/"
        },
        "id": "_v4kCgQm_UI0",
        "outputId": "da448b6e-dedd-40cd-8442-58d00e981ba8"
      },
      "execution_count": null,
      "outputs": [
        {
          "output_type": "execute_result",
          "data": {
            "text/plain": [
              "0    14985\n",
              "1    13634\n",
              "Name: is_sarcastic, dtype: int64"
            ]
          },
          "metadata": {},
          "execution_count": 87
        }
      ]
    },
    {
      "cell_type": "code",
      "source": [
        "X = pd.DataFrame(df['headline'])\n",
        "X"
      ],
      "metadata": {
        "id": "9y1-px_qDkqR",
        "colab": {
          "base_uri": "https://localhost:8080/",
          "height": 423
        },
        "outputId": "04062f00-e1b7-4801-8751-7c245b7caf96"
      },
      "execution_count": null,
      "outputs": [
        {
          "output_type": "execute_result",
          "data": {
            "text/plain": [
              "                                                headline\n",
              "0      thirtysomething scientists unveil doomsday clo...\n",
              "1      dem rep. totally nails why congress is falling...\n",
              "2      eat your veggies: 9 deliciously different recipes\n",
              "3      inclement weather prevents liar from getting t...\n",
              "4      mother comes pretty close to using word 'strea...\n",
              "...                                                  ...\n",
              "28614       jews to celebrate rosh hashasha or something\n",
              "28615  internal affairs investigator disappointed con...\n",
              "28616  the most beautiful acceptance speech this week...\n",
              "28617  mars probe destroyed by orbiting spielberg-gat...\n",
              "28618                 dad clarifies this not a food stop\n",
              "\n",
              "[28619 rows x 1 columns]"
            ],
            "text/html": [
              "\n",
              "  <div id=\"df-515c4449-673a-4f76-9f40-1b12ef0e9db8\">\n",
              "    <div class=\"colab-df-container\">\n",
              "      <div>\n",
              "<style scoped>\n",
              "    .dataframe tbody tr th:only-of-type {\n",
              "        vertical-align: middle;\n",
              "    }\n",
              "\n",
              "    .dataframe tbody tr th {\n",
              "        vertical-align: top;\n",
              "    }\n",
              "\n",
              "    .dataframe thead th {\n",
              "        text-align: right;\n",
              "    }\n",
              "</style>\n",
              "<table border=\"1\" class=\"dataframe\">\n",
              "  <thead>\n",
              "    <tr style=\"text-align: right;\">\n",
              "      <th></th>\n",
              "      <th>headline</th>\n",
              "    </tr>\n",
              "  </thead>\n",
              "  <tbody>\n",
              "    <tr>\n",
              "      <th>0</th>\n",
              "      <td>thirtysomething scientists unveil doomsday clo...</td>\n",
              "    </tr>\n",
              "    <tr>\n",
              "      <th>1</th>\n",
              "      <td>dem rep. totally nails why congress is falling...</td>\n",
              "    </tr>\n",
              "    <tr>\n",
              "      <th>2</th>\n",
              "      <td>eat your veggies: 9 deliciously different recipes</td>\n",
              "    </tr>\n",
              "    <tr>\n",
              "      <th>3</th>\n",
              "      <td>inclement weather prevents liar from getting t...</td>\n",
              "    </tr>\n",
              "    <tr>\n",
              "      <th>4</th>\n",
              "      <td>mother comes pretty close to using word 'strea...</td>\n",
              "    </tr>\n",
              "    <tr>\n",
              "      <th>...</th>\n",
              "      <td>...</td>\n",
              "    </tr>\n",
              "    <tr>\n",
              "      <th>28614</th>\n",
              "      <td>jews to celebrate rosh hashasha or something</td>\n",
              "    </tr>\n",
              "    <tr>\n",
              "      <th>28615</th>\n",
              "      <td>internal affairs investigator disappointed con...</td>\n",
              "    </tr>\n",
              "    <tr>\n",
              "      <th>28616</th>\n",
              "      <td>the most beautiful acceptance speech this week...</td>\n",
              "    </tr>\n",
              "    <tr>\n",
              "      <th>28617</th>\n",
              "      <td>mars probe destroyed by orbiting spielberg-gat...</td>\n",
              "    </tr>\n",
              "    <tr>\n",
              "      <th>28618</th>\n",
              "      <td>dad clarifies this not a food stop</td>\n",
              "    </tr>\n",
              "  </tbody>\n",
              "</table>\n",
              "<p>28619 rows × 1 columns</p>\n",
              "</div>\n",
              "      <button class=\"colab-df-convert\" onclick=\"convertToInteractive('df-515c4449-673a-4f76-9f40-1b12ef0e9db8')\"\n",
              "              title=\"Convert this dataframe to an interactive table.\"\n",
              "              style=\"display:none;\">\n",
              "        \n",
              "  <svg xmlns=\"http://www.w3.org/2000/svg\" height=\"24px\"viewBox=\"0 0 24 24\"\n",
              "       width=\"24px\">\n",
              "    <path d=\"M0 0h24v24H0V0z\" fill=\"none\"/>\n",
              "    <path d=\"M18.56 5.44l.94 2.06.94-2.06 2.06-.94-2.06-.94-.94-2.06-.94 2.06-2.06.94zm-11 1L8.5 8.5l.94-2.06 2.06-.94-2.06-.94L8.5 2.5l-.94 2.06-2.06.94zm10 10l.94 2.06.94-2.06 2.06-.94-2.06-.94-.94-2.06-.94 2.06-2.06.94z\"/><path d=\"M17.41 7.96l-1.37-1.37c-.4-.4-.92-.59-1.43-.59-.52 0-1.04.2-1.43.59L10.3 9.45l-7.72 7.72c-.78.78-.78 2.05 0 2.83L4 21.41c.39.39.9.59 1.41.59.51 0 1.02-.2 1.41-.59l7.78-7.78 2.81-2.81c.8-.78.8-2.07 0-2.86zM5.41 20L4 18.59l7.72-7.72 1.47 1.35L5.41 20z\"/>\n",
              "  </svg>\n",
              "      </button>\n",
              "      \n",
              "  <style>\n",
              "    .colab-df-container {\n",
              "      display:flex;\n",
              "      flex-wrap:wrap;\n",
              "      gap: 12px;\n",
              "    }\n",
              "\n",
              "    .colab-df-convert {\n",
              "      background-color: #E8F0FE;\n",
              "      border: none;\n",
              "      border-radius: 50%;\n",
              "      cursor: pointer;\n",
              "      display: none;\n",
              "      fill: #1967D2;\n",
              "      height: 32px;\n",
              "      padding: 0 0 0 0;\n",
              "      width: 32px;\n",
              "    }\n",
              "\n",
              "    .colab-df-convert:hover {\n",
              "      background-color: #E2EBFA;\n",
              "      box-shadow: 0px 1px 2px rgba(60, 64, 67, 0.3), 0px 1px 3px 1px rgba(60, 64, 67, 0.15);\n",
              "      fill: #174EA6;\n",
              "    }\n",
              "\n",
              "    [theme=dark] .colab-df-convert {\n",
              "      background-color: #3B4455;\n",
              "      fill: #D2E3FC;\n",
              "    }\n",
              "\n",
              "    [theme=dark] .colab-df-convert:hover {\n",
              "      background-color: #434B5C;\n",
              "      box-shadow: 0px 1px 3px 1px rgba(0, 0, 0, 0.15);\n",
              "      filter: drop-shadow(0px 1px 2px rgba(0, 0, 0, 0.3));\n",
              "      fill: #FFFFFF;\n",
              "    }\n",
              "  </style>\n",
              "\n",
              "      <script>\n",
              "        const buttonEl =\n",
              "          document.querySelector('#df-515c4449-673a-4f76-9f40-1b12ef0e9db8 button.colab-df-convert');\n",
              "        buttonEl.style.display =\n",
              "          google.colab.kernel.accessAllowed ? 'block' : 'none';\n",
              "\n",
              "        async function convertToInteractive(key) {\n",
              "          const element = document.querySelector('#df-515c4449-673a-4f76-9f40-1b12ef0e9db8');\n",
              "          const dataTable =\n",
              "            await google.colab.kernel.invokeFunction('convertToInteractive',\n",
              "                                                     [key], {});\n",
              "          if (!dataTable) return;\n",
              "\n",
              "          const docLinkHtml = 'Like what you see? Visit the ' +\n",
              "            '<a target=\"_blank\" href=https://colab.research.google.com/notebooks/data_table.ipynb>data table notebook</a>'\n",
              "            + ' to learn more about interactive tables.';\n",
              "          element.innerHTML = '';\n",
              "          dataTable['output_type'] = 'display_data';\n",
              "          await google.colab.output.renderOutput(dataTable, element);\n",
              "          const docLink = document.createElement('div');\n",
              "          docLink.innerHTML = docLinkHtml;\n",
              "          element.appendChild(docLink);\n",
              "        }\n",
              "      </script>\n",
              "    </div>\n",
              "  </div>\n",
              "  "
            ]
          },
          "metadata": {},
          "execution_count": 88
        }
      ]
    },
    {
      "cell_type": "markdown",
      "source": [
        "### Build Train and Test datasets"
      ],
      "metadata": {
        "id": "L9bLjPGp_xUt"
      }
    },
    {
      "cell_type": "code",
      "source": [
        "from sklearn.model_selection import train_test_split\n",
        "X_train, X_test, y_train, y_test = train_test_split(X, df['is_sarcastic'], test_size=0.3, random_state=42)\n",
        "X_train.shape, X_test.shape"
      ],
      "metadata": {
        "colab": {
          "base_uri": "https://localhost:8080/"
        },
        "id": "cHg0MLAW_vcI",
        "outputId": "27e7af2a-ccbc-4cdc-fc65-8fbda21a259c"
      },
      "execution_count": null,
      "outputs": [
        {
          "output_type": "execute_result",
          "data": {
            "text/plain": [
              "((20033, 1), (8586, 1))"
            ]
          },
          "metadata": {},
          "execution_count": 89
        }
      ]
    },
    {
      "cell_type": "markdown",
      "source": [
        "### Text Pre-processing"
      ],
      "metadata": {
        "id": "DMMuRaeTAvvG"
      }
    },
    {
      "cell_type": "code",
      "source": [
        "import nltk\n",
        "import contractions\n",
        "import re\n",
        "import tqdm\n",
        "\n",
        "\n",
        "def normalize_document(doc):\n",
        "    doc = doc.translate(doc.maketrans(\"\\n\\t\\r\", \"   \"))\n",
        "    doc = doc.lower()\n",
        "    doc = contractions.fix(doc)\n",
        "    # lower case and remove special characters\\whitespaces\n",
        "    doc = re.sub(r'[^a-zA-Z\\s]', ' ', doc, re.I|re.A)\n",
        "    doc = re.sub(' +', ' ', doc)\n",
        "    doc = doc.strip()\n",
        "\n",
        "    return doc\n",
        "\n",
        "def normalize_corpus(docs):\n",
        "    norm_docs = []\n",
        "    for doc in tqdm.tqdm(docs):\n",
        "        norm_doc = normalize_document(doc)\n",
        "        norm_docs.append(norm_doc)\n",
        "\n",
        "    return norm_docs"
      ],
      "metadata": {
        "id": "CQeGi9fs_tgy"
      },
      "execution_count": null,
      "outputs": []
    },
    {
      "cell_type": "code",
      "source": [
        "X_train['Clean Headline'] = normalize_corpus(X_train['headline'].values)\n",
        "X_test['Clean Headline'] = normalize_corpus(X_test['headline'].values)"
      ],
      "metadata": {
        "colab": {
          "base_uri": "https://localhost:8080/"
        },
        "id": "W9YlaD2BBLbf",
        "outputId": "b77dac18-fc40-40c2-8e8f-7c1ff7a67004"
      },
      "execution_count": null,
      "outputs": [
        {
          "output_type": "stream",
          "name": "stderr",
          "text": [
            "100%|██████████| 20033/20033 [00:00<00:00, 63581.51it/s]\n",
            "100%|██████████| 8586/8586 [00:00<00:00, 62264.40it/s]\n"
          ]
        }
      ]
    },
    {
      "cell_type": "markdown",
      "source": [
        "### Baseline Model: BOW TFIDF + Logistic Regression"
      ],
      "metadata": {
        "id": "ZHifgbq1ExQH"
      }
    },
    {
      "cell_type": "code",
      "source": [
        "from sklearn.feature_extraction.text import CountVectorizer\n",
        "\n",
        "cv = CountVectorizer(binary=False, min_df=2, max_df=1.0)\n",
        "\n",
        "cv_train_features = cv.fit_transform(X_train['Clean Headline'])\n",
        "cv_test_features = cv.transform(X_test['Clean Headline'])\n",
        "print('BOW model:> Train features shape:', cv_train_features.shape, ' Test features shape:', cv_test_features.shape)"
      ],
      "metadata": {
        "id": "KtEwnm3ICDTD",
        "colab": {
          "base_uri": "https://localhost:8080/"
        },
        "outputId": "5be517ab-a08c-4416-8b5f-fc17cc4d8588"
      },
      "execution_count": null,
      "outputs": [
        {
          "output_type": "stream",
          "name": "stdout",
          "text": [
            "BOW model:> Train features shape: (20033, 12114)  Test features shape: (8586, 12114)\n"
          ]
        }
      ]
    },
    {
      "cell_type": "code",
      "source": [
        "%%time\n",
        "\n",
        "# Logistic Regression model on BOW features\n",
        "from sklearn.linear_model import LogisticRegression\n",
        "\n",
        "# instantiate model\n",
        "lr = LogisticRegression(penalty='l2', max_iter=500, C=1, solver='lbfgs', random_state=42)\n",
        "\n",
        "# train model\n",
        "lr.fit(cv_train_features, y_train)\n",
        "\n",
        "# predict on test data\n",
        "lr_bow_predictions = lr.predict(cv_test_features)"
      ],
      "metadata": {
        "colab": {
          "base_uri": "https://localhost:8080/"
        },
        "id": "kMn6K_pCGgnk",
        "outputId": "b41e8c6e-0384-4f6e-b0c4-ffc3213ecd3b"
      },
      "execution_count": null,
      "outputs": [
        {
          "output_type": "stream",
          "name": "stdout",
          "text": [
            "CPU times: user 1.11 s, sys: 3.63 s, total: 4.74 s\n",
            "Wall time: 1.39 s\n"
          ]
        }
      ]
    },
    {
      "cell_type": "code",
      "source": [
        "print(\"Accuracy: %.2f%%\" % (accuracy_score(y_test, lr_bow_predictions)*100))\n",
        "print(classification_report(y_test, lr_bow_predictions))\n",
        "pd.DataFrame(confusion_matrix(y_test, lr_bow_predictions))"
      ],
      "metadata": {
        "colab": {
          "base_uri": "https://localhost:8080/",
          "height": 290
        },
        "id": "ytEnK23GHO-l",
        "outputId": "1a1f01aa-6bac-4604-aada-51b2a147e709"
      },
      "execution_count": null,
      "outputs": [
        {
          "output_type": "stream",
          "name": "stdout",
          "text": [
            "Accuracy: 83.23%\n",
            "              precision    recall  f1-score   support\n",
            "\n",
            "           0       0.83      0.85      0.84      4455\n",
            "           1       0.83      0.82      0.82      4131\n",
            "\n",
            "    accuracy                           0.83      8586\n",
            "   macro avg       0.83      0.83      0.83      8586\n",
            "weighted avg       0.83      0.83      0.83      8586\n",
            "\n"
          ]
        },
        {
          "output_type": "execute_result",
          "data": {
            "text/plain": [
              "      0     1\n",
              "0  3772   683\n",
              "1   757  3374"
            ],
            "text/html": [
              "\n",
              "  <div id=\"df-4f0567f5-9994-4603-bc6a-c00e4b0a9325\">\n",
              "    <div class=\"colab-df-container\">\n",
              "      <div>\n",
              "<style scoped>\n",
              "    .dataframe tbody tr th:only-of-type {\n",
              "        vertical-align: middle;\n",
              "    }\n",
              "\n",
              "    .dataframe tbody tr th {\n",
              "        vertical-align: top;\n",
              "    }\n",
              "\n",
              "    .dataframe thead th {\n",
              "        text-align: right;\n",
              "    }\n",
              "</style>\n",
              "<table border=\"1\" class=\"dataframe\">\n",
              "  <thead>\n",
              "    <tr style=\"text-align: right;\">\n",
              "      <th></th>\n",
              "      <th>0</th>\n",
              "      <th>1</th>\n",
              "    </tr>\n",
              "  </thead>\n",
              "  <tbody>\n",
              "    <tr>\n",
              "      <th>0</th>\n",
              "      <td>3772</td>\n",
              "      <td>683</td>\n",
              "    </tr>\n",
              "    <tr>\n",
              "      <th>1</th>\n",
              "      <td>757</td>\n",
              "      <td>3374</td>\n",
              "    </tr>\n",
              "  </tbody>\n",
              "</table>\n",
              "</div>\n",
              "      <button class=\"colab-df-convert\" onclick=\"convertToInteractive('df-4f0567f5-9994-4603-bc6a-c00e4b0a9325')\"\n",
              "              title=\"Convert this dataframe to an interactive table.\"\n",
              "              style=\"display:none;\">\n",
              "        \n",
              "  <svg xmlns=\"http://www.w3.org/2000/svg\" height=\"24px\"viewBox=\"0 0 24 24\"\n",
              "       width=\"24px\">\n",
              "    <path d=\"M0 0h24v24H0V0z\" fill=\"none\"/>\n",
              "    <path d=\"M18.56 5.44l.94 2.06.94-2.06 2.06-.94-2.06-.94-.94-2.06-.94 2.06-2.06.94zm-11 1L8.5 8.5l.94-2.06 2.06-.94-2.06-.94L8.5 2.5l-.94 2.06-2.06.94zm10 10l.94 2.06.94-2.06 2.06-.94-2.06-.94-.94-2.06-.94 2.06-2.06.94z\"/><path d=\"M17.41 7.96l-1.37-1.37c-.4-.4-.92-.59-1.43-.59-.52 0-1.04.2-1.43.59L10.3 9.45l-7.72 7.72c-.78.78-.78 2.05 0 2.83L4 21.41c.39.39.9.59 1.41.59.51 0 1.02-.2 1.41-.59l7.78-7.78 2.81-2.81c.8-.78.8-2.07 0-2.86zM5.41 20L4 18.59l7.72-7.72 1.47 1.35L5.41 20z\"/>\n",
              "  </svg>\n",
              "      </button>\n",
              "      \n",
              "  <style>\n",
              "    .colab-df-container {\n",
              "      display:flex;\n",
              "      flex-wrap:wrap;\n",
              "      gap: 12px;\n",
              "    }\n",
              "\n",
              "    .colab-df-convert {\n",
              "      background-color: #E8F0FE;\n",
              "      border: none;\n",
              "      border-radius: 50%;\n",
              "      cursor: pointer;\n",
              "      display: none;\n",
              "      fill: #1967D2;\n",
              "      height: 32px;\n",
              "      padding: 0 0 0 0;\n",
              "      width: 32px;\n",
              "    }\n",
              "\n",
              "    .colab-df-convert:hover {\n",
              "      background-color: #E2EBFA;\n",
              "      box-shadow: 0px 1px 2px rgba(60, 64, 67, 0.3), 0px 1px 3px 1px rgba(60, 64, 67, 0.15);\n",
              "      fill: #174EA6;\n",
              "    }\n",
              "\n",
              "    [theme=dark] .colab-df-convert {\n",
              "      background-color: #3B4455;\n",
              "      fill: #D2E3FC;\n",
              "    }\n",
              "\n",
              "    [theme=dark] .colab-df-convert:hover {\n",
              "      background-color: #434B5C;\n",
              "      box-shadow: 0px 1px 3px 1px rgba(0, 0, 0, 0.15);\n",
              "      filter: drop-shadow(0px 1px 2px rgba(0, 0, 0, 0.3));\n",
              "      fill: #FFFFFF;\n",
              "    }\n",
              "  </style>\n",
              "\n",
              "      <script>\n",
              "        const buttonEl =\n",
              "          document.querySelector('#df-4f0567f5-9994-4603-bc6a-c00e4b0a9325 button.colab-df-convert');\n",
              "        buttonEl.style.display =\n",
              "          google.colab.kernel.accessAllowed ? 'block' : 'none';\n",
              "\n",
              "        async function convertToInteractive(key) {\n",
              "          const element = document.querySelector('#df-4f0567f5-9994-4603-bc6a-c00e4b0a9325');\n",
              "          const dataTable =\n",
              "            await google.colab.kernel.invokeFunction('convertToInteractive',\n",
              "                                                     [key], {});\n",
              "          if (!dataTable) return;\n",
              "\n",
              "          const docLinkHtml = 'Like what you see? Visit the ' +\n",
              "            '<a target=\"_blank\" href=https://colab.research.google.com/notebooks/data_table.ipynb>data table notebook</a>'\n",
              "            + ' to learn more about interactive tables.';\n",
              "          element.innerHTML = '';\n",
              "          dataTable['output_type'] = 'display_data';\n",
              "          await google.colab.output.renderOutput(dataTable, element);\n",
              "          const docLink = document.createElement('div');\n",
              "          docLink.innerHTML = docLinkHtml;\n",
              "          element.appendChild(docLink);\n",
              "        }\n",
              "      </script>\n",
              "    </div>\n",
              "  </div>\n",
              "  "
            ]
          },
          "metadata": {},
          "execution_count": 105
        }
      ]
    },
    {
      "cell_type": "markdown",
      "source": [
        "### FastText Embeddings + CNN"
      ],
      "metadata": {
        "id": "M2_p-_oeIRGW"
      }
    },
    {
      "cell_type": "code",
      "source": [
        "t = tf.keras.preprocessing.text.Tokenizer(oov_token='<UNK>')\n",
        "# fit the tokenizer on the documents\n",
        "t.fit_on_texts(X_train['Clean Headline'])\n",
        "t.word_index['<PAD>'] = 0"
      ],
      "metadata": {
        "id": "qwGehVVaIVuz"
      },
      "execution_count": null,
      "outputs": []
    },
    {
      "cell_type": "code",
      "source": [
        "train_sequences = t.texts_to_sequences(X_train['Clean Headline'])\n",
        "test_sequences = t.texts_to_sequences(X_test['Clean Headline'])"
      ],
      "metadata": {
        "id": "hgQZg2tOIaK4"
      },
      "execution_count": null,
      "outputs": []
    },
    {
      "cell_type": "code",
      "source": [
        "X_train['Clean_Headline_length']"
      ],
      "metadata": {
        "colab": {
          "base_uri": "https://localhost:8080/"
        },
        "id": "kqVS_aTOW_Fi",
        "outputId": "6177a30e-3231-463b-8d28-16c51f8ec1eb"
      },
      "execution_count": null,
      "outputs": [
        {
          "output_type": "execute_result",
          "data": {
            "text/plain": [
              "12170    10\n",
              "28552     9\n",
              "6883      8\n",
              "28387    11\n",
              "12932    21\n",
              "         ..\n",
              "21575     9\n",
              "5390     12\n",
              "860       8\n",
              "15795     8\n",
              "23654     9\n",
              "Name: Clean_Headline_length, Length: 20033, dtype: int64"
            ]
          },
          "metadata": {},
          "execution_count": 109
        }
      ]
    },
    {
      "cell_type": "code",
      "source": [
        "import matplotlib.pyplot as plt"
      ],
      "metadata": {
        "id": "Q1-oBZpmYwKu"
      },
      "execution_count": null,
      "outputs": []
    },
    {
      "cell_type": "code",
      "source": [
        "%matplotlib inline\n",
        "X_train['Clean_Headline_length'] = X_train['Clean Headline'].apply(lambda x: len(x.split()))\n",
        "plt.hist(X_train['Clean_Headline_length'].values, bins=30)\n",
        "plt.xlim([0, 200])\n",
        "plt.show()"
      ],
      "metadata": {
        "colab": {
          "base_uri": "https://localhost:8080/",
          "height": 430
        },
        "id": "zvVFy9SYIhL2",
        "outputId": "038ae5d3-df80-4ad6-bde8-67e51306d642"
      },
      "execution_count": null,
      "outputs": [
        {
          "output_type": "display_data",
          "data": {
            "text/plain": [
              "<Figure size 640x480 with 1 Axes>"
            ],
            "image/png": "[encoded data removed]"
          },
          "metadata": {}
        }
      ]
    },
    {
      "cell_type": "code",
      "source": [
        "plt.hist([1,1,24,5,4,3])"
      ],
      "metadata": {
        "colab": {
          "base_uri": "https://localhost:8080/"
        },
        "id": "33vySut1XzRW",
        "outputId": "010ac11f-aec8-40cb-e824-4a357609f80a"
      },
      "execution_count": null,
      "outputs": [
        {
          "output_type": "execute_result",
          "data": {
            "text/plain": [
              "(array([3., 2., 0., 0., 0., 0., 0., 0., 0., 1.]),\n",
              " array([ 1. ,  3.3,  5.6,  7.9, 10.2, 12.5, 14.8, 17.1, 19.4, 21.7, 24. ]),\n",
              " <BarContainer object of 10 artists>)"
            ]
          },
          "metadata": {},
          "execution_count": 114
        }
      ]
    },
    {
      "cell_type": "code",
      "source": [
        "MAX_SEQUENCE_LENGTH = 40\n",
        "\n",
        "# pad dataset to a maximum review length in words\n",
        "X_train_pad = tf.keras.preprocessing.sequence.pad_sequences(train_sequences, maxlen=MAX_SEQUENCE_LENGTH)\n",
        "X_test_pad = tf.keras.preprocessing.sequence.pad_sequences(test_sequences, maxlen=MAX_SEQUENCE_LENGTH)\n",
        "X_train_pad.shape, X_test_pad.shape"
      ],
      "metadata": {
        "colab": {
          "base_uri": "https://localhost:8080/"
        },
        "id": "1E2uit3jIvy9",
        "outputId": "3b2e2d68-ad42-4a04-b858-1a7124bd8dfc"
      },
      "execution_count": null,
      "outputs": [
        {
          "output_type": "execute_result",
          "data": {
            "text/plain": [
              "((20033, 40), (8586, 40))"
            ]
          },
          "metadata": {},
          "execution_count": 101
        }
      ]
    },
    {
      "cell_type": "code",
      "source": [
        "VOCAB_SIZE = len(t.word_index)\n",
        "EMBED_SIZE = 300\n",
        "EPOCHS=100\n",
        "BATCH_SIZE=128"
      ],
      "metadata": {
        "id": "DKGgU1AhI-Gg"
      },
      "execution_count": null,
      "outputs": []
    },
    {
      "cell_type": "code",
      "source": [
        "!wget https://dl.fbaipublicfiles.com/fasttext/vectors-english/crawl-300d-2M-subword.zip"
      ],
      "metadata": {
        "colab": {
          "base_uri": "https://localhost:8080/"
        },
        "id": "DKCmnObEJAhE",
        "outputId": "be7003f9-bc4b-4693-fe76-0b8cd35e3b11"
      },
      "execution_count": null,
      "outputs": [
        {
          "output_type": "stream",
          "name": "stdout",
          "text": [
            "--2023-06-23 08:00:29--  https://dl.fbaipublicfiles.com/fasttext/vectors-english/crawl-300d-2M-subword.zip\n",
            "Resolving dl.fbaipublicfiles.com (dl.fbaipublicfiles.com)... 13.35.8.19, 13.35.8.51, 13.35.8.35, ...\n",
            "Connecting to dl.fbaipublicfiles.com (dl.fbaipublicfiles.com)|13.35.8.19|:443... connected.\n",
            "HTTP request sent, awaiting response... 200 OK\n",
            "Length: 5828358084 (5.4G) [application/zip]\n",
            "Saving to: ‘crawl-300d-2M-subword.zip.1’\n",
            "\n",
            "crawl-300d-2M-subwo 100%[===================>]   5.43G   203MB/s    in 28s     \n",
            "\n",
            "2023-06-23 08:00:57 (200 MB/s) - ‘crawl-300d-2M-subword.zip.1’ saved [5828358084/5828358084]\n",
            "\n"
          ]
        }
      ]
    },
    {
      "cell_type": "code",
      "source": [
        "!unzip crawl-300d-2M-subword.zip"
      ],
      "metadata": {
        "colab": {
          "base_uri": "https://localhost:8080/"
        },
        "id": "T9Rc8dDUJCl1",
        "outputId": "509ad3c3-47b3-4023-c438-8bec7a084429"
      },
      "execution_count": null,
      "outputs": [
        {
          "output_type": "stream",
          "name": "stdout",
          "text": [
            "Archive:  crawl-300d-2M-subword.zip\n",
            "replace crawl-300d-2M-subword.vec? [y]es, [n]o, [A]ll, [N]one, [r]ename: y\n",
            "  inflating: crawl-300d-2M-subword.vec  \n",
            "replace crawl-300d-2M-subword.bin? [y]es, [n]o, [A]ll, [N]one, [r]ename: y\n",
            "  inflating: crawl-300d-2M-subword.bin  \n"
          ]
        }
      ]
    },
    {
      "cell_type": "code",
      "source": [
        "word2idx = t.word_index\n",
        "FASTTEXT_INIT_EMBEDDINGS_FILE = './crawl-300d-2M-subword.vec'\n",
        "\n",
        "\n",
        "def load_pretrained_embeddings(word_to_index, max_features, embedding_size, embedding_file_path):\n",
        "\n",
        "    def get_coefs(word,*arr):\n",
        "        return word, np.asarray(arr, dtype='float32')\n",
        "\n",
        "    embeddings_index = dict(get_coefs(*row.split(\" \"))\n",
        "                                for row in open(embedding_file_path, encoding=\"utf8\", errors='ignore')\n",
        "                                    if len(row)>100)\n",
        "\n",
        "    all_embs = np.stack(embeddings_index.values())\n",
        "    emb_mean, emb_std = all_embs.mean(), all_embs.std()\n",
        "    embed_size = all_embs.shape[1]\n",
        "\n",
        "    nb_words = min(max_features, len(word_to_index))\n",
        "    embedding_matrix = np.random.normal(emb_mean, emb_std, (nb_words, embedding_size))\n",
        "\n",
        "    for word, idx in word_to_index.items():\n",
        "        if idx >= max_features:\n",
        "            continue\n",
        "        embedding_vector = embeddings_index.get(word)\n",
        "        if embedding_vector is not None:\n",
        "            embedding_matrix[idx] = embedding_vector\n",
        "\n",
        "    return embedding_matrix"
      ],
      "metadata": {
        "id": "5DtA83PwJKZm"
      },
      "execution_count": null,
      "outputs": []
    },
    {
      "cell_type": "code",
      "source": [
        "ft_embeddings = load_pretrained_embeddings(word_to_index=word2idx,\n",
        "                                           max_features=VOCAB_SIZE,\n",
        "                                           embedding_size=EMBED_SIZE,\n",
        "                                           embedding_file_path=FASTTEXT_INIT_EMBEDDINGS_FILE)\n",
        "ft_embeddings.shape"
      ],
      "metadata": {
        "colab": {
          "base_uri": "https://localhost:8080/"
        },
        "id": "nDzp4UV8JNeS",
        "outputId": "c05ed768-51dd-4f89-994a-8de1c70711d6"
      },
      "execution_count": null,
      "outputs": [
        {
          "output_type": "stream",
          "name": "stderr",
          "text": [
            "/usr/local/lib/python3.10/dist-packages/IPython/core/interactiveshell.py:3553: FutureWarning: arrays to stack must be passed as a \"sequence\" type such as list or tuple. Support for non-sequence iterables such as generators is deprecated as of NumPy 1.16 and will raise an error in the future.\n",
            "  exec(code_obj, self.user_global_ns, self.user_ns)\n"
          ]
        },
        {
          "output_type": "execute_result",
          "data": {
            "text/plain": [
              "(22132, 300)"
            ]
          },
          "metadata": {},
          "execution_count": 49
        }
      ]
    },
    {
      "cell_type": "code",
      "source": [
        "# create the model\n",
        "model = tf.keras.models.Sequential()\n",
        "\n",
        "model.add(tf.keras.layers.Embedding(VOCAB_SIZE, EMBED_SIZE,\n",
        "                                    weights=[ft_embeddings],\n",
        "                                    trainable=True,\n",
        "                                    input_length=MAX_SEQUENCE_LENGTH))\n",
        "\n",
        "model.add(tf.keras.layers.Conv1D(filters=256, kernel_size=4, padding='same', activation='relu'))\n",
        "model.add(tf.keras.layers.MaxPooling1D(pool_size=2))\n",
        "\n",
        "model.add(tf.keras.layers.Conv1D(filters=128, kernel_size=4, padding='same', activation='relu'))\n",
        "model.add(tf.keras.layers.MaxPooling1D(pool_size=2))\n",
        "\n",
        "model.add(tf.keras.layers.Conv1D(filters=64, kernel_size=4, padding='same', activation='relu'))\n",
        "model.add(tf.keras.layers.MaxPooling1D(pool_size=2))\n",
        "\n",
        "model.add(tf.keras.layers.Flatten())\n",
        "\n",
        "model.add(tf.keras.layers.Dense(256, activation='relu'))\n",
        "model.add(tf.keras.layers.Dropout(0.25))\n",
        "model.add(tf.keras.layers.Dense(256, activation='relu'))\n",
        "model.add(tf.keras.layers.Dropout(0.25))\n",
        "model.add(tf.keras.layers.Dense(1, activation='sigmoid'))\n",
        "\n",
        "model.compile(loss='binary_crossentropy', optimizer='adam', metrics=['accuracy'])\n",
        "model.summary()"
      ],
      "metadata": {
        "colab": {
          "base_uri": "https://localhost:8080/"
        },
        "id": "A52qwgKLKCcn",
        "outputId": "f5f3aff4-2cba-42e9-8fdf-fed880f100b4"
      },
      "execution_count": null,
      "outputs": [
        {
          "output_type": "stream",
          "name": "stdout",
          "text": [
            "Model: \"sequential_4\"\n",
            "_________________________________________________________________\n",
            " Layer (type)                Output Shape              Param #   \n",
            "=================================================================\n",
            " embedding_4 (Embedding)     (None, 150, 300)          6639600   \n",
            "                                                                 \n",
            " conv1d_3 (Conv1D)           (None, 150, 256)          307456    \n",
            "                                                                 \n",
            " max_pooling1d_3 (MaxPooling  (None, 75, 256)          0         \n",
            " 1D)                                                             \n",
            "                                                                 \n",
            " conv1d_4 (Conv1D)           (None, 75, 128)           131200    \n",
            "                                                                 \n",
            " max_pooling1d_4 (MaxPooling  (None, 37, 128)          0         \n",
            " 1D)                                                             \n",
            "                                                                 \n",
            " conv1d_5 (Conv1D)           (None, 37, 64)            32832     \n",
            "                                                                 \n",
            " max_pooling1d_5 (MaxPooling  (None, 18, 64)           0         \n",
            " 1D)                                                             \n",
            "                                                                 \n",
            " flatten_1 (Flatten)         (None, 1152)              0         \n",
            "                                                                 \n",
            " dense_7 (Dense)             (None, 256)               295168    \n",
            "                                                                 \n",
            " dropout_2 (Dropout)         (None, 256)               0         \n",
            "                                                                 \n",
            " dense_8 (Dense)             (None, 256)               65792     \n",
            "                                                                 \n",
            " dropout_3 (Dropout)         (None, 256)               0         \n",
            "                                                                 \n",
            " dense_9 (Dense)             (None, 1)                 257       \n",
            "                                                                 \n",
            "=================================================================\n",
            "Total params: 7,472,305\n",
            "Trainable params: 7,472,305\n",
            "Non-trainable params: 0\n",
            "_________________________________________________________________\n"
          ]
        }
      ]
    },
    {
      "cell_type": "code",
      "source": [
        "model.fit(X_train_pad, y_train,\n",
        "          epochs=10,\n",
        "          batch_size=BATCH_SIZE,\n",
        "          shuffle=True,\n",
        "          verbose=1)"
      ],
      "metadata": {
        "colab": {
          "base_uri": "https://localhost:8080/"
        },
        "id": "OLDkDtEkKDJq",
        "outputId": "3281b91b-9860-4795-fc57-42e9a0ad5d9c"
      },
      "execution_count": null,
      "outputs": [
        {
          "output_type": "stream",
          "name": "stdout",
          "text": [
            "Epoch 1/10\n",
            "157/157 [==============================] - 19s 93ms/step - loss: 0.4234 - accuracy: 0.7950\n",
            "Epoch 2/10\n",
            "157/157 [==============================] - 6s 38ms/step - loss: 0.1601 - accuracy: 0.9416\n",
            "Epoch 3/10\n",
            "157/157 [==============================] - 5s 30ms/step - loss: 0.0484 - accuracy: 0.9852\n",
            "Epoch 4/10\n",
            "157/157 [==============================] - 4s 25ms/step - loss: 0.0204 - accuracy: 0.9928\n",
            "Epoch 5/10\n",
            "157/157 [==============================] - 4s 26ms/step - loss: 0.0093 - accuracy: 0.9964\n",
            "Epoch 6/10\n",
            "157/157 [==============================] - 4s 24ms/step - loss: 0.0088 - accuracy: 0.9974\n",
            "Epoch 7/10\n",
            "157/157 [==============================] - 4s 24ms/step - loss: 0.0056 - accuracy: 0.9981\n",
            "Epoch 8/10\n",
            "157/157 [==============================] - 4s 24ms/step - loss: 0.0072 - accuracy: 0.9979\n",
            "Epoch 9/10\n",
            "157/157 [==============================] - 3s 20ms/step - loss: 0.0045 - accuracy: 0.9987\n",
            "Epoch 10/10\n",
            "157/157 [==============================] - 4s 24ms/step - loss: 0.0069 - accuracy: 0.9975\n"
          ]
        },
        {
          "output_type": "execute_result",
          "data": {
            "text/plain": [
              "<keras.callbacks.History at 0x7fdb6b90c6d0>"
            ]
          },
          "metadata": {},
          "execution_count": 51
        }
      ]
    },
    {
      "cell_type": "code",
      "source": [
        "predictions = model.predict(X_test_pad, batch_size=2048, verbose=0).ravel()\n",
        "predictions = [1 if prob > 0.5 else 0 for prob in predictions]\n",
        "print(\"Accuracy: %.2f%%\" % (accuracy_score(y_test, predictions)*100))\n",
        "print(classification_report(y_test, predictions))\n",
        "pd.DataFrame(confusion_matrix(y_test, predictions))"
      ],
      "metadata": {
        "colab": {
          "base_uri": "https://localhost:8080/",
          "height": 290
        },
        "id": "hip_b1gvKlF0",
        "outputId": "05966833-0c9c-4f7e-cfdd-1933b5712623"
      },
      "execution_count": null,
      "outputs": [
        {
          "output_type": "stream",
          "name": "stdout",
          "text": [
            "Accuracy: 85.62%\n",
            "              precision    recall  f1-score   support\n",
            "\n",
            "           0       0.87      0.85      0.86      4455\n",
            "           1       0.84      0.87      0.85      4131\n",
            "\n",
            "    accuracy                           0.86      8586\n",
            "   macro avg       0.86      0.86      0.86      8586\n",
            "weighted avg       0.86      0.86      0.86      8586\n",
            "\n"
          ]
        },
        {
          "output_type": "execute_result",
          "data": {
            "text/plain": [
              "      0     1\n",
              "0  3773   682\n",
              "1   553  3578"
            ],
            "text/html": [
              "\n",
              "  <div id=\"df-4f059a12-ea50-4808-82a1-309d1392d199\">\n",
              "    <div class=\"colab-df-container\">\n",
              "      <div>\n",
              "<style scoped>\n",
              "    .dataframe tbody tr th:only-of-type {\n",
              "        vertical-align: middle;\n",
              "    }\n",
              "\n",
              "    .dataframe tbody tr th {\n",
              "        vertical-align: top;\n",
              "    }\n",
              "\n",
              "    .dataframe thead th {\n",
              "        text-align: right;\n",
              "    }\n",
              "</style>\n",
              "<table border=\"1\" class=\"dataframe\">\n",
              "  <thead>\n",
              "    <tr style=\"text-align: right;\">\n",
              "      <th></th>\n",
              "      <th>0</th>\n",
              "      <th>1</th>\n",
              "    </tr>\n",
              "  </thead>\n",
              "  <tbody>\n",
              "    <tr>\n",
              "      <th>0</th>\n",
              "      <td>3773</td>\n",
              "      <td>682</td>\n",
              "    </tr>\n",
              "    <tr>\n",
              "      <th>1</th>\n",
              "      <td>553</td>\n",
              "      <td>3578</td>\n",
              "    </tr>\n",
              "  </tbody>\n",
              "</table>\n",
              "</div>\n",
              "      <button class=\"colab-df-convert\" onclick=\"convertToInteractive('df-4f059a12-ea50-4808-82a1-309d1392d199')\"\n",
              "              title=\"Convert this dataframe to an interactive table.\"\n",
              "              style=\"display:none;\">\n",
              "        \n",
              "  <svg xmlns=\"http://www.w3.org/2000/svg\" height=\"24px\"viewBox=\"0 0 24 24\"\n",
              "       width=\"24px\">\n",
              "    <path d=\"M0 0h24v24H0V0z\" fill=\"none\"/>\n",
              "    <path d=\"M18.56 5.44l.94 2.06.94-2.06 2.06-.94-2.06-.94-.94-2.06-.94 2.06-2.06.94zm-11 1L8.5 8.5l.94-2.06 2.06-.94-2.06-.94L8.5 2.5l-.94 2.06-2.06.94zm10 10l.94 2.06.94-2.06 2.06-.94-2.06-.94-.94-2.06-.94 2.06-2.06.94z\"/><path d=\"M17.41 7.96l-1.37-1.37c-.4-.4-.92-.59-1.43-.59-.52 0-1.04.2-1.43.59L10.3 9.45l-7.72 7.72c-.78.78-.78 2.05 0 2.83L4 21.41c.39.39.9.59 1.41.59.51 0 1.02-.2 1.41-.59l7.78-7.78 2.81-2.81c.8-.78.8-2.07 0-2.86zM5.41 20L4 18.59l7.72-7.72 1.47 1.35L5.41 20z\"/>\n",
              "  </svg>\n",
              "      </button>\n",
              "      \n",
              "  <style>\n",
              "    .colab-df-container {\n",
              "      display:flex;\n",
              "      flex-wrap:wrap;\n",
              "      gap: 12px;\n",
              "    }\n",
              "\n",
              "    .colab-df-convert {\n",
              "      background-color: #E8F0FE;\n",
              "      border: none;\n",
              "      border-radius: 50%;\n",
              "      cursor: pointer;\n",
              "      display: none;\n",
              "      fill: #1967D2;\n",
              "      height: 32px;\n",
              "      padding: 0 0 0 0;\n",
              "      width: 32px;\n",
              "    }\n",
              "\n",
              "    .colab-df-convert:hover {\n",
              "      background-color: #E2EBFA;\n",
              "      box-shadow: 0px 1px 2px rgba(60, 64, 67, 0.3), 0px 1px 3px 1px rgba(60, 64, 67, 0.15);\n",
              "      fill: #174EA6;\n",
              "    }\n",
              "\n",
              "    [theme=dark] .colab-df-convert {\n",
              "      background-color: #3B4455;\n",
              "      fill: #D2E3FC;\n",
              "    }\n",
              "\n",
              "    [theme=dark] .colab-df-convert:hover {\n",
              "      background-color: #434B5C;\n",
              "      box-shadow: 0px 1px 3px 1px rgba(0, 0, 0, 0.15);\n",
              "      filter: drop-shadow(0px 1px 2px rgba(0, 0, 0, 0.3));\n",
              "      fill: #FFFFFF;\n",
              "    }\n",
              "  </style>\n",
              "\n",
              "      <script>\n",
              "        const buttonEl =\n",
              "          document.querySelector('#df-4f059a12-ea50-4808-82a1-309d1392d199 button.colab-df-convert');\n",
              "        buttonEl.style.display =\n",
              "          google.colab.kernel.accessAllowed ? 'block' : 'none';\n",
              "\n",
              "        async function convertToInteractive(key) {\n",
              "          const element = document.querySelector('#df-4f059a12-ea50-4808-82a1-309d1392d199');\n",
              "          const dataTable =\n",
              "            await google.colab.kernel.invokeFunction('convertToInteractive',\n",
              "                                                     [key], {});\n",
              "          if (!dataTable) return;\n",
              "\n",
              "          const docLinkHtml = 'Like what you see? Visit the ' +\n",
              "            '<a target=\"_blank\" href=https://colab.research.google.com/notebooks/data_table.ipynb>data table notebook</a>'\n",
              "            + ' to learn more about interactive tables.';\n",
              "          element.innerHTML = '';\n",
              "          dataTable['output_type'] = 'display_data';\n",
              "          await google.colab.output.renderOutput(dataTable, element);\n",
              "          const docLink = document.createElement('div');\n",
              "          docLink.innerHTML = docLinkHtml;\n",
              "          element.appendChild(docLink);\n",
              "        }\n",
              "      </script>\n",
              "    </div>\n",
              "  </div>\n",
              "  "
            ]
          },
          "metadata": {},
          "execution_count": 52
        }
      ]
    },
    {
      "cell_type": "markdown",
      "source": [
        "### FastText Embeddings + LSTM"
      ],
      "metadata": {
        "id": "79g0FnxMKx5p"
      }
    },
    {
      "cell_type": "code",
      "source": [
        "EMBEDDING_DIM = 300 # dimension for dense embeddings for each token i.e word embedding size\n",
        "LSTM_DIM = 128 # the number of hidden units in each LSTM cell i.e the hidden state embedding size;\n",
        "# total LSTM cells = sequence length (num of tokens) i.e total number of words per document\n",
        "\n",
        "model_lstm = tf.keras.models.Sequential()\n",
        "\n",
        "model_lstm.add(tf.keras.layers.Embedding(input_dim=VOCAB_SIZE,\n",
        "                                    output_dim=EMBEDDING_DIM,\n",
        "                                    input_length=MAX_SEQUENCE_LENGTH))\n",
        "\n",
        "model_lstm.add(tf.keras.layers.SpatialDropout1D(0.1))\n",
        "\n",
        "#model_lstm.add(tf.keras.layers.Bidirectional(tf.keras.layers.LSTM(LSTM_DIM, return_sequences=False)))\n",
        "model_lstm.add(tf.keras.layers.LSTM(LSTM_DIM, return_sequences=False))\n",
        "\n",
        "model_lstm.add(tf.keras.layers.Dense(256, activation='relu'))\n",
        "\n",
        "model_lstm.add(tf.keras.layers.Dense(1, activation=\"sigmoid\"))\n",
        "\n",
        "model_lstm.compile(loss=\"binary_crossentropy\", optimizer=\"adam\",\n",
        "              metrics=[\"accuracy\"])\n",
        "model_lstm.summary()"
      ],
      "metadata": {
        "colab": {
          "base_uri": "https://localhost:8080/"
        },
        "id": "Jk_SJPJjK5--",
        "outputId": "afc682c6-b112-4f68-9764-db40c7c824e7"
      },
      "execution_count": null,
      "outputs": [
        {
          "output_type": "stream",
          "name": "stdout",
          "text": [
            "Model: \"sequential_5\"\n",
            "_________________________________________________________________\n",
            " Layer (type)                Output Shape              Param #   \n",
            "=================================================================\n",
            " embedding_5 (Embedding)     (None, 150, 300)          6639600   \n",
            "                                                                 \n",
            " spatial_dropout1d_3 (Spatia  (None, 150, 300)         0         \n",
            " lDropout1D)                                                     \n",
            "                                                                 \n",
            " lstm_4 (LSTM)               (None, 128)               219648    \n",
            "                                                                 \n",
            " dense_10 (Dense)            (None, 256)               33024     \n",
            "                                                                 \n",
            " dense_11 (Dense)            (None, 1)                 257       \n",
            "                                                                 \n",
            "=================================================================\n",
            "Total params: 6,892,529\n",
            "Trainable params: 6,892,529\n",
            "Non-trainable params: 0\n",
            "_________________________________________________________________\n"
          ]
        }
      ]
    },
    {
      "cell_type": "code",
      "source": [
        "model_lstm.fit(X_train_pad, y_train,\n",
        "          epochs=10,\n",
        "          batch_size=BATCH_SIZE,\n",
        "          shuffle=True,\n",
        "          verbose=1)"
      ],
      "metadata": {
        "colab": {
          "base_uri": "https://localhost:8080/"
        },
        "id": "VEbLKuStMEqB",
        "outputId": "75138bc7-63c5-4ce6-9357-37fd99ada5ac"
      },
      "execution_count": null,
      "outputs": [
        {
          "output_type": "stream",
          "name": "stdout",
          "text": [
            "Epoch 1/10\n",
            "157/157 [==============================] - 16s 84ms/step - loss: 0.4275 - accuracy: 0.7909\n",
            "Epoch 2/10\n",
            "157/157 [==============================] - 5s 32ms/step - loss: 0.1791 - accuracy: 0.9312\n",
            "Epoch 3/10\n",
            "157/157 [==============================] - 4s 24ms/step - loss: 0.0731 - accuracy: 0.9736\n",
            "Epoch 4/10\n",
            "157/157 [==============================] - 4s 23ms/step - loss: 0.0326 - accuracy: 0.9884\n",
            "Epoch 5/10\n",
            "157/157 [==============================] - 4s 23ms/step - loss: 0.0186 - accuracy: 0.9941\n",
            "Epoch 6/10\n",
            "157/157 [==============================] - 4s 24ms/step - loss: 0.0155 - accuracy: 0.9946\n",
            "Epoch 7/10\n",
            "157/157 [==============================] - 3s 20ms/step - loss: 0.0096 - accuracy: 0.9966\n",
            "Epoch 8/10\n",
            "157/157 [==============================] - 3s 21ms/step - loss: 0.0090 - accuracy: 0.9969\n",
            "Epoch 9/10\n",
            "157/157 [==============================] - 3s 21ms/step - loss: 0.0075 - accuracy: 0.9977\n",
            "Epoch 10/10\n",
            "157/157 [==============================] - 3s 22ms/step - loss: 0.0044 - accuracy: 0.9985\n"
          ]
        },
        {
          "output_type": "execute_result",
          "data": {
            "text/plain": [
              "<keras.callbacks.History at 0x7fdb5fbfa170>"
            ]
          },
          "metadata": {},
          "execution_count": 54
        }
      ]
    },
    {
      "cell_type": "code",
      "source": [
        "predictions = model_lstm.predict(X_test_pad, batch_size=2048, verbose=0).ravel()\n",
        "predictions = [1 if prob > 0.5 else 0 for prob in predictions]\n",
        "print(\"Accuracy: %.2f%%\" % (accuracy_score(y_test, predictions)*100))\n",
        "print(classification_report(y_test, predictions))\n",
        "pd.DataFrame(confusion_matrix(y_test, predictions))"
      ],
      "metadata": {
        "colab": {
          "base_uri": "https://localhost:8080/",
          "height": 290
        },
        "id": "g-MO9yzRNHrT",
        "outputId": "baaedebf-b7ea-4272-b8f6-7bb6474bc846"
      },
      "execution_count": null,
      "outputs": [
        {
          "output_type": "stream",
          "name": "stdout",
          "text": [
            "Accuracy: 82.33%\n",
            "              precision    recall  f1-score   support\n",
            "\n",
            "           0       0.82      0.84      0.83      4455\n",
            "           1       0.82      0.81      0.81      4131\n",
            "\n",
            "    accuracy                           0.82      8586\n",
            "   macro avg       0.82      0.82      0.82      8586\n",
            "weighted avg       0.82      0.82      0.82      8586\n",
            "\n"
          ]
        },
        {
          "output_type": "execute_result",
          "data": {
            "text/plain": [
              "      0     1\n",
              "0  3731   724\n",
              "1   793  3338"
            ],
            "text/html": [
              "\n",
              "  <div id=\"df-48d2c756-992f-42a3-b372-3ae0f7512512\">\n",
              "    <div class=\"colab-df-container\">\n",
              "      <div>\n",
              "<style scoped>\n",
              "    .dataframe tbody tr th:only-of-type {\n",
              "        vertical-align: middle;\n",
              "    }\n",
              "\n",
              "    .dataframe tbody tr th {\n",
              "        vertical-align: top;\n",
              "    }\n",
              "\n",
              "    .dataframe thead th {\n",
              "        text-align: right;\n",
              "    }\n",
              "</style>\n",
              "<table border=\"1\" class=\"dataframe\">\n",
              "  <thead>\n",
              "    <tr style=\"text-align: right;\">\n",
              "      <th></th>\n",
              "      <th>0</th>\n",
              "      <th>1</th>\n",
              "    </tr>\n",
              "  </thead>\n",
              "  <tbody>\n",
              "    <tr>\n",
              "      <th>0</th>\n",
              "      <td>3731</td>\n",
              "      <td>724</td>\n",
              "    </tr>\n",
              "    <tr>\n",
              "      <th>1</th>\n",
              "      <td>793</td>\n",
              "      <td>3338</td>\n",
              "    </tr>\n",
              "  </tbody>\n",
              "</table>\n",
              "</div>\n",
              "      <button class=\"colab-df-convert\" onclick=\"convertToInteractive('df-48d2c756-992f-42a3-b372-3ae0f7512512')\"\n",
              "              title=\"Convert this dataframe to an interactive table.\"\n",
              "              style=\"display:none;\">\n",
              "        \n",
              "  <svg xmlns=\"http://www.w3.org/2000/svg\" height=\"24px\"viewBox=\"0 0 24 24\"\n",
              "       width=\"24px\">\n",
              "    <path d=\"M0 0h24v24H0V0z\" fill=\"none\"/>\n",
              "    <path d=\"M18.56 5.44l.94 2.06.94-2.06 2.06-.94-2.06-.94-.94-2.06-.94 2.06-2.06.94zm-11 1L8.5 8.5l.94-2.06 2.06-.94-2.06-.94L8.5 2.5l-.94 2.06-2.06.94zm10 10l.94 2.06.94-2.06 2.06-.94-2.06-.94-.94-2.06-.94 2.06-2.06.94z\"/><path d=\"M17.41 7.96l-1.37-1.37c-.4-.4-.92-.59-1.43-.59-.52 0-1.04.2-1.43.59L10.3 9.45l-7.72 7.72c-.78.78-.78 2.05 0 2.83L4 21.41c.39.39.9.59 1.41.59.51 0 1.02-.2 1.41-.59l7.78-7.78 2.81-2.81c.8-.78.8-2.07 0-2.86zM5.41 20L4 18.59l7.72-7.72 1.47 1.35L5.41 20z\"/>\n",
              "  </svg>\n",
              "      </button>\n",
              "      \n",
              "  <style>\n",
              "    .colab-df-container {\n",
              "      display:flex;\n",
              "      flex-wrap:wrap;\n",
              "      gap: 12px;\n",
              "    }\n",
              "\n",
              "    .colab-df-convert {\n",
              "      background-color: #E8F0FE;\n",
              "      border: none;\n",
              "      border-radius: 50%;\n",
              "      cursor: pointer;\n",
              "      display: none;\n",
              "      fill: #1967D2;\n",
              "      height: 32px;\n",
              "      padding: 0 0 0 0;\n",
              "      width: 32px;\n",
              "    }\n",
              "\n",
              "    .colab-df-convert:hover {\n",
              "      background-color: #E2EBFA;\n",
              "      box-shadow: 0px 1px 2px rgba(60, 64, 67, 0.3), 0px 1px 3px 1px rgba(60, 64, 67, 0.15);\n",
              "      fill: #174EA6;\n",
              "    }\n",
              "\n",
              "    [theme=dark] .colab-df-convert {\n",
              "      background-color: #3B4455;\n",
              "      fill: #D2E3FC;\n",
              "    }\n",
              "\n",
              "    [theme=dark] .colab-df-convert:hover {\n",
              "      background-color: #434B5C;\n",
              "      box-shadow: 0px 1px 3px 1px rgba(0, 0, 0, 0.15);\n",
              "      filter: drop-shadow(0px 1px 2px rgba(0, 0, 0, 0.3));\n",
              "      fill: #FFFFFF;\n",
              "    }\n",
              "  </style>\n",
              "\n",
              "      <script>\n",
              "        const buttonEl =\n",
              "          document.querySelector('#df-48d2c756-992f-42a3-b372-3ae0f7512512 button.colab-df-convert');\n",
              "        buttonEl.style.display =\n",
              "          google.colab.kernel.accessAllowed ? 'block' : 'none';\n",
              "\n",
              "        async function convertToInteractive(key) {\n",
              "          const element = document.querySelector('#df-48d2c756-992f-42a3-b372-3ae0f7512512');\n",
              "          const dataTable =\n",
              "            await google.colab.kernel.invokeFunction('convertToInteractive',\n",
              "                                                     [key], {});\n",
              "          if (!dataTable) return;\n",
              "\n",
              "          const docLinkHtml = 'Like what you see? Visit the ' +\n",
              "            '<a target=\"_blank\" href=https://colab.research.google.com/notebooks/data_table.ipynb>data table notebook</a>'\n",
              "            + ' to learn more about interactive tables.';\n",
              "          element.innerHTML = '';\n",
              "          dataTable['output_type'] = 'display_data';\n",
              "          await google.colab.output.renderOutput(dataTable, element);\n",
              "          const docLink = document.createElement('div');\n",
              "          docLink.innerHTML = docLinkHtml;\n",
              "          element.appendChild(docLink);\n",
              "        }\n",
              "      </script>\n",
              "    </div>\n",
              "  </div>\n",
              "  "
            ]
          },
          "metadata": {},
          "execution_count": 55
        }
      ]
    },
    {
      "cell_type": "markdown",
      "source": [
        "### NNLM Universal Embedding"
      ],
      "metadata": {
        "id": "mi7VLb80QwZV"
      }
    },
    {
      "cell_type": "code",
      "source": [
        "model_nnlm = \"https://tfhub.dev/google/tf2-preview/nnlm-en-dim128/1\"\n",
        "hub_layer = hub.KerasLayer(model_nnlm, output_shape=[128], input_shape=[],\n",
        "                           dtype=tf.string, trainable=True)"
      ],
      "metadata": {
        "id": "IOyEbHP7Nfha"
      },
      "execution_count": null,
      "outputs": []
    },
    {
      "cell_type": "code",
      "source": [
        "model_nnlm = tf.keras.models.Sequential()\n",
        "\n",
        "model_nnlm.add(hub_layer)\n",
        "\n",
        "model_nnlm.add(tf.keras.layers.Dense(128, activation='relu'))\n",
        "model_nnlm.add(tf.keras.layers.Dropout(0.25))\n",
        "model_nnlm.add(tf.keras.layers.Dense(128, activation='relu'))\n",
        "model_nnlm.add(tf.keras.layers.Dropout(0.25))\n",
        "\n",
        "model_nnlm.add(tf.keras.layers.Dense(1, activation='sigmoid'))\n",
        "\n",
        "model_nnlm.compile(loss='binary_crossentropy', optimizer='adam', metrics=['accuracy'])\n",
        "model_nnlm.summary()"
      ],
      "metadata": {
        "colab": {
          "base_uri": "https://localhost:8080/"
        },
        "id": "RoNhZggZQ2Dl",
        "outputId": "ba6369c2-f115-41c6-cbac-49f9d29340fb"
      },
      "execution_count": null,
      "outputs": [
        {
          "output_type": "stream",
          "name": "stdout",
          "text": [
            "Model: \"sequential_6\"\n",
            "_________________________________________________________________\n",
            " Layer (type)                Output Shape              Param #   \n",
            "=================================================================\n",
            " keras_layer (KerasLayer)    (None, 128)               124642688 \n",
            "                                                                 \n",
            " dense_12 (Dense)            (None, 128)               16512     \n",
            "                                                                 \n",
            " dropout_4 (Dropout)         (None, 128)               0         \n",
            "                                                                 \n",
            " dense_13 (Dense)            (None, 128)               16512     \n",
            "                                                                 \n",
            " dropout_5 (Dropout)         (None, 128)               0         \n",
            "                                                                 \n",
            " dense_14 (Dense)            (None, 1)                 129       \n",
            "                                                                 \n",
            "=================================================================\n",
            "Total params: 124,675,841\n",
            "Trainable params: 124,675,841\n",
            "Non-trainable params: 0\n",
            "_________________________________________________________________\n"
          ]
        }
      ]
    },
    {
      "cell_type": "code",
      "source": [
        "EPOCHS=10\n",
        "BATCH_SIZE=128"
      ],
      "metadata": {
        "id": "woTpSPfgRCNw"
      },
      "execution_count": null,
      "outputs": []
    },
    {
      "cell_type": "code",
      "source": [
        "#tf.config.run_functions_eagerly(True)"
      ],
      "metadata": {
        "id": "JY2NwVpLRDg0"
      },
      "execution_count": null,
      "outputs": []
    },
    {
      "cell_type": "code",
      "source": [
        "model_nnlm.fit(X_train['Clean Headline'].values, y_train,\n",
        "          epochs=EPOCHS,\n",
        "          batch_size=BATCH_SIZE,\n",
        "          shuffle=True,\n",
        "          verbose=1)"
      ],
      "metadata": {
        "colab": {
          "base_uri": "https://localhost:8080/"
        },
        "id": "IbuT5IDfRFnd",
        "outputId": "00b865d8-5b2a-4f8d-b871-008cb53354de"
      },
      "execution_count": null,
      "outputs": [
        {
          "output_type": "stream",
          "name": "stdout",
          "text": [
            "Epoch 1/10\n",
            "157/157 [==============================] - 21s 125ms/step - loss: 0.4265 - accuracy: 0.8056\n",
            "Epoch 2/10\n",
            "157/157 [==============================] - 9s 59ms/step - loss: 0.2089 - accuracy: 0.9197\n",
            "Epoch 3/10\n",
            "157/157 [==============================] - 7s 44ms/step - loss: 0.1048 - accuracy: 0.9639\n",
            "Epoch 4/10\n",
            "157/157 [==============================] - 7s 42ms/step - loss: 0.0537 - accuracy: 0.9819\n",
            "Epoch 5/10\n",
            "157/157 [==============================] - 7s 42ms/step - loss: 0.0286 - accuracy: 0.9905\n",
            "Epoch 6/10\n",
            "157/157 [==============================] - 6s 38ms/step - loss: 0.0150 - accuracy: 0.9949\n",
            "Epoch 7/10\n",
            "157/157 [==============================] - 6s 41ms/step - loss: 0.0107 - accuracy: 0.9962\n",
            "Epoch 8/10\n",
            "157/157 [==============================] - 6s 36ms/step - loss: 0.0079 - accuracy: 0.9975\n",
            "Epoch 9/10\n",
            "157/157 [==============================] - 6s 38ms/step - loss: 0.0043 - accuracy: 0.9989\n",
            "Epoch 10/10\n",
            "157/157 [==============================] - 6s 37ms/step - loss: 0.0036 - accuracy: 0.9988\n"
          ]
        },
        {
          "output_type": "execute_result",
          "data": {
            "text/plain": [
              "<keras.callbacks.History at 0x7fda80a55ea0>"
            ]
          },
          "metadata": {},
          "execution_count": 58
        }
      ]
    },
    {
      "cell_type": "code",
      "source": [
        "predictions = model_nnlm.predict(X_test['Clean Headline'].values, batch_size=2048, verbose=0).ravel()\n",
        "predictions = [1 if prob > 0.5 else 0 for prob in predictions]\n",
        "print(\"Accuracy: %.2f%%\" % (accuracy_score(y_test, predictions)*100))\n",
        "print(classification_report(y_test, predictions))\n",
        "pd.DataFrame(confusion_matrix(y_test, predictions))"
      ],
      "metadata": {
        "colab": {
          "base_uri": "https://localhost:8080/",
          "height": 290
        },
        "id": "Yvkb6FzRRyEs",
        "outputId": "578d7c2c-adc8-4502-87d6-4a9ea0b9ac70"
      },
      "execution_count": null,
      "outputs": [
        {
          "output_type": "stream",
          "name": "stdout",
          "text": [
            "Accuracy: 83.44%\n",
            "              precision    recall  f1-score   support\n",
            "\n",
            "           0       0.82      0.87      0.85      4455\n",
            "           1       0.85      0.80      0.82      4131\n",
            "\n",
            "    accuracy                           0.83      8586\n",
            "   macro avg       0.84      0.83      0.83      8586\n",
            "weighted avg       0.84      0.83      0.83      8586\n",
            "\n"
          ]
        },
        {
          "output_type": "execute_result",
          "data": {
            "text/plain": [
              "      0     1\n",
              "0  3879   576\n",
              "1   846  3285"
            ],
            "text/html": [
              "\n",
              "  <div id=\"df-7cb72b81-831d-4a5d-b773-f90fc5000662\">\n",
              "    <div class=\"colab-df-container\">\n",
              "      <div>\n",
              "<style scoped>\n",
              "    .dataframe tbody tr th:only-of-type {\n",
              "        vertical-align: middle;\n",
              "    }\n",
              "\n",
              "    .dataframe tbody tr th {\n",
              "        vertical-align: top;\n",
              "    }\n",
              "\n",
              "    .dataframe thead th {\n",
              "        text-align: right;\n",
              "    }\n",
              "</style>\n",
              "<table border=\"1\" class=\"dataframe\">\n",
              "  <thead>\n",
              "    <tr style=\"text-align: right;\">\n",
              "      <th></th>\n",
              "      <th>0</th>\n",
              "      <th>1</th>\n",
              "    </tr>\n",
              "  </thead>\n",
              "  <tbody>\n",
              "    <tr>\n",
              "      <th>0</th>\n",
              "      <td>3879</td>\n",
              "      <td>576</td>\n",
              "    </tr>\n",
              "    <tr>\n",
              "      <th>1</th>\n",
              "      <td>846</td>\n",
              "      <td>3285</td>\n",
              "    </tr>\n",
              "  </tbody>\n",
              "</table>\n",
              "</div>\n",
              "      <button class=\"colab-df-convert\" onclick=\"convertToInteractive('df-7cb72b81-831d-4a5d-b773-f90fc5000662')\"\n",
              "              title=\"Convert this dataframe to an interactive table.\"\n",
              "              style=\"display:none;\">\n",
              "        \n",
              "  <svg xmlns=\"http://www.w3.org/2000/svg\" height=\"24px\"viewBox=\"0 0 24 24\"\n",
              "       width=\"24px\">\n",
              "    <path d=\"M0 0h24v24H0V0z\" fill=\"none\"/>\n",
              "    <path d=\"M18.56 5.44l.94 2.06.94-2.06 2.06-.94-2.06-.94-.94-2.06-.94 2.06-2.06.94zm-11 1L8.5 8.5l.94-2.06 2.06-.94-2.06-.94L8.5 2.5l-.94 2.06-2.06.94zm10 10l.94 2.06.94-2.06 2.06-.94-2.06-.94-.94-2.06-.94 2.06-2.06.94z\"/><path d=\"M17.41 7.96l-1.37-1.37c-.4-.4-.92-.59-1.43-.59-.52 0-1.04.2-1.43.59L10.3 9.45l-7.72 7.72c-.78.78-.78 2.05 0 2.83L4 21.41c.39.39.9.59 1.41.59.51 0 1.02-.2 1.41-.59l7.78-7.78 2.81-2.81c.8-.78.8-2.07 0-2.86zM5.41 20L4 18.59l7.72-7.72 1.47 1.35L5.41 20z\"/>\n",
              "  </svg>\n",
              "      </button>\n",
              "      \n",
              "  <style>\n",
              "    .colab-df-container {\n",
              "      display:flex;\n",
              "      flex-wrap:wrap;\n",
              "      gap: 12px;\n",
              "    }\n",
              "\n",
              "    .colab-df-convert {\n",
              "      background-color: #E8F0FE;\n",
              "      border: none;\n",
              "      border-radius: 50%;\n",
              "      cursor: pointer;\n",
              "      display: none;\n",
              "      fill: #1967D2;\n",
              "      height: 32px;\n",
              "      padding: 0 0 0 0;\n",
              "      width: 32px;\n",
              "    }\n",
              "\n",
              "    .colab-df-convert:hover {\n",
              "      background-color: #E2EBFA;\n",
              "      box-shadow: 0px 1px 2px rgba(60, 64, 67, 0.3), 0px 1px 3px 1px rgba(60, 64, 67, 0.15);\n",
              "      fill: #174EA6;\n",
              "    }\n",
              "\n",
              "    [theme=dark] .colab-df-convert {\n",
              "      background-color: #3B4455;\n",
              "      fill: #D2E3FC;\n",
              "    }\n",
              "\n",
              "    [theme=dark] .colab-df-convert:hover {\n",
              "      background-color: #434B5C;\n",
              "      box-shadow: 0px 1px 3px 1px rgba(0, 0, 0, 0.15);\n",
              "      filter: drop-shadow(0px 1px 2px rgba(0, 0, 0, 0.3));\n",
              "      fill: #FFFFFF;\n",
              "    }\n",
              "  </style>\n",
              "\n",
              "      <script>\n",
              "        const buttonEl =\n",
              "          document.querySelector('#df-7cb72b81-831d-4a5d-b773-f90fc5000662 button.colab-df-convert');\n",
              "        buttonEl.style.display =\n",
              "          google.colab.kernel.accessAllowed ? 'block' : 'none';\n",
              "\n",
              "        async function convertToInteractive(key) {\n",
              "          const element = document.querySelector('#df-7cb72b81-831d-4a5d-b773-f90fc5000662');\n",
              "          const dataTable =\n",
              "            await google.colab.kernel.invokeFunction('convertToInteractive',\n",
              "                                                     [key], {});\n",
              "          if (!dataTable) return;\n",
              "\n",
              "          const docLinkHtml = 'Like what you see? Visit the ' +\n",
              "            '<a target=\"_blank\" href=https://colab.research.google.com/notebooks/data_table.ipynb>data table notebook</a>'\n",
              "            + ' to learn more about interactive tables.';\n",
              "          element.innerHTML = '';\n",
              "          dataTable['output_type'] = 'display_data';\n",
              "          await google.colab.output.renderOutput(dataTable, element);\n",
              "          const docLink = document.createElement('div');\n",
              "          docLink.innerHTML = docLinkHtml;\n",
              "          element.appendChild(docLink);\n",
              "        }\n",
              "      </script>\n",
              "    </div>\n",
              "  </div>\n",
              "  "
            ]
          },
          "metadata": {},
          "execution_count": 60
        }
      ]
    },
    {
      "cell_type": "markdown",
      "source": [
        "### Google's Universal Sentence Encoder"
      ],
      "metadata": {
        "id": "ZY61fwb_UrYV"
      }
    },
    {
      "cell_type": "code",
      "source": [
        "model = \"https://tfhub.dev/google/universal-sentence-encoder/4\"\n",
        "hub_layer = hub.KerasLayer(model, output_shape=[512], input_shape=[],\n",
        "                           dtype=tf.string, trainable=True)"
      ],
      "metadata": {
        "id": "pPwC0mBbU3SE"
      },
      "execution_count": null,
      "outputs": []
    },
    {
      "cell_type": "code",
      "source": [
        "model_use = tf.keras.models.Sequential()\n",
        "\n",
        "model_use.add(hub_layer)\n",
        "\n",
        "model_use.add(tf.keras.layers.Dense(256, activation='relu'))\n",
        "model_use.add(tf.keras.layers.Dropout(0.25))\n",
        "model_use.add(tf.keras.layers.Dense(256, activation='relu'))\n",
        "model_use.add(tf.keras.layers.Dropout(0.25))\n",
        "\n",
        "model_use.add(tf.keras.layers.Dense(1, activation='sigmoid'))\n",
        "\n",
        "model_use.compile(loss='binary_crossentropy', optimizer='adam', metrics=['accuracy'])\n",
        "model_use.summary()"
      ],
      "metadata": {
        "colab": {
          "base_uri": "https://localhost:8080/"
        },
        "id": "y0raOsoRVHxG",
        "outputId": "ec213c5f-5393-4c5b-86ed-0c3d450b1104"
      },
      "execution_count": null,
      "outputs": [
        {
          "output_type": "stream",
          "name": "stdout",
          "text": [
            "Model: \"sequential_7\"\n",
            "_________________________________________________________________\n",
            " Layer (type)                Output Shape              Param #   \n",
            "=================================================================\n",
            " keras_layer_1 (KerasLayer)  (None, 512)               256797824 \n",
            "                                                                 \n",
            " dense_15 (Dense)            (None, 256)               131328    \n",
            "                                                                 \n",
            " dropout_6 (Dropout)         (None, 256)               0         \n",
            "                                                                 \n",
            " dense_16 (Dense)            (None, 256)               65792     \n",
            "                                                                 \n",
            " dropout_7 (Dropout)         (None, 256)               0         \n",
            "                                                                 \n",
            " dense_17 (Dense)            (None, 1)                 257       \n",
            "                                                                 \n",
            "=================================================================\n",
            "Total params: 256,995,201\n",
            "Trainable params: 256,995,201\n",
            "Non-trainable params: 0\n",
            "_________________________________________________________________\n"
          ]
        }
      ]
    },
    {
      "cell_type": "code",
      "source": [
        "EPOCHS=8\n",
        "BATCH_SIZE=128"
      ],
      "metadata": {
        "id": "82a9YKcmVeNZ"
      },
      "execution_count": null,
      "outputs": []
    },
    {
      "cell_type": "code",
      "source": [
        "model_use.fit(X_train['Clean Headline'], y_train,\n",
        "          epochs=EPOCHS,\n",
        "          batch_size=BATCH_SIZE,\n",
        "          shuffle=True,\n",
        "          verbose=1)"
      ],
      "metadata": {
        "colab": {
          "base_uri": "https://localhost:8080/"
        },
        "id": "w5l-AHXmVf0y",
        "outputId": "94e01c96-aba2-4882-e9cd-db7c8ce5d6e1"
      },
      "execution_count": null,
      "outputs": [
        {
          "output_type": "stream",
          "name": "stdout",
          "text": [
            "Epoch 1/8\n",
            "157/157 [==============================] - 21s 132ms/step - loss: 8.2562e-04 - accuracy: 0.9997\n",
            "Epoch 2/8\n",
            "157/157 [==============================] - 21s 131ms/step - loss: 3.4534e-04 - accuracy: 1.0000\n",
            "Epoch 3/8\n",
            "157/157 [==============================] - 20s 127ms/step - loss: 2.6844e-05 - accuracy: 1.0000\n",
            "Epoch 4/8\n",
            "157/157 [==============================] - 18s 113ms/step - loss: 1.7770e-05 - accuracy: 1.0000\n",
            "Epoch 5/8\n",
            "157/157 [==============================] - 18s 115ms/step - loss: 1.3097e-05 - accuracy: 1.0000\n",
            "Epoch 6/8\n",
            "157/157 [==============================] - 18s 113ms/step - loss: 1.0755e-05 - accuracy: 1.0000\n",
            "Epoch 7/8\n",
            "157/157 [==============================] - 18s 115ms/step - loss: 7.7757e-06 - accuracy: 1.0000\n",
            "Epoch 8/8\n",
            "157/157 [==============================] - 19s 119ms/step - loss: 6.7163e-06 - accuracy: 1.0000\n"
          ]
        },
        {
          "output_type": "execute_result",
          "data": {
            "text/plain": [
              "<keras.callbacks.History at 0x7fdab473cc40>"
            ]
          },
          "metadata": {},
          "execution_count": 67
        }
      ]
    },
    {
      "cell_type": "code",
      "source": [
        "predictions = model_use.predict(X_test['Clean Headline'], batch_size=512, verbose=0).ravel()\n",
        "predictions = [1 if prob > 0.5 else 0 for prob in predictions]\n",
        "print(\"Accuracy: %.2f%%\" % (accuracy_score(y_test, predictions)*100))\n",
        "print(classification_report(y_test, predictions))\n",
        "pd.DataFrame(confusion_matrix(y_test, predictions))"
      ],
      "metadata": {
        "colab": {
          "base_uri": "https://localhost:8080/",
          "height": 290
        },
        "id": "COIjGwCgVr-r",
        "outputId": "883fc5d7-a763-405e-fd21-cca9ec99b2ca"
      },
      "execution_count": null,
      "outputs": [
        {
          "output_type": "stream",
          "name": "stdout",
          "text": [
            "Accuracy: 87.39%\n",
            "              precision    recall  f1-score   support\n",
            "\n",
            "           0       0.88      0.87      0.88      4455\n",
            "           1       0.86      0.87      0.87      4131\n",
            "\n",
            "    accuracy                           0.87      8586\n",
            "   macro avg       0.87      0.87      0.87      8586\n",
            "weighted avg       0.87      0.87      0.87      8586\n",
            "\n"
          ]
        },
        {
          "output_type": "execute_result",
          "data": {
            "text/plain": [
              "      0     1\n",
              "0  3890   565\n",
              "1   518  3613"
            ],
            "text/html": [
              "\n",
              "  <div id=\"df-f0ccf9ee-6365-4c64-bff5-18e60bae772d\">\n",
              "    <div class=\"colab-df-container\">\n",
              "      <div>\n",
              "<style scoped>\n",
              "    .dataframe tbody tr th:only-of-type {\n",
              "        vertical-align: middle;\n",
              "    }\n",
              "\n",
              "    .dataframe tbody tr th {\n",
              "        vertical-align: top;\n",
              "    }\n",
              "\n",
              "    .dataframe thead th {\n",
              "        text-align: right;\n",
              "    }\n",
              "</style>\n",
              "<table border=\"1\" class=\"dataframe\">\n",
              "  <thead>\n",
              "    <tr style=\"text-align: right;\">\n",
              "      <th></th>\n",
              "      <th>0</th>\n",
              "      <th>1</th>\n",
              "    </tr>\n",
              "  </thead>\n",
              "  <tbody>\n",
              "    <tr>\n",
              "      <th>0</th>\n",
              "      <td>3890</td>\n",
              "      <td>565</td>\n",
              "    </tr>\n",
              "    <tr>\n",
              "      <th>1</th>\n",
              "      <td>518</td>\n",
              "      <td>3613</td>\n",
              "    </tr>\n",
              "  </tbody>\n",
              "</table>\n",
              "</div>\n",
              "      <button class=\"colab-df-convert\" onclick=\"convertToInteractive('df-f0ccf9ee-6365-4c64-bff5-18e60bae772d')\"\n",
              "              title=\"Convert this dataframe to an interactive table.\"\n",
              "              style=\"display:none;\">\n",
              "        \n",
              "  <svg xmlns=\"http://www.w3.org/2000/svg\" height=\"24px\"viewBox=\"0 0 24 24\"\n",
              "       width=\"24px\">\n",
              "    <path d=\"M0 0h24v24H0V0z\" fill=\"none\"/>\n",
              "    <path d=\"M18.56 5.44l.94 2.06.94-2.06 2.06-.94-2.06-.94-.94-2.06-.94 2.06-2.06.94zm-11 1L8.5 8.5l.94-2.06 2.06-.94-2.06-.94L8.5 2.5l-.94 2.06-2.06.94zm10 10l.94 2.06.94-2.06 2.06-.94-2.06-.94-.94-2.06-.94 2.06-2.06.94z\"/><path d=\"M17.41 7.96l-1.37-1.37c-.4-.4-.92-.59-1.43-.59-.52 0-1.04.2-1.43.59L10.3 9.45l-7.72 7.72c-.78.78-.78 2.05 0 2.83L4 21.41c.39.39.9.59 1.41.59.51 0 1.02-.2 1.41-.59l7.78-7.78 2.81-2.81c.8-.78.8-2.07 0-2.86zM5.41 20L4 18.59l7.72-7.72 1.47 1.35L5.41 20z\"/>\n",
              "  </svg>\n",
              "      </button>\n",
              "      \n",
              "  <style>\n",
              "    .colab-df-container {\n",
              "      display:flex;\n",
              "      flex-wrap:wrap;\n",
              "      gap: 12px;\n",
              "    }\n",
              "\n",
              "    .colab-df-convert {\n",
              "      background-color: #E8F0FE;\n",
              "      border: none;\n",
              "      border-radius: 50%;\n",
              "      cursor: pointer;\n",
              "      display: none;\n",
              "      fill: #1967D2;\n",
              "      height: 32px;\n",
              "      padding: 0 0 0 0;\n",
              "      width: 32px;\n",
              "    }\n",
              "\n",
              "    .colab-df-convert:hover {\n",
              "      background-color: #E2EBFA;\n",
              "      box-shadow: 0px 1px 2px rgba(60, 64, 67, 0.3), 0px 1px 3px 1px rgba(60, 64, 67, 0.15);\n",
              "      fill: #174EA6;\n",
              "    }\n",
              "\n",
              "    [theme=dark] .colab-df-convert {\n",
              "      background-color: #3B4455;\n",
              "      fill: #D2E3FC;\n",
              "    }\n",
              "\n",
              "    [theme=dark] .colab-df-convert:hover {\n",
              "      background-color: #434B5C;\n",
              "      box-shadow: 0px 1px 3px 1px rgba(0, 0, 0, 0.15);\n",
              "      filter: drop-shadow(0px 1px 2px rgba(0, 0, 0, 0.3));\n",
              "      fill: #FFFFFF;\n",
              "    }\n",
              "  </style>\n",
              "\n",
              "      <script>\n",
              "        const buttonEl =\n",
              "          document.querySelector('#df-f0ccf9ee-6365-4c64-bff5-18e60bae772d button.colab-df-convert');\n",
              "        buttonEl.style.display =\n",
              "          google.colab.kernel.accessAllowed ? 'block' : 'none';\n",
              "\n",
              "        async function convertToInteractive(key) {\n",
              "          const element = document.querySelector('#df-f0ccf9ee-6365-4c64-bff5-18e60bae772d');\n",
              "          const dataTable =\n",
              "            await google.colab.kernel.invokeFunction('convertToInteractive',\n",
              "                                                     [key], {});\n",
              "          if (!dataTable) return;\n",
              "\n",
              "          const docLinkHtml = 'Like what you see? Visit the ' +\n",
              "            '<a target=\"_blank\" href=https://colab.research.google.com/notebooks/data_table.ipynb>data table notebook</a>'\n",
              "            + ' to learn more about interactive tables.';\n",
              "          element.innerHTML = '';\n",
              "          dataTable['output_type'] = 'display_data';\n",
              "          await google.colab.output.renderOutput(dataTable, element);\n",
              "          const docLink = document.createElement('div');\n",
              "          docLink.innerHTML = docLinkHtml;\n",
              "          element.appendChild(docLink);\n",
              "        }\n",
              "      </script>\n",
              "    </div>\n",
              "  </div>\n",
              "  "
            ]
          },
          "metadata": {},
          "execution_count": 68
        }
      ]
    },
    {
      "cell_type": "markdown",
      "source": [
        "### BERT"
      ],
      "metadata": {
        "id": "LG4KeGJkR7uJ"
      }
    },
    {
      "cell_type": "code",
      "source": [
        "!pip install transformers --ignore-installed"
      ],
      "metadata": {
        "colab": {
          "base_uri": "https://localhost:8080/",
          "height": 1000
        },
        "id": "5qI744MwYj4K",
        "outputId": "d26f8918-78c4-4f11-e55f-72a50a2687a9"
      },
      "execution_count": null,
      "outputs": [
        {
          "output_type": "stream",
          "name": "stdout",
          "text": [
            "Looking in indexes: https://pypi.org/simple, https://us-python.pkg.dev/colab-wheels/public/simple/\n",
            "Collecting transformers\n",
            "  Downloading transformers-4.30.2-py3-none-any.whl (7.2 MB)\n",
            "\u001b[2K     \u001b[90m━━━━━━━━━━━━━━━━━━━━━━━━━━━━━━━━━━━━━━━━\u001b[0m \u001b[32m7.2/7.2 MB\u001b[0m \u001b[31m91.6 MB/s\u001b[0m eta \u001b[36m0:00:00\u001b[0m\n",
            "\u001b[?25hCollecting filelock (from transformers)\n",
            "  Downloading filelock-3.12.2-py3-none-any.whl (10 kB)\n",
            "Collecting huggingface-hub<1.0,>=0.14.1 (from transformers)\n",
            "  Downloading huggingface_hub-0.15.1-py3-none-any.whl (236 kB)\n",
            "\u001b[2K     \u001b[90m━━━━━━━━━━━━━━━━━━━━━━━━━━━━━━━━━━━━━━\u001b[0m \u001b[32m236.8/236.8 kB\u001b[0m \u001b[31m25.2 MB/s\u001b[0m eta \u001b[36m0:00:00\u001b[0m\n",
            "\u001b[?25hCollecting numpy>=1.17 (from transformers)\n",
            "  Downloading numpy-1.25.0-cp310-cp310-manylinux_2_17_x86_64.manylinux2014_x86_64.whl (17.6 MB)\n",
            "\u001b[2K     \u001b[90m━━━━━━━━━━━━━━━━━━━━━━━━━━━━━━━━━━━━━━━━\u001b[0m \u001b[32m17.6/17.6 MB\u001b[0m \u001b[31m85.7 MB/s\u001b[0m eta \u001b[36m0:00:00\u001b[0m\n",
            "\u001b[?25hCollecting packaging>=20.0 (from transformers)\n",
            "  Downloading packaging-23.1-py3-none-any.whl (48 kB)\n",
            "\u001b[2K     \u001b[90m━━━━━━━━━━━━━━━━━━━━━━━━━━━━━━━━━━━━━━━━\u001b[0m \u001b[32m48.9/48.9 kB\u001b[0m \u001b[31m5.3 MB/s\u001b[0m eta \u001b[36m0:00:00\u001b[0m\n",
            "\u001b[?25hCollecting pyyaml>=5.1 (from transformers)\n",
            "  Downloading PyYAML-6.0-cp310-cp310-manylinux_2_5_x86_64.manylinux1_x86_64.manylinux_2_12_x86_64.manylinux2010_x86_64.whl (682 kB)\n",
            "\u001b[2K     \u001b[90m━━━━━━━━━━━━━━━━━━━━━━━━━━━━━━━━━━━━━━\u001b[0m \u001b[32m682.2/682.2 kB\u001b[0m \u001b[31m57.4 MB/s\u001b[0m eta \u001b[36m0:00:00\u001b[0m\n",
            "\u001b[?25hCollecting regex!=2019.12.17 (from transformers)\n",
            "  Downloading regex-2023.6.3-cp310-cp310-manylinux_2_17_x86_64.manylinux2014_x86_64.whl (770 kB)\n",
            "\u001b[2K     \u001b[90m━━━━━━━━━━━━━━━━━━━━━━━━━━━━━━━━━━━━━━\u001b[0m \u001b[32m770.4/770.4 kB\u001b[0m \u001b[31m54.5 MB/s\u001b[0m eta \u001b[36m0:00:00\u001b[0m\n",
            "\u001b[?25hCollecting requests (from transformers)\n",
            "  Downloading requests-2.31.0-py3-none-any.whl (62 kB)\n",
            "\u001b[2K     \u001b[90m━━━━━━━━━━━━━━━━━━━━━━━━━━━━━━━━━━━━━━━━\u001b[0m \u001b[32m62.6/62.6 kB\u001b[0m \u001b[31m6.8 MB/s\u001b[0m eta \u001b[36m0:00:00\u001b[0m\n",
            "\u001b[?25hCollecting tokenizers!=0.11.3,<0.14,>=0.11.1 (from transformers)\n",
            "  Downloading tokenizers-0.13.3-cp310-cp310-manylinux_2_17_x86_64.manylinux2014_x86_64.whl (7.8 MB)\n",
            "\u001b[2K     \u001b[90m━━━━━━━━━━━━━━━━━━━━━━━━━━━━━━━━━━━━━━━━\u001b[0m \u001b[32m7.8/7.8 MB\u001b[0m \u001b[31m83.7 MB/s\u001b[0m eta \u001b[36m0:00:00\u001b[0m\n",
            "\u001b[?25hCollecting safetensors>=0.3.1 (from transformers)\n",
            "  Downloading safetensors-0.3.1-cp310-cp310-manylinux_2_17_x86_64.manylinux2014_x86_64.whl (1.3 MB)\n",
            "\u001b[2K     \u001b[90m━━━━━━━━━━━━━━━━━━━━━━━━━━━━━━━━━━━━━━━━\u001b[0m \u001b[32m1.3/1.3 MB\u001b[0m \u001b[31m78.5 MB/s\u001b[0m eta \u001b[36m0:00:00\u001b[0m\n",
            "\u001b[?25hCollecting tqdm>=4.27 (from transformers)\n",
            "  Downloading tqdm-4.65.0-py3-none-any.whl (77 kB)\n",
            "\u001b[2K     \u001b[90m━━━━━━━━━━━━━━━━━━━━━━━━━━━━━━━━━━━━━━━━\u001b[0m \u001b[32m77.1/77.1 kB\u001b[0m \u001b[31m7.9 MB/s\u001b[0m eta \u001b[36m0:00:00\u001b[0m\n",
            "\u001b[?25hCollecting fsspec (from huggingface-hub<1.0,>=0.14.1->transformers)\n",
            "  Downloading fsspec-2023.6.0-py3-none-any.whl (163 kB)\n",
            "\u001b[2K     \u001b[90m━━━━━━━━━━━━━━━━━━━━━━━━━━━━━━━━━━━━━━\u001b[0m \u001b[32m163.8/163.8 kB\u001b[0m \u001b[31m18.6 MB/s\u001b[0m eta \u001b[36m0:00:00\u001b[0m\n",
            "\u001b[?25hCollecting typing-extensions>=3.7.4.3 (from huggingface-hub<1.0,>=0.14.1->transformers)\n",
            "  Downloading typing_extensions-4.6.3-py3-none-any.whl (31 kB)\n",
            "Collecting charset-normalizer<4,>=2 (from requests->transformers)\n",
            "  Downloading charset_normalizer-3.1.0-cp310-cp310-manylinux_2_17_x86_64.manylinux2014_x86_64.whl (199 kB)\n",
            "\u001b[2K     \u001b[90m━━━━━━━━━━━━━━━━━━━━━━━━━━━━━━━━━━━━━━\u001b[0m \u001b[32m199.3/199.3 kB\u001b[0m \u001b[31m23.6 MB/s\u001b[0m eta \u001b[36m0:00:00\u001b[0m\n",
            "\u001b[?25hCollecting idna<4,>=2.5 (from requests->transformers)\n",
            "  Downloading idna-3.4-py3-none-any.whl (61 kB)\n",
            "\u001b[2K     \u001b[90m━━━━━━━━━━━━━━━━━━━━━━━━━━━━━━━━━━━━━━━━\u001b[0m \u001b[32m61.5/61.5 kB\u001b[0m \u001b[31m3.8 MB/s\u001b[0m eta \u001b[36m0:00:00\u001b[0m\n",
            "\u001b[?25hCollecting urllib3<3,>=1.21.1 (from requests->transformers)\n",
            "  Downloading urllib3-2.0.3-py3-none-any.whl (123 kB)\n",
            "\u001b[2K     \u001b[90m━━━━━━━━━━━━━━━━━━━━━━━━━━━━━━━━━━━━━━\u001b[0m \u001b[32m123.6/123.6 kB\u001b[0m \u001b[31m14.8 MB/s\u001b[0m eta \u001b[36m0:00:00\u001b[0m\n",
            "\u001b[?25hCollecting certifi>=2017.4.17 (from requests->transformers)\n",
            "  Downloading certifi-2023.5.7-py3-none-any.whl (156 kB)\n",
            "\u001b[2K     \u001b[90m━━━━━━━━━━━━━━━━━━━━━━━━━━━━━━━━━━━━━━\u001b[0m \u001b[32m157.0/157.0 kB\u001b[0m \u001b[31m19.1 MB/s\u001b[0m eta \u001b[36m0:00:00\u001b[0m\n",
            "\u001b[?25hInstalling collected packages: tokenizers, safetensors, urllib3, typing-extensions, tqdm, regex, pyyaml, packaging, numpy, idna, fsspec, filelock, charset-normalizer, certifi, requests, huggingface-hub, transformers\n",
            "\u001b[31mERROR: pip's dependency resolver does not currently take into account all the packages that are installed. This behaviour is the source of the following dependency conflicts.\n",
            "google-colab 1.0.0 requires requests==2.27.1, but you have requests 2.31.0 which is incompatible.\n",
            "numba 0.56.4 requires numpy<1.24,>=1.18, but you have numpy 1.25.0 which is incompatible.\n",
            "tensorflow 2.12.0 requires numpy<1.24,>=1.22, but you have numpy 1.25.0 which is incompatible.\u001b[0m\u001b[31m\n",
            "\u001b[0mSuccessfully installed certifi-2022.12.7 charset-normalizer-2.0.12 filelock-3.12.0 fsspec-2023.4.0 huggingface-hub-0.15.1 idna-3.4 numpy-1.22.4 packaging-23.1 pyyaml-6.0 regex-2022.10.31 requests-2.27.1 safetensors-0.3.1 tokenizers-0.13.3 tqdm-4.65.0 transformers-4.30.2 typing-extensions-4.5.0 urllib3-1.26.15\n"
          ]
        },
        {
          "output_type": "display_data",
          "data": {
            "application/vnd.colab-display-data+json": {
              "pip_warning": {
                "packages": [
                  "certifi",
                  "charset_normalizer",
                  "fsspec",
                  "numpy",
                  "regex",
                  "requests",
                  "tqdm",
                  "urllib3"
                ]
              }
            }
          },
          "metadata": {}
        }
      ]
    },
    {
      "cell_type": "code",
      "source": [
        "import numpy as np\n",
        "import pandas as pd\n",
        "from sklearn.metrics import classification_report, confusion_matrix,accuracy_score\n",
        "import tensorflow as tf\n",
        "import tensorflow_hub as hub\n",
        "import nltk\n",
        "import matplotlib.pyplot as plt\n",
        "\n",
        "df = df = pd.read_json('./SarcasmDetect.json', lines=True)\n",
        "df = df[df['headline'] != '']\n",
        "\n",
        "X = pd.DataFrame(df['headline'])\n",
        "from sklearn.model_selection import train_test_split\n",
        "X_train, X_test, y_train, y_test = train_test_split(X, df['is_sarcastic'], test_size=0.3, random_state=42)\n",
        "\n",
        "import nltk\n",
        "import contractions\n",
        "import re\n",
        "import tqdm\n",
        "\n",
        "\n",
        "def normalize_document(doc):\n",
        "    doc = doc.translate(doc.maketrans(\"\\n\\t\\r\", \"   \"))\n",
        "    doc = doc.lower()\n",
        "    doc = contractions.fix(doc)\n",
        "    # lower case and remove special characters\\whitespaces\n",
        "    doc = re.sub(r'[^a-zA-Z\\s]', ' ', doc, re.I|re.A)\n",
        "    doc = re.sub(' +', ' ', doc)\n",
        "    doc = doc.strip()\n",
        "\n",
        "    return doc\n",
        "\n",
        "def normalize_corpus(docs):\n",
        "    norm_docs = []\n",
        "    for doc in tqdm.tqdm(docs):\n",
        "        norm_doc = normalize_document(doc)\n",
        "        norm_docs.append(norm_doc)\n",
        "\n",
        "    return norm_docs\n",
        "\n",
        "X_train['Clean Headline'] = normalize_corpus(X_train['headline'].values)\n",
        "X_test['Clean Headline'] = normalize_corpus(X_test['headline'].values)\n",
        "\n",
        "train_clean_text = X_train['Clean Headline']\n",
        "test_clean_text = X_test['Clean Headline']"
      ],
      "metadata": {
        "colab": {
          "base_uri": "https://localhost:8080/"
        },
        "id": "2PPKJ6SXYvgb",
        "outputId": "019cb95e-7987-4658-fa90-f6bf496bdd2a"
      },
      "execution_count": null,
      "outputs": [
        {
          "output_type": "stream",
          "name": "stderr",
          "text": [
            "100%|██████████| 20033/20033 [00:00<00:00, 62241.61it/s]\n",
            "100%|██████████| 8586/8586 [00:00<00:00, 58915.05it/s]\n"
          ]
        }
      ]
    },
    {
      "cell_type": "code",
      "source": [
        "import transformers"
      ],
      "metadata": {
        "id": "Ee9wV_ulZtwz"
      },
      "execution_count": null,
      "outputs": []
    },
    {
      "cell_type": "code",
      "source": [
        "tokenizer = transformers.BertTokenizer.from_pretrained('bert-base-uncased')"
      ],
      "metadata": {
        "id": "GVFMZmHZZxcv"
      },
      "execution_count": null,
      "outputs": []
    },
    {
      "cell_type": "code",
      "source": [
        "def create_bert_input_features(tokenizer, docs, max_seq_length):\n",
        "\n",
        "    all_ids, all_masks, all_segments= [], [], []\n",
        "    for doc in tqdm.tqdm(docs, desc=\"Converting docs to features\"):\n",
        "\n",
        "        tokens = tokenizer.tokenize(doc)\n",
        "\n",
        "        if len(tokens) > max_seq_length-2:\n",
        "            tokens = tokens[0 : (max_seq_length-2)]\n",
        "        # with newer versions of transformers you don't need to explicitely add CLS and SEP\n",
        "        # they are automatically added by the tokenizer\n",
        "        tokens = ['[CLS]'] + tokens + ['[SEP]']\n",
        "        ids = tokenizer.convert_tokens_to_ids(tokens)\n",
        "        masks = [1] * len(ids) # [1,1,1.....] # < 500 ones\n",
        "\n",
        "        # Zero-pad up to the sequence length.\n",
        "        while len(ids) < max_seq_length:\n",
        "            ids.append(0)\n",
        "            masks.append(0)\n",
        "\n",
        "        segments = [0] * max_seq_length # [0,0,0...] # 500 zeros\n",
        "        all_ids.append(ids)\n",
        "        all_masks.append(masks)\n",
        "        all_segments.append(segments)\n",
        "\n",
        "    encoded = np.array([all_ids, all_masks, all_segments])\n",
        "\n",
        "    return encoded"
      ],
      "metadata": {
        "id": "V0IqwEnFZ0H2"
      },
      "execution_count": null,
      "outputs": []
    },
    {
      "cell_type": "code",
      "source": [
        "!pip install -q opencv-python\n",
        "!pip install -q -U \"tensorflow-text==2.9.*\"\n",
        "!pip install -q tf-models-official"
      ],
      "metadata": {
        "colab": {
          "base_uri": "https://localhost:8080/"
        },
        "id": "heuPald5dQEW",
        "outputId": "7fae838c-9c57-4c30-e2ef-acfc8967d786"
      },
      "execution_count": null,
      "outputs": [
        {
          "output_type": "stream",
          "name": "stdout",
          "text": [
            "\u001b[2K     \u001b[90m━━━━━━━━━━━━━━━━━━━━━━━━━━━━━━━━━━━━━━━━\u001b[0m \u001b[32m4.6/4.6 MB\u001b[0m \u001b[31m13.5 MB/s\u001b[0m eta \u001b[36m0:00:00\u001b[0m\n",
            "\u001b[2K     \u001b[90m━━━━━━━━━━━━━━━━━━━━━━━━━━━━━━━━━━━━━━━\u001b[0m \u001b[32m511.8/511.8 MB\u001b[0m \u001b[31m3.0 MB/s\u001b[0m eta \u001b[36m0:00:00\u001b[0m\n",
            "\u001b[2K     \u001b[90m━━━━━━━━━━━━━━━━━━━━━━━━━━━━━━━━━━━━━━━━\u001b[0m \u001b[32m1.6/1.6 MB\u001b[0m \u001b[31m75.1 MB/s\u001b[0m eta \u001b[36m0:00:00\u001b[0m\n",
            "\u001b[2K     \u001b[90m━━━━━━━━━━━━━━━━━━━━━━━━━━━━━━━━━━━━━━━━\u001b[0m \u001b[32m42.6/42.6 kB\u001b[0m \u001b[31m4.6 MB/s\u001b[0m eta \u001b[36m0:00:00\u001b[0m\n",
            "\u001b[2K     \u001b[90m━━━━━━━━━━━━━━━━━━━━━━━━━━━━━━━━━━━━━━━━\u001b[0m \u001b[32m1.1/1.1 MB\u001b[0m \u001b[31m54.7 MB/s\u001b[0m eta \u001b[36m0:00:00\u001b[0m\n",
            "\u001b[2K     \u001b[90m━━━━━━━━━━━━━━━━━━━━━━━━━━━━━━━━━━━━━━━━\u001b[0m \u001b[32m5.8/5.8 MB\u001b[0m \u001b[31m98.7 MB/s\u001b[0m eta \u001b[36m0:00:00\u001b[0m\n",
            "\u001b[2K     \u001b[90m━━━━━━━━━━━━━━━━━━━━━━━━━━━━━━━━━━━━━━\u001b[0m \u001b[32m438.7/438.7 kB\u001b[0m \u001b[31m39.7 MB/s\u001b[0m eta \u001b[36m0:00:00\u001b[0m\n",
            "\u001b[2K     \u001b[90m━━━━━━━━━━━━━━━━━━━━━━━━━━━━━━━━━━━━━━━━\u001b[0m \u001b[32m4.9/4.9 MB\u001b[0m \u001b[31m91.7 MB/s\u001b[0m eta \u001b[36m0:00:00\u001b[0m\n",
            "\u001b[?25h\u001b[31mERROR: pip's dependency resolver does not currently take into account all the packages that are installed. This behaviour is the source of the following dependency conflicts.\n",
            "tensorflow-datasets 4.9.2 requires protobuf>=3.20, but you have protobuf 3.19.6 which is incompatible.\n",
            "tensorflow-metadata 1.13.1 requires protobuf<5,>=3.20.3, but you have protobuf 3.19.6 which is incompatible.\u001b[0m\u001b[31m\n",
            "\u001b[2K     \u001b[90m━━━━━━━━━━━━━━━━━━━━━━━━━━━━━━━━━━━━━━━━\u001b[0m \u001b[32m2.6/2.6 MB\u001b[0m \u001b[31m42.9 MB/s\u001b[0m eta \u001b[36m0:00:00\u001b[0m\n",
            "\u001b[2K     \u001b[90m━━━━━━━━━━━━━━━━━━━━━━━━━━━━━━━━━━━━━━\u001b[0m \u001b[32m175.1/175.1 kB\u001b[0m \u001b[31m15.4 MB/s\u001b[0m eta \u001b[36m0:00:00\u001b[0m\n",
            "\u001b[?25h  Installing build dependencies ... \u001b[?25l\u001b[?25hdone\n",
            "  Getting requirements to build wheel ... \u001b[?25l\u001b[?25hdone\n",
            "  Preparing metadata (pyproject.toml) ... \u001b[?25l\u001b[?25hdone\n",
            "\u001b[2K     \u001b[90m━━━━━━━━━━━━━━━━━━━━━━━━━━━━━━━━━━━━━━\u001b[0m \u001b[32m118.9/118.9 kB\u001b[0m \u001b[31m13.5 MB/s\u001b[0m eta \u001b[36m0:00:00\u001b[0m\n",
            "\u001b[2K     \u001b[90m━━━━━━━━━━━━━━━━━━━━━━━━━━━━━━━━━━━━━━━━\u001b[0m \u001b[32m1.3/1.3 MB\u001b[0m \u001b[31m73.2 MB/s\u001b[0m eta \u001b[36m0:00:00\u001b[0m\n",
            "\u001b[2K     \u001b[90m━━━━━━━━━━━━━━━━━━━━━━━━━━━━━━━━━━━━━━━━\u001b[0m \u001b[32m43.6/43.6 kB\u001b[0m \u001b[31m4.5 MB/s\u001b[0m eta \u001b[36m0:00:00\u001b[0m\n",
            "\u001b[?25h  Preparing metadata (setup.py) ... \u001b[?25l\u001b[?25hdone\n",
            "\u001b[2K     \u001b[90m━━━━━━━━━━━━━━━━━━━━━━━━━━━━━━━━━━━━━━\u001b[0m \u001b[32m591.0/591.0 kB\u001b[0m \u001b[31m39.6 MB/s\u001b[0m eta \u001b[36m0:00:00\u001b[0m\n",
            "\u001b[2K     \u001b[90m━━━━━━━━━━━━━━━━━━━━━━━━━━━━━━━━━━━━━━\u001b[0m \u001b[32m241.2/241.2 kB\u001b[0m \u001b[31m20.7 MB/s\u001b[0m eta \u001b[36m0:00:00\u001b[0m\n",
            "\u001b[2K     \u001b[90m━━━━━━━━━━━━━━━━━━━━━━━━━━━━━━━━━━━━━━━━\u001b[0m \u001b[32m6.0/6.0 MB\u001b[0m \u001b[31m68.8 MB/s\u001b[0m eta \u001b[36m0:00:00\u001b[0m\n",
            "\u001b[2K     \u001b[90m━━━━━━━━━━━━━━━━━━━━━━━━━━━━━━━━━━━━━━━\u001b[0m \u001b[32m585.9/585.9 MB\u001b[0m \u001b[31m2.4 MB/s\u001b[0m eta \u001b[36m0:00:00\u001b[0m\n",
            "\u001b[2K     \u001b[90m━━━━━━━━━━━━━━━━━━━━━━━━━━━━━━━━━━━━━━━━\u001b[0m \u001b[32m1.7/1.7 MB\u001b[0m \u001b[31m83.9 MB/s\u001b[0m eta \u001b[36m0:00:00\u001b[0m\n",
            "\u001b[2K     \u001b[90m━━━━━━━━━━━━━━━━━━━━━━━━━━━━━━━━━━━━━━\u001b[0m \u001b[32m304.5/304.5 kB\u001b[0m \u001b[31m31.6 MB/s\u001b[0m eta \u001b[36m0:00:00\u001b[0m\n",
            "\u001b[2K     \u001b[90m━━━━━━━━━━━━━━━━━━━━━━━━━━━━━━━━━━━━━━━━\u001b[0m \u001b[32m5.6/5.6 MB\u001b[0m \u001b[31m105.0 MB/s\u001b[0m eta \u001b[36m0:00:00\u001b[0m\n",
            "\u001b[2K     \u001b[90m━━━━━━━━━━━━━━━━━━━━━━━━━━━━━━━━━━━━━━\u001b[0m \u001b[32m440.7/440.7 kB\u001b[0m \u001b[31m38.8 MB/s\u001b[0m eta \u001b[36m0:00:00\u001b[0m\n",
            "\u001b[2K     \u001b[90m━━━━━━━━━━━━━━━━━━━━━━━━━━━━━━━━━━━━━━━━\u001b[0m \u001b[32m17.1/17.1 MB\u001b[0m \u001b[31m43.0 MB/s\u001b[0m eta \u001b[36m0:00:00\u001b[0m\n",
            "\u001b[2K     \u001b[90m━━━━━━━━━━━━━━━━━━━━━━━━━━━━━━━━━━━━━━━━\u001b[0m \u001b[32m6.6/6.6 MB\u001b[0m \u001b[31m65.3 MB/s\u001b[0m eta \u001b[36m0:00:00\u001b[0m\n",
            "\u001b[?25h  Building wheel for pyyaml (pyproject.toml) ... \u001b[?25l\u001b[?25hdone\n",
            "  Building wheel for seqeval (setup.py) ... \u001b[?25l\u001b[?25hdone\n"
          ]
        }
      ]
    },
    {
      "cell_type": "code",
      "source": [
        "epochs = 5\n",
        "batch_size = 200\n",
        "eval_batch_size = 150\n",
        "\n",
        "steps_per_epoch = int(len(X_train['Clean Headline']) / batch_size)\n",
        "num_train_steps = steps_per_epoch * epochs\n",
        "warmup_steps = int(0.1 * num_train_steps)\n",
        "initial_learning_rate=2e-5"
      ],
      "metadata": {
        "id": "r58C_BTSdm5F"
      },
      "execution_count": null,
      "outputs": []
    },
    {
      "cell_type": "markdown",
      "source": [
        "Define Optimizer"
      ],
      "metadata": {
        "id": "Mm0zV7t0ca1c"
      }
    },
    {
      "cell_type": "code",
      "source": [
        "import tensorflow_models as tfm\n",
        "optimization_config = tfm.optimization.OptimizationConfig(\n",
        "    optimizer=tfm.optimization.OptimizerConfig(\n",
        "        type = \"adam\"),\n",
        "    learning_rate = tfm.optimization.LrConfig(\n",
        "        type='polynomial',\n",
        "        polynomial=tfm.optimization.PolynomialLrConfig(\n",
        "            initial_learning_rate=2e-5,\n",
        "            end_learning_rate=0.0,\n",
        "            decay_steps=num_train_steps)),\n",
        "    warmup = tfm.optimization.WarmupConfig(\n",
        "        type='linear',\n",
        "        linear=tfm.optimization.LinearWarmupConfig(warmup_steps=warmup_steps)\n",
        "    ))\n",
        "\n",
        "\n",
        "fac = tfm.optimization.optimizer_factory.OptimizerFactory(optimization_config)\n",
        "lr = fac.build_learning_rate()\n",
        "optimizer = fac.build_optimizer(lr=lr)"
      ],
      "metadata": {
        "id": "gcHBWnuvcz2x"
      },
      "execution_count": null,
      "outputs": []
    },
    {
      "cell_type": "markdown",
      "source": [
        "Case1 -\n",
        "\n",
        "*   3 layers\n",
        "*   layer size: [256,256,256]\n",
        "\n",
        "*   kernel_initialzer: glorot\n",
        "*   dropout rate: 0.25"
      ],
      "metadata": {
        "id": "vAeuwhiVcp19"
      }
    },
    {
      "cell_type": "code",
      "source": [
        "MAX_SEQ_LENGTH = 40\n",
        "\n",
        "inp_id = tf.keras.layers.Input(shape=(MAX_SEQ_LENGTH,), dtype='int32', name=\"bert_input_ids\")\n",
        "inp_mask = tf.keras.layers.Input(shape=(MAX_SEQ_LENGTH,), dtype='int32', name=\"bert_input_masks\")\n",
        "inp_segment = tf.keras.layers.Input(shape=(MAX_SEQ_LENGTH,), dtype='int32', name=\"bert_segment_ids\")\n",
        "inputs = [inp_id, inp_mask, inp_segment]\n",
        "\n",
        "hidden_state = transformers.TFBertModel.from_pretrained('bert-base-uncased')(inputs)\n",
        "pooled_output = hidden_state[1]\n",
        "\n",
        "dense1 = tf.keras.layers.Dense(256, activation='relu')(pooled_output)\n",
        "drop1 = tf.keras.layers.Dropout(0.25)(dense1)\n",
        "dense2 = tf.keras.layers.Dense(256, activation='relu')(drop1)\n",
        "drop2 = tf.keras.layers.Dropout(0.25)(dense2)\n",
        "dense3 = tf.keras.layers.Dense(256, activation='relu')(drop2)\n",
        "drop3 = tf.keras.layers.Dropout(0.25)(dense3)\n",
        "\n",
        "output = tf.keras.layers.Dense(1, activation='sigmoid')(drop3)\n",
        "\n",
        "model = tf.keras.Model(inputs=inputs, outputs=output)\n",
        "\n",
        "model.compile(optimizer=optimizer,\n",
        "              loss='binary_crossentropy', metrics=['accuracy'])\n",
        "\n",
        "model.summary()"
      ],
      "metadata": {
        "colab": {
          "base_uri": "https://localhost:8080/"
        },
        "id": "M7C_EvZ2Z0q1",
        "outputId": "ba10fc06-6cb0-4f0f-8059-8a014d5bd9e6"
      },
      "execution_count": null,
      "outputs": [
        {
          "output_type": "stream",
          "name": "stderr",
          "text": [
            "Some weights of the PyTorch model were not used when initializing the TF 2.0 model TFBertModel: ['cls.predictions.transform.LayerNorm.weight', 'cls.predictions.transform.LayerNorm.bias', 'cls.predictions.transform.dense.weight', 'cls.predictions.bias', 'cls.seq_relationship.bias', 'cls.seq_relationship.weight', 'cls.predictions.transform.dense.bias']\n",
            "- This IS expected if you are initializing TFBertModel from a PyTorch model trained on another task or with another architecture (e.g. initializing a TFBertForSequenceClassification model from a BertForPreTraining model).\n",
            "- This IS NOT expected if you are initializing TFBertModel from a PyTorch model that you expect to be exactly identical (e.g. initializing a TFBertForSequenceClassification model from a BertForSequenceClassification model).\n",
            "All the weights of TFBertModel were initialized from the PyTorch model.\n",
            "If your task is similar to the task the model of the checkpoint was trained on, you can already use TFBertModel for predictions without further training.\n"
          ]
        },
        {
          "output_type": "stream",
          "name": "stdout",
          "text": [
            "Model: \"model_4\"\n",
            "__________________________________________________________________________________________________\n",
            " Layer (type)                   Output Shape         Param #     Connected to                     \n",
            "==================================================================================================\n",
            " bert_input_ids (InputLayer)    [(None, 40)]         0           []                               \n",
            "                                                                                                  \n",
            " bert_input_masks (InputLayer)  [(None, 40)]         0           []                               \n",
            "                                                                                                  \n",
            " bert_segment_ids (InputLayer)  [(None, 40)]         0           []                               \n",
            "                                                                                                  \n",
            " tf_bert_model_4 (TFBertModel)  TFBaseModelOutputWi  109482240   ['bert_input_ids[0][0]',         \n",
            "                                thPoolingAndCrossAt               'bert_input_masks[0][0]',       \n",
            "                                tentions(last_hidde               'bert_segment_ids[0][0]']       \n",
            "                                n_state=(None, 40,                                                \n",
            "                                768),                                                             \n",
            "                                 pooler_output=(Non                                               \n",
            "                                e, 768),                                                          \n",
            "                                 past_key_values=No                                               \n",
            "                                ne, hidden_states=N                                               \n",
            "                                one, attentions=Non                                               \n",
            "                                e, cross_attentions                                               \n",
            "                                =None)                                                            \n",
            "                                                                                                  \n",
            " dense_15 (Dense)               (None, 256)          196864      ['tf_bert_model_4[0][1]']        \n",
            "                                                                                                  \n",
            " dropout_196 (Dropout)          (None, 256)          0           ['dense_15[0][0]']               \n",
            "                                                                                                  \n",
            " dense_16 (Dense)               (None, 256)          65792       ['dropout_196[0][0]']            \n",
            "                                                                                                  \n",
            " dropout_197 (Dropout)          (None, 256)          0           ['dense_16[0][0]']               \n",
            "                                                                                                  \n",
            " dense_17 (Dense)               (None, 256)          65792       ['dropout_197[0][0]']            \n",
            "                                                                                                  \n",
            " dropout_198 (Dropout)          (None, 256)          0           ['dense_17[0][0]']               \n",
            "                                                                                                  \n",
            " dense_18 (Dense)               (None, 1)            257         ['dropout_198[0][0]']            \n",
            "                                                                                                  \n",
            "==================================================================================================\n",
            "Total params: 109,810,945\n",
            "Trainable params: 109,810,945\n",
            "Non-trainable params: 0\n",
            "__________________________________________________________________________________________________\n"
          ]
        }
      ]
    },
    {
      "cell_type": "code",
      "source": [
        "train_features_ids, train_features_masks, train_features_segments = create_bert_input_features(tokenizer,\n",
        "                                                                                               train_clean_text,\n",
        "                                                                                               max_seq_length=MAX_SEQ_LENGTH)"
      ],
      "metadata": {
        "colab": {
          "base_uri": "https://localhost:8080/"
        },
        "id": "sgDwUJOKeQsx",
        "outputId": "1312a403-e1bb-42a0-db4c-f0eff4f60c37"
      },
      "execution_count": null,
      "outputs": [
        {
          "output_type": "stream",
          "name": "stderr",
          "text": [
            "Converting docs to features: 100%|██████████| 20033/20033 [00:05<00:00, 3843.08it/s]\n"
          ]
        }
      ]
    },
    {
      "cell_type": "code",
      "source": [
        "model.fit([train_features_ids,\n",
        "           train_features_masks,\n",
        "           train_features_segments], y_train,\n",
        "          epochs=epochs, # run more only if needed as this takes a long time\n",
        "          batch_size=batch_size, # reduce this in case you get GPU OOM error\n",
        "          shuffle=True,\n",
        "          verbose=1)"
      ],
      "metadata": {
        "colab": {
          "base_uri": "https://localhost:8080/"
        },
        "id": "YKz5aIVAeUu2",
        "outputId": "1cacb527-b882-4f42-baf2-f766f07185d6"
      },
      "execution_count": null,
      "outputs": [
        {
          "output_type": "stream",
          "name": "stdout",
          "text": [
            "Epoch 1/5\n",
            "134/134 [==============================] - 163s 1s/step - loss: 0.4955 - accuracy: 0.7576\n",
            "Epoch 2/5\n",
            "134/134 [==============================] - 144s 1s/step - loss: 0.2491 - accuracy: 0.9072\n",
            "Epoch 3/5\n",
            "134/134 [==============================] - 145s 1s/step - loss: 0.1633 - accuracy: 0.9437\n",
            "Epoch 4/5\n",
            "134/134 [==============================] - 145s 1s/step - loss: 0.1178 - accuracy: 0.9615\n",
            "Epoch 5/5\n",
            "134/134 [==============================] - 144s 1s/step - loss: 0.0889 - accuracy: 0.9719\n"
          ]
        },
        {
          "output_type": "execute_result",
          "data": {
            "text/plain": [
              "<keras.callbacks.History at 0x7f899f938f40>"
            ]
          },
          "metadata": {},
          "execution_count": 26
        }
      ]
    },
    {
      "cell_type": "code",
      "source": [
        "test_features_ids, test_features_masks, test_features_segments = create_bert_input_features(tokenizer, test_clean_text,\n",
        "                                                                    max_seq_length=MAX_SEQ_LENGTH)"
      ],
      "metadata": {
        "colab": {
          "base_uri": "https://localhost:8080/"
        },
        "id": "uOGQ1ex4eoqu",
        "outputId": "c3223eca-bc4d-4d81-a040-e090f79d7b54"
      },
      "execution_count": null,
      "outputs": [
        {
          "output_type": "stream",
          "name": "stderr",
          "text": [
            "Converting docs to features: 100%|██████████| 8586/8586 [00:04<00:00, 1888.16it/s]\n"
          ]
        }
      ]
    },
    {
      "cell_type": "code",
      "source": [
        "predictions = [1 if pr > 0.5 else 0\n",
        "                   for pr in model.predict([test_features_ids,\n",
        "                                            test_features_masks,test_features_segments], batch_size=200, verbose=0).ravel()]\n",
        "\n",
        "print(\"Accuracy: %.2f%%\" % (accuracy_score(y_test, predictions)*100))\n",
        "print(classification_report(y_test, predictions))\n",
        "pd.DataFrame(confusion_matrix(y_test, predictions))"
      ],
      "metadata": {
        "colab": {
          "base_uri": "https://localhost:8080/",
          "height": 290
        },
        "id": "x5o_qjegfIjh",
        "outputId": "cc8d1062-b46f-4eac-f53c-829d86577d09"
      },
      "execution_count": null,
      "outputs": [
        {
          "output_type": "stream",
          "name": "stdout",
          "text": [
            "Accuracy: 91.99%\n",
            "              precision    recall  f1-score   support\n",
            "\n",
            "           0       0.93      0.92      0.92      4455\n",
            "           1       0.91      0.92      0.92      4131\n",
            "\n",
            "    accuracy                           0.92      8586\n",
            "   macro avg       0.92      0.92      0.92      8586\n",
            "weighted avg       0.92      0.92      0.92      8586\n",
            "\n"
          ]
        },
        {
          "output_type": "execute_result",
          "data": {
            "text/plain": [
              "      0     1\n",
              "0  4098   357\n",
              "1   331  3800"
            ],
            "text/html": [
              "\n",
              "  <div id=\"df-5cacd270-a808-4f3d-ae3c-3da589cb4296\">\n",
              "    <div class=\"colab-df-container\">\n",
              "      <div>\n",
              "<style scoped>\n",
              "    .dataframe tbody tr th:only-of-type {\n",
              "        vertical-align: middle;\n",
              "    }\n",
              "\n",
              "    .dataframe tbody tr th {\n",
              "        vertical-align: top;\n",
              "    }\n",
              "\n",
              "    .dataframe thead th {\n",
              "        text-align: right;\n",
              "    }\n",
              "</style>\n",
              "<table border=\"1\" class=\"dataframe\">\n",
              "  <thead>\n",
              "    <tr style=\"text-align: right;\">\n",
              "      <th></th>\n",
              "      <th>0</th>\n",
              "      <th>1</th>\n",
              "    </tr>\n",
              "  </thead>\n",
              "  <tbody>\n",
              "    <tr>\n",
              "      <th>0</th>\n",
              "      <td>4098</td>\n",
              "      <td>357</td>\n",
              "    </tr>\n",
              "    <tr>\n",
              "      <th>1</th>\n",
              "      <td>331</td>\n",
              "      <td>3800</td>\n",
              "    </tr>\n",
              "  </tbody>\n",
              "</table>\n",
              "</div>\n",
              "      <button class=\"colab-df-convert\" onclick=\"convertToInteractive('df-5cacd270-a808-4f3d-ae3c-3da589cb4296')\"\n",
              "              title=\"Convert this dataframe to an interactive table.\"\n",
              "              style=\"display:none;\">\n",
              "        \n",
              "  <svg xmlns=\"http://www.w3.org/2000/svg\" height=\"24px\"viewBox=\"0 0 24 24\"\n",
              "       width=\"24px\">\n",
              "    <path d=\"M0 0h24v24H0V0z\" fill=\"none\"/>\n",
              "    <path d=\"M18.56 5.44l.94 2.06.94-2.06 2.06-.94-2.06-.94-.94-2.06-.94 2.06-2.06.94zm-11 1L8.5 8.5l.94-2.06 2.06-.94-2.06-.94L8.5 2.5l-.94 2.06-2.06.94zm10 10l.94 2.06.94-2.06 2.06-.94-2.06-.94-.94-2.06-.94 2.06-2.06.94z\"/><path d=\"M17.41 7.96l-1.37-1.37c-.4-.4-.92-.59-1.43-.59-.52 0-1.04.2-1.43.59L10.3 9.45l-7.72 7.72c-.78.78-.78 2.05 0 2.83L4 21.41c.39.39.9.59 1.41.59.51 0 1.02-.2 1.41-.59l7.78-7.78 2.81-2.81c.8-.78.8-2.07 0-2.86zM5.41 20L4 18.59l7.72-7.72 1.47 1.35L5.41 20z\"/>\n",
              "  </svg>\n",
              "      </button>\n",
              "      \n",
              "  <style>\n",
              "    .colab-df-container {\n",
              "      display:flex;\n",
              "      flex-wrap:wrap;\n",
              "      gap: 12px;\n",
              "    }\n",
              "\n",
              "    .colab-df-convert {\n",
              "      background-color: #E8F0FE;\n",
              "      border: none;\n",
              "      border-radius: 50%;\n",
              "      cursor: pointer;\n",
              "      display: none;\n",
              "      fill: #1967D2;\n",
              "      height: 32px;\n",
              "      padding: 0 0 0 0;\n",
              "      width: 32px;\n",
              "    }\n",
              "\n",
              "    .colab-df-convert:hover {\n",
              "      background-color: #E2EBFA;\n",
              "      box-shadow: 0px 1px 2px rgba(60, 64, 67, 0.3), 0px 1px 3px 1px rgba(60, 64, 67, 0.15);\n",
              "      fill: #174EA6;\n",
              "    }\n",
              "\n",
              "    [theme=dark] .colab-df-convert {\n",
              "      background-color: #3B4455;\n",
              "      fill: #D2E3FC;\n",
              "    }\n",
              "\n",
              "    [theme=dark] .colab-df-convert:hover {\n",
              "      background-color: #434B5C;\n",
              "      box-shadow: 0px 1px 3px 1px rgba(0, 0, 0, 0.15);\n",
              "      filter: drop-shadow(0px 1px 2px rgba(0, 0, 0, 0.3));\n",
              "      fill: #FFFFFF;\n",
              "    }\n",
              "  </style>\n",
              "\n",
              "      <script>\n",
              "        const buttonEl =\n",
              "          document.querySelector('#df-5cacd270-a808-4f3d-ae3c-3da589cb4296 button.colab-df-convert');\n",
              "        buttonEl.style.display =\n",
              "          google.colab.kernel.accessAllowed ? 'block' : 'none';\n",
              "\n",
              "        async function convertToInteractive(key) {\n",
              "          const element = document.querySelector('#df-5cacd270-a808-4f3d-ae3c-3da589cb4296');\n",
              "          const dataTable =\n",
              "            await google.colab.kernel.invokeFunction('convertToInteractive',\n",
              "                                                     [key], {});\n",
              "          if (!dataTable) return;\n",
              "\n",
              "          const docLinkHtml = 'Like what you see? Visit the ' +\n",
              "            '<a target=\"_blank\" href=https://colab.research.google.com/notebooks/data_table.ipynb>data table notebook</a>'\n",
              "            + ' to learn more about interactive tables.';\n",
              "          element.innerHTML = '';\n",
              "          dataTable['output_type'] = 'display_data';\n",
              "          await google.colab.output.renderOutput(dataTable, element);\n",
              "          const docLink = document.createElement('div');\n",
              "          docLink.innerHTML = docLinkHtml;\n",
              "          element.appendChild(docLink);\n",
              "        }\n",
              "      </script>\n",
              "    </div>\n",
              "  </div>\n",
              "  "
            ]
          },
          "metadata": {},
          "execution_count": 32
        }
      ]
    },
    {
      "cell_type": "markdown",
      "source": [
        "Case2 -\n",
        "\n",
        "*   3 layers\n",
        "*   layer size: [256,256,256]\n",
        "\n",
        "*   kernel_initialzer: he_normal\n",
        "*   dropout rate: 0.2"
      ],
      "metadata": {
        "id": "E_mYFKTRdQUx"
      }
    },
    {
      "cell_type": "code",
      "source": [
        "dense1 = tf.keras.layers.Dense(256, activation='relu',kernel_initializer=\"he_normal\")(pooled_output)\n",
        "drop1 = tf.keras.layers.Dropout(0.2)(dense1)\n",
        "dense2 = tf.keras.layers.Dense(256, activation='relu',kernel_initializer=\"he_normal\")(drop1)\n",
        "drop2 = tf.keras.layers.Dropout(0.2)(dense2)\n",
        "dense3 = tf.keras.layers.Dense(256, activation='relu',kernel_initializer=\"he_normal\")(drop2)\n",
        "drop3 = tf.keras.layers.Dropout(0.2)(dense3)\n",
        "\n",
        "\n",
        "output = tf.keras.layers.Dense(1, activation='sigmoid')(drop3)\n",
        "\n",
        "model = tf.keras.Model(inputs=inputs, outputs=output)\n",
        "\n",
        "model.compile(optimizer=optimizer,\n",
        "              loss='binary_crossentropy', metrics=['accuracy'])\n",
        "\n",
        "model.summary()"
      ],
      "metadata": {
        "colab": {
          "base_uri": "https://localhost:8080/"
        },
        "id": "SNhvK34du01y",
        "outputId": "e9fb5904-fb91-45e1-e018-ff70674a0f9b"
      },
      "execution_count": null,
      "outputs": [
        {
          "output_type": "stream",
          "name": "stdout",
          "text": [
            "Model: \"model_8\"\n",
            "__________________________________________________________________________________________________\n",
            " Layer (type)                   Output Shape         Param #     Connected to                     \n",
            "==================================================================================================\n",
            " bert_input_ids (InputLayer)    [(None, 40)]         0           []                               \n",
            "                                                                                                  \n",
            " bert_input_masks (InputLayer)  [(None, 40)]         0           []                               \n",
            "                                                                                                  \n",
            " bert_segment_ids (InputLayer)  [(None, 40)]         0           []                               \n",
            "                                                                                                  \n",
            " tf_bert_model_4 (TFBertModel)  TFBaseModelOutputWi  109482240   ['bert_input_ids[0][0]',         \n",
            "                                thPoolingAndCrossAt               'bert_input_masks[0][0]',       \n",
            "                                tentions(last_hidde               'bert_segment_ids[0][0]']       \n",
            "                                n_state=(None, 40,                                                \n",
            "                                768),                                                             \n",
            "                                 pooler_output=(Non                                               \n",
            "                                e, 768),                                                          \n",
            "                                 past_key_values=No                                               \n",
            "                                ne, hidden_states=N                                               \n",
            "                                one, attentions=Non                                               \n",
            "                                e, cross_attentions                                               \n",
            "                                =None)                                                            \n",
            "                                                                                                  \n",
            " dense_31 (Dense)               (None, 256)          196864      ['tf_bert_model_4[0][1]']        \n",
            "                                                                                                  \n",
            " dropout_208 (Dropout)          (None, 256)          0           ['dense_31[0][0]']               \n",
            "                                                                                                  \n",
            " dense_32 (Dense)               (None, 256)          65792       ['dropout_208[0][0]']            \n",
            "                                                                                                  \n",
            " dropout_209 (Dropout)          (None, 256)          0           ['dense_32[0][0]']               \n",
            "                                                                                                  \n",
            " dense_33 (Dense)               (None, 256)          65792       ['dropout_209[0][0]']            \n",
            "                                                                                                  \n",
            " dropout_210 (Dropout)          (None, 256)          0           ['dense_33[0][0]']               \n",
            "                                                                                                  \n",
            " dense_34 (Dense)               (None, 1)            257         ['dropout_210[0][0]']            \n",
            "                                                                                                  \n",
            "==================================================================================================\n",
            "Total params: 109,810,945\n",
            "Trainable params: 109,810,945\n",
            "Non-trainable params: 0\n",
            "__________________________________________________________________________________________________\n"
          ]
        }
      ]
    },
    {
      "cell_type": "code",
      "source": [
        "model.fit([train_features_ids,\n",
        "           train_features_masks,\n",
        "           train_features_segments], y_train,\n",
        "          epochs=epochs, # run more only if needed as this takes a long time\n",
        "          batch_size=batch_size, # reduce this in case you get GPU OOM error\n",
        "          shuffle=True,\n",
        "          verbose=1)"
      ],
      "metadata": {
        "colab": {
          "base_uri": "https://localhost:8080/"
        },
        "id": "qBCVo5acwhTY",
        "outputId": "95b3736d-dd68-42a6-a34f-948fa5b452c2"
      },
      "execution_count": null,
      "outputs": [
        {
          "output_type": "stream",
          "name": "stdout",
          "text": [
            "Epoch 1/5\n",
            "101/101 [==============================] - 159s 1s/step - loss: 0.2651 - accuracy: 0.8868\n",
            "Epoch 2/5\n",
            "101/101 [==============================] - 142s 1s/step - loss: 0.0858 - accuracy: 0.9731\n",
            "Epoch 3/5\n",
            "101/101 [==============================] - 142s 1s/step - loss: 0.0664 - accuracy: 0.9820\n",
            "Epoch 4/5\n",
            "101/101 [==============================] - 142s 1s/step - loss: 0.0460 - accuracy: 0.9882\n",
            "Epoch 5/5\n",
            "101/101 [==============================] - 142s 1s/step - loss: 0.0366 - accuracy: 0.9909\n"
          ]
        },
        {
          "output_type": "execute_result",
          "data": {
            "text/plain": [
              "<keras.callbacks.History at 0x7f88d2650ee0>"
            ]
          },
          "metadata": {},
          "execution_count": 43
        }
      ]
    },
    {
      "cell_type": "code",
      "source": [
        "predictions = [1 if pr > 0.5 else 0\n",
        "                   for pr in model.predict([test_features_ids,\n",
        "                                            test_features_masks,test_features_segments], batch_size=200, verbose=0).ravel()]\n",
        "\n",
        "print(\"Accuracy: %.2f%%\" % (accuracy_score(y_test, predictions)*100))\n",
        "print(classification_report(y_test, predictions))\n",
        "pd.DataFrame(confusion_matrix(y_test, predictions))"
      ],
      "metadata": {
        "colab": {
          "base_uri": "https://localhost:8080/",
          "height": 290
        },
        "id": "MINRH8knwjbm",
        "outputId": "2c9f5d38-01d8-47ff-9005-f2773bd006c0"
      },
      "execution_count": null,
      "outputs": [
        {
          "output_type": "stream",
          "name": "stdout",
          "text": [
            "Accuracy: 92.42%\n",
            "              precision    recall  f1-score   support\n",
            "\n",
            "           0       0.93      0.92      0.93      4455\n",
            "           1       0.92      0.93      0.92      4131\n",
            "\n",
            "    accuracy                           0.92      8586\n",
            "   macro avg       0.92      0.92      0.92      8586\n",
            "weighted avg       0.92      0.92      0.92      8586\n",
            "\n"
          ]
        },
        {
          "output_type": "execute_result",
          "data": {
            "text/plain": [
              "      0     1\n",
              "0  4107   348\n",
              "1   303  3828"
            ],
            "text/html": [
              "\n",
              "  <div id=\"df-0f2f8f9e-d099-4232-be27-10cf12ed21fe\">\n",
              "    <div class=\"colab-df-container\">\n",
              "      <div>\n",
              "<style scoped>\n",
              "    .dataframe tbody tr th:only-of-type {\n",
              "        vertical-align: middle;\n",
              "    }\n",
              "\n",
              "    .dataframe tbody tr th {\n",
              "        vertical-align: top;\n",
              "    }\n",
              "\n",
              "    .dataframe thead th {\n",
              "        text-align: right;\n",
              "    }\n",
              "</style>\n",
              "<table border=\"1\" class=\"dataframe\">\n",
              "  <thead>\n",
              "    <tr style=\"text-align: right;\">\n",
              "      <th></th>\n",
              "      <th>0</th>\n",
              "      <th>1</th>\n",
              "    </tr>\n",
              "  </thead>\n",
              "  <tbody>\n",
              "    <tr>\n",
              "      <th>0</th>\n",
              "      <td>4107</td>\n",
              "      <td>348</td>\n",
              "    </tr>\n",
              "    <tr>\n",
              "      <th>1</th>\n",
              "      <td>303</td>\n",
              "      <td>3828</td>\n",
              "    </tr>\n",
              "  </tbody>\n",
              "</table>\n",
              "</div>\n",
              "      <button class=\"colab-df-convert\" onclick=\"convertToInteractive('df-0f2f8f9e-d099-4232-be27-10cf12ed21fe')\"\n",
              "              title=\"Convert this dataframe to an interactive table.\"\n",
              "              style=\"display:none;\">\n",
              "        \n",
              "  <svg xmlns=\"http://www.w3.org/2000/svg\" height=\"24px\"viewBox=\"0 0 24 24\"\n",
              "       width=\"24px\">\n",
              "    <path d=\"M0 0h24v24H0V0z\" fill=\"none\"/>\n",
              "    <path d=\"M18.56 5.44l.94 2.06.94-2.06 2.06-.94-2.06-.94-.94-2.06-.94 2.06-2.06.94zm-11 1L8.5 8.5l.94-2.06 2.06-.94-2.06-.94L8.5 2.5l-.94 2.06-2.06.94zm10 10l.94 2.06.94-2.06 2.06-.94-2.06-.94-.94-2.06-.94 2.06-2.06.94z\"/><path d=\"M17.41 7.96l-1.37-1.37c-.4-.4-.92-.59-1.43-.59-.52 0-1.04.2-1.43.59L10.3 9.45l-7.72 7.72c-.78.78-.78 2.05 0 2.83L4 21.41c.39.39.9.59 1.41.59.51 0 1.02-.2 1.41-.59l7.78-7.78 2.81-2.81c.8-.78.8-2.07 0-2.86zM5.41 20L4 18.59l7.72-7.72 1.47 1.35L5.41 20z\"/>\n",
              "  </svg>\n",
              "      </button>\n",
              "      \n",
              "  <style>\n",
              "    .colab-df-container {\n",
              "      display:flex;\n",
              "      flex-wrap:wrap;\n",
              "      gap: 12px;\n",
              "    }\n",
              "\n",
              "    .colab-df-convert {\n",
              "      background-color: #E8F0FE;\n",
              "      border: none;\n",
              "      border-radius: 50%;\n",
              "      cursor: pointer;\n",
              "      display: none;\n",
              "      fill: #1967D2;\n",
              "      height: 32px;\n",
              "      padding: 0 0 0 0;\n",
              "      width: 32px;\n",
              "    }\n",
              "\n",
              "    .colab-df-convert:hover {\n",
              "      background-color: #E2EBFA;\n",
              "      box-shadow: 0px 1px 2px rgba(60, 64, 67, 0.3), 0px 1px 3px 1px rgba(60, 64, 67, 0.15);\n",
              "      fill: #174EA6;\n",
              "    }\n",
              "\n",
              "    [theme=dark] .colab-df-convert {\n",
              "      background-color: #3B4455;\n",
              "      fill: #D2E3FC;\n",
              "    }\n",
              "\n",
              "    [theme=dark] .colab-df-convert:hover {\n",
              "      background-color: #434B5C;\n",
              "      box-shadow: 0px 1px 3px 1px rgba(0, 0, 0, 0.15);\n",
              "      filter: drop-shadow(0px 1px 2px rgba(0, 0, 0, 0.3));\n",
              "      fill: #FFFFFF;\n",
              "    }\n",
              "  </style>\n",
              "\n",
              "      <script>\n",
              "        const buttonEl =\n",
              "          document.querySelector('#df-0f2f8f9e-d099-4232-be27-10cf12ed21fe button.colab-df-convert');\n",
              "        buttonEl.style.display =\n",
              "          google.colab.kernel.accessAllowed ? 'block' : 'none';\n",
              "\n",
              "        async function convertToInteractive(key) {\n",
              "          const element = document.querySelector('#df-0f2f8f9e-d099-4232-be27-10cf12ed21fe');\n",
              "          const dataTable =\n",
              "            await google.colab.kernel.invokeFunction('convertToInteractive',\n",
              "                                                     [key], {});\n",
              "          if (!dataTable) return;\n",
              "\n",
              "          const docLinkHtml = 'Like what you see? Visit the ' +\n",
              "            '<a target=\"_blank\" href=https://colab.research.google.com/notebooks/data_table.ipynb>data table notebook</a>'\n",
              "            + ' to learn more about interactive tables.';\n",
              "          element.innerHTML = '';\n",
              "          dataTable['output_type'] = 'display_data';\n",
              "          await google.colab.output.renderOutput(dataTable, element);\n",
              "          const docLink = document.createElement('div');\n",
              "          docLink.innerHTML = docLinkHtml;\n",
              "          element.appendChild(docLink);\n",
              "        }\n",
              "      </script>\n",
              "    </div>\n",
              "  </div>\n",
              "  "
            ]
          },
          "metadata": {},
          "execution_count": 44
        }
      ]
    },
    {
      "cell_type": "markdown",
      "source": [
        "Case3 -\n",
        "\n",
        "*   4 layers\n",
        "*   layer size: [256,256,256,128]\n",
        "\n",
        "*   kernel_initialzer: he_normal\n",
        "*   dropout rate: 0.2"
      ],
      "metadata": {
        "id": "R-unT60IdV73"
      }
    },
    {
      "cell_type": "code",
      "source": [
        "dense1 = tf.keras.layers.Dense(256, activation='relu',kernel_initializer=\"he_normal\")(pooled_output)\n",
        "drop1 = tf.keras.layers.Dropout(0.2)(dense1)\n",
        "dense2 = tf.keras.layers.Dense(256, activation='relu',kernel_initializer=\"he_normal\")(drop1)\n",
        "drop2 = tf.keras.layers.Dropout(0.2)(dense2)\n",
        "dense3 = tf.keras.layers.Dense(256, activation='relu',kernel_initializer=\"he_normal\")(drop2)\n",
        "drop3 = tf.keras.layers.Dropout(0.2)(dense3)\n",
        "dense4 = tf.keras.layers.Dense(128, activation='relu',kernel_initializer=\"he_normal\")(drop3)\n",
        "drop4 = tf.keras.layers.Dropout(0.2)(dense4)\n",
        "\n",
        "\n",
        "output = tf.keras.layers.Dense(1, activation='sigmoid')(drop4)\n",
        "\n",
        "model = tf.keras.Model(inputs=inputs, outputs=output)\n",
        "\n",
        "model.compile(optimizer=optimizer,\n",
        "              loss='binary_crossentropy', metrics=['accuracy'])\n",
        "\n",
        "model.summary()"
      ],
      "metadata": {
        "colab": {
          "base_uri": "https://localhost:8080/"
        },
        "id": "s1IiS3QJ60fb",
        "outputId": "3fa7227b-49d9-4af2-cd5b-2c618d5d77bf"
      },
      "execution_count": null,
      "outputs": [
        {
          "output_type": "stream",
          "name": "stdout",
          "text": [
            "Model: \"model_9\"\n",
            "__________________________________________________________________________________________________\n",
            " Layer (type)                   Output Shape         Param #     Connected to                     \n",
            "==================================================================================================\n",
            " bert_input_ids (InputLayer)    [(None, 40)]         0           []                               \n",
            "                                                                                                  \n",
            " bert_input_masks (InputLayer)  [(None, 40)]         0           []                               \n",
            "                                                                                                  \n",
            " bert_segment_ids (InputLayer)  [(None, 40)]         0           []                               \n",
            "                                                                                                  \n",
            " tf_bert_model_4 (TFBertModel)  TFBaseModelOutputWi  109482240   ['bert_input_ids[0][0]',         \n",
            "                                thPoolingAndCrossAt               'bert_input_masks[0][0]',       \n",
            "                                tentions(last_hidde               'bert_segment_ids[0][0]']       \n",
            "                                n_state=(None, 40,                                                \n",
            "                                768),                                                             \n",
            "                                 pooler_output=(Non                                               \n",
            "                                e, 768),                                                          \n",
            "                                 past_key_values=No                                               \n",
            "                                ne, hidden_states=N                                               \n",
            "                                one, attentions=Non                                               \n",
            "                                e, cross_attentions                                               \n",
            "                                =None)                                                            \n",
            "                                                                                                  \n",
            " dense_35 (Dense)               (None, 256)          196864      ['tf_bert_model_4[0][1]']        \n",
            "                                                                                                  \n",
            " dropout_211 (Dropout)          (None, 256)          0           ['dense_35[0][0]']               \n",
            "                                                                                                  \n",
            " dense_36 (Dense)               (None, 256)          65792       ['dropout_211[0][0]']            \n",
            "                                                                                                  \n",
            " dropout_212 (Dropout)          (None, 256)          0           ['dense_36[0][0]']               \n",
            "                                                                                                  \n",
            " dense_37 (Dense)               (None, 256)          65792       ['dropout_212[0][0]']            \n",
            "                                                                                                  \n",
            " dropout_213 (Dropout)          (None, 256)          0           ['dense_37[0][0]']               \n",
            "                                                                                                  \n",
            " dense_38 (Dense)               (None, 128)          32896       ['dropout_213[0][0]']            \n",
            "                                                                                                  \n",
            " dropout_214 (Dropout)          (None, 128)          0           ['dense_38[0][0]']               \n",
            "                                                                                                  \n",
            " dense_39 (Dense)               (None, 1)            129         ['dropout_214[0][0]']            \n",
            "                                                                                                  \n",
            "==================================================================================================\n",
            "Total params: 109,843,713\n",
            "Trainable params: 109,843,713\n",
            "Non-trainable params: 0\n",
            "__________________________________________________________________________________________________\n"
          ]
        }
      ]
    },
    {
      "cell_type": "code",
      "source": [
        "model.fit([train_features_ids,\n",
        "           train_features_masks,\n",
        "           train_features_segments], y_train,\n",
        "          epochs=epochs, # run more only if needed as this takes a long time\n",
        "          batch_size=batch_size, # reduce this in case you get GPU OOM error\n",
        "          shuffle=True,\n",
        "          verbose=1)"
      ],
      "metadata": {
        "colab": {
          "base_uri": "https://localhost:8080/"
        },
        "id": "asa_qdYa7OxZ",
        "outputId": "106f75cd-9536-487e-99fe-fa5a0a183920"
      },
      "execution_count": null,
      "outputs": [
        {
          "output_type": "stream",
          "name": "stdout",
          "text": [
            "Epoch 1/5\n",
            "101/101 [==============================] - 162s 1s/step - loss: 0.8592 - accuracy: 0.5141\n",
            "Epoch 2/5\n",
            "101/101 [==============================] - 142s 1s/step - loss: 0.8621 - accuracy: 0.5111\n",
            "Epoch 3/5\n",
            "101/101 [==============================] - 142s 1s/step - loss: 0.8562 - accuracy: 0.5114\n",
            "Epoch 4/5\n",
            "101/101 [==============================] - 142s 1s/step - loss: 0.8538 - accuracy: 0.5157\n",
            "Epoch 5/5\n",
            "101/101 [==============================] - 142s 1s/step - loss: 0.8570 - accuracy: 0.5103\n"
          ]
        },
        {
          "output_type": "execute_result",
          "data": {
            "text/plain": [
              "<keras.callbacks.History at 0x7f88042a6350>"
            ]
          },
          "metadata": {},
          "execution_count": 46
        }
      ]
    },
    {
      "cell_type": "code",
      "source": [
        "predictions = [1 if pr > 0.5 else 0\n",
        "                   for pr in model.predict([test_features_ids,\n",
        "                                            test_features_masks,test_features_segments], batch_size=200, verbose=0).ravel()]\n",
        "\n",
        "print(\"Accuracy: %.2f%%\" % (accuracy_score(y_test, predictions)*100))\n",
        "print(classification_report(y_test, predictions))\n",
        "pd.DataFrame(confusion_matrix(y_test, predictions))"
      ],
      "metadata": {
        "colab": {
          "base_uri": "https://localhost:8080/",
          "height": 290
        },
        "id": "eOgk0kBk7QMb",
        "outputId": "1487141c-968f-4889-ee5e-dd1d2bac64be"
      },
      "execution_count": null,
      "outputs": [
        {
          "output_type": "stream",
          "name": "stdout",
          "text": [
            "Accuracy: 38.94%\n",
            "              precision    recall  f1-score   support\n",
            "\n",
            "           0       0.37      0.26      0.31      4455\n",
            "           1       0.40      0.53      0.45      4131\n",
            "\n",
            "    accuracy                           0.39      8586\n",
            "   macro avg       0.39      0.39      0.38      8586\n",
            "weighted avg       0.39      0.39      0.38      8586\n",
            "\n"
          ]
        },
        {
          "output_type": "execute_result",
          "data": {
            "text/plain": [
              "      0     1\n",
              "0  1163  3292\n",
              "1  1951  2180"
            ],
            "text/html": [
              "\n",
              "  <div id=\"df-6c574d1f-3e6d-4626-8b34-c7c415154fa8\">\n",
              "    <div class=\"colab-df-container\">\n",
              "      <div>\n",
              "<style scoped>\n",
              "    .dataframe tbody tr th:only-of-type {\n",
              "        vertical-align: middle;\n",
              "    }\n",
              "\n",
              "    .dataframe tbody tr th {\n",
              "        vertical-align: top;\n",
              "    }\n",
              "\n",
              "    .dataframe thead th {\n",
              "        text-align: right;\n",
              "    }\n",
              "</style>\n",
              "<table border=\"1\" class=\"dataframe\">\n",
              "  <thead>\n",
              "    <tr style=\"text-align: right;\">\n",
              "      <th></th>\n",
              "      <th>0</th>\n",
              "      <th>1</th>\n",
              "    </tr>\n",
              "  </thead>\n",
              "  <tbody>\n",
              "    <tr>\n",
              "      <th>0</th>\n",
              "      <td>1163</td>\n",
              "      <td>3292</td>\n",
              "    </tr>\n",
              "    <tr>\n",
              "      <th>1</th>\n",
              "      <td>1951</td>\n",
              "      <td>2180</td>\n",
              "    </tr>\n",
              "  </tbody>\n",
              "</table>\n",
              "</div>\n",
              "      <button class=\"colab-df-convert\" onclick=\"convertToInteractive('df-6c574d1f-3e6d-4626-8b34-c7c415154fa8')\"\n",
              "              title=\"Convert this dataframe to an interactive table.\"\n",
              "              style=\"display:none;\">\n",
              "        \n",
              "  <svg xmlns=\"http://www.w3.org/2000/svg\" height=\"24px\"viewBox=\"0 0 24 24\"\n",
              "       width=\"24px\">\n",
              "    <path d=\"M0 0h24v24H0V0z\" fill=\"none\"/>\n",
              "    <path d=\"M18.56 5.44l.94 2.06.94-2.06 2.06-.94-2.06-.94-.94-2.06-.94 2.06-2.06.94zm-11 1L8.5 8.5l.94-2.06 2.06-.94-2.06-.94L8.5 2.5l-.94 2.06-2.06.94zm10 10l.94 2.06.94-2.06 2.06-.94-2.06-.94-.94-2.06-.94 2.06-2.06.94z\"/><path d=\"M17.41 7.96l-1.37-1.37c-.4-.4-.92-.59-1.43-.59-.52 0-1.04.2-1.43.59L10.3 9.45l-7.72 7.72c-.78.78-.78 2.05 0 2.83L4 21.41c.39.39.9.59 1.41.59.51 0 1.02-.2 1.41-.59l7.78-7.78 2.81-2.81c.8-.78.8-2.07 0-2.86zM5.41 20L4 18.59l7.72-7.72 1.47 1.35L5.41 20z\"/>\n",
              "  </svg>\n",
              "      </button>\n",
              "      \n",
              "  <style>\n",
              "    .colab-df-container {\n",
              "      display:flex;\n",
              "      flex-wrap:wrap;\n",
              "      gap: 12px;\n",
              "    }\n",
              "\n",
              "    .colab-df-convert {\n",
              "      background-color: #E8F0FE;\n",
              "      border: none;\n",
              "      border-radius: 50%;\n",
              "      cursor: pointer;\n",
              "      display: none;\n",
              "      fill: #1967D2;\n",
              "      height: 32px;\n",
              "      padding: 0 0 0 0;\n",
              "      width: 32px;\n",
              "    }\n",
              "\n",
              "    .colab-df-convert:hover {\n",
              "      background-color: #E2EBFA;\n",
              "      box-shadow: 0px 1px 2px rgba(60, 64, 67, 0.3), 0px 1px 3px 1px rgba(60, 64, 67, 0.15);\n",
              "      fill: #174EA6;\n",
              "    }\n",
              "\n",
              "    [theme=dark] .colab-df-convert {\n",
              "      background-color: #3B4455;\n",
              "      fill: #D2E3FC;\n",
              "    }\n",
              "\n",
              "    [theme=dark] .colab-df-convert:hover {\n",
              "      background-color: #434B5C;\n",
              "      box-shadow: 0px 1px 3px 1px rgba(0, 0, 0, 0.15);\n",
              "      filter: drop-shadow(0px 1px 2px rgba(0, 0, 0, 0.3));\n",
              "      fill: #FFFFFF;\n",
              "    }\n",
              "  </style>\n",
              "\n",
              "      <script>\n",
              "        const buttonEl =\n",
              "          document.querySelector('#df-6c574d1f-3e6d-4626-8b34-c7c415154fa8 button.colab-df-convert');\n",
              "        buttonEl.style.display =\n",
              "          google.colab.kernel.accessAllowed ? 'block' : 'none';\n",
              "\n",
              "        async function convertToInteractive(key) {\n",
              "          const element = document.querySelector('#df-6c574d1f-3e6d-4626-8b34-c7c415154fa8');\n",
              "          const dataTable =\n",
              "            await google.colab.kernel.invokeFunction('convertToInteractive',\n",
              "                                                     [key], {});\n",
              "          if (!dataTable) return;\n",
              "\n",
              "          const docLinkHtml = 'Like what you see? Visit the ' +\n",
              "            '<a target=\"_blank\" href=https://colab.research.google.com/notebooks/data_table.ipynb>data table notebook</a>'\n",
              "            + ' to learn more about interactive tables.';\n",
              "          element.innerHTML = '';\n",
              "          dataTable['output_type'] = 'display_data';\n",
              "          await google.colab.output.renderOutput(dataTable, element);\n",
              "          const docLink = document.createElement('div');\n",
              "          docLink.innerHTML = docLinkHtml;\n",
              "          element.appendChild(docLink);\n",
              "        }\n",
              "      </script>\n",
              "    </div>\n",
              "  </div>\n",
              "  "
            ]
          },
          "metadata": {},
          "execution_count": 47
        }
      ]
    },
    {
      "cell_type": "markdown",
      "source": [
        "Case4 -\n",
        "\n",
        "*   4 layers\n",
        "*   layer size: [256,256,256,512]\n",
        "\n",
        "*   kernel_initialzer: he_normal\n",
        "*   dropout rate: 0.2"
      ],
      "metadata": {
        "id": "jgLuADWxdfG2"
      }
    },
    {
      "cell_type": "code",
      "source": [
        "dense1 = tf.keras.layers.Dense(256, activation='relu',kernel_initializer=\"he_normal\")(pooled_output)\n",
        "drop1 = tf.keras.layers.Dropout(0.2)(dense1)\n",
        "dense2 = tf.keras.layers.Dense(256, activation='relu',kernel_initializer=\"he_normal\")(drop1)\n",
        "drop2 = tf.keras.layers.Dropout(0.2)(dense2)\n",
        "dense3 = tf.keras.layers.Dense(256, activation='relu',kernel_initializer=\"he_normal\")(drop2)\n",
        "drop3 = tf.keras.layers.Dropout(0.2)(dense3)\n",
        "dense4 = tf.keras.layers.Dense(512, activation='relu',kernel_initializer=\"he_normal\")(drop3)\n",
        "drop4 = tf.keras.layers.Dropout(0.2)(dense4)\n",
        "\n",
        "\n",
        "output = tf.keras.layers.Dense(1, activation='sigmoid')(drop4)\n",
        "\n",
        "model = tf.keras.Model(inputs=inputs, outputs=output)\n",
        "\n",
        "model.compile(optimizer=optimizer,\n",
        "              loss='binary_crossentropy', metrics=['accuracy'])\n",
        "\n",
        "model.summary()"
      ],
      "metadata": {
        "colab": {
          "base_uri": "https://localhost:8080/"
        },
        "id": "QoQsunxG-MOM",
        "outputId": "e6c70302-7c92-4117-90f1-86e30da7ee7b"
      },
      "execution_count": null,
      "outputs": [
        {
          "output_type": "stream",
          "name": "stdout",
          "text": [
            "Model: \"model_10\"\n",
            "__________________________________________________________________________________________________\n",
            " Layer (type)                   Output Shape         Param #     Connected to                     \n",
            "==================================================================================================\n",
            " bert_input_ids (InputLayer)    [(None, 40)]         0           []                               \n",
            "                                                                                                  \n",
            " bert_input_masks (InputLayer)  [(None, 40)]         0           []                               \n",
            "                                                                                                  \n",
            " bert_segment_ids (InputLayer)  [(None, 40)]         0           []                               \n",
            "                                                                                                  \n",
            " tf_bert_model_4 (TFBertModel)  TFBaseModelOutputWi  109482240   ['bert_input_ids[0][0]',         \n",
            "                                thPoolingAndCrossAt               'bert_input_masks[0][0]',       \n",
            "                                tentions(last_hidde               'bert_segment_ids[0][0]']       \n",
            "                                n_state=(None, 40,                                                \n",
            "                                768),                                                             \n",
            "                                 pooler_output=(Non                                               \n",
            "                                e, 768),                                                          \n",
            "                                 past_key_values=No                                               \n",
            "                                ne, hidden_states=N                                               \n",
            "                                one, attentions=Non                                               \n",
            "                                e, cross_attentions                                               \n",
            "                                =None)                                                            \n",
            "                                                                                                  \n",
            " dense_40 (Dense)               (None, 256)          196864      ['tf_bert_model_4[0][1]']        \n",
            "                                                                                                  \n",
            " dropout_215 (Dropout)          (None, 256)          0           ['dense_40[0][0]']               \n",
            "                                                                                                  \n",
            " dense_41 (Dense)               (None, 256)          65792       ['dropout_215[0][0]']            \n",
            "                                                                                                  \n",
            " dropout_216 (Dropout)          (None, 256)          0           ['dense_41[0][0]']               \n",
            "                                                                                                  \n",
            " dense_42 (Dense)               (None, 256)          65792       ['dropout_216[0][0]']            \n",
            "                                                                                                  \n",
            " dropout_217 (Dropout)          (None, 256)          0           ['dense_42[0][0]']               \n",
            "                                                                                                  \n",
            " dense_43 (Dense)               (None, 512)          131584      ['dropout_217[0][0]']            \n",
            "                                                                                                  \n",
            " dropout_218 (Dropout)          (None, 512)          0           ['dense_43[0][0]']               \n",
            "                                                                                                  \n",
            " dense_44 (Dense)               (None, 1)            513         ['dropout_218[0][0]']            \n",
            "                                                                                                  \n",
            "==================================================================================================\n",
            "Total params: 109,942,785\n",
            "Trainable params: 109,942,785\n",
            "Non-trainable params: 0\n",
            "__________________________________________________________________________________________________\n"
          ]
        }
      ]
    },
    {
      "cell_type": "code",
      "source": [
        "model.fit([train_features_ids,\n",
        "           train_features_masks,\n",
        "           train_features_segments], y_train,\n",
        "          epochs=epochs, # run more only if needed as this takes a long time\n",
        "          batch_size=batch_size, # reduce this in case you get GPU OOM error\n",
        "          shuffle=True,\n",
        "          verbose=1)"
      ],
      "metadata": {
        "colab": {
          "base_uri": "https://localhost:8080/"
        },
        "id": "2aC03MPj-b6-",
        "outputId": "f37bf1b0-2310-4143-a0c4-98f4c70d8b04"
      },
      "execution_count": null,
      "outputs": [
        {
          "output_type": "stream",
          "name": "stdout",
          "text": [
            "Epoch 1/5\n",
            "101/101 [==============================] - 161s 1s/step - loss: 0.8302 - accuracy: 0.5387\n",
            "Epoch 2/5\n",
            "101/101 [==============================] - 142s 1s/step - loss: 0.8324 - accuracy: 0.5379\n",
            "Epoch 3/5\n",
            "101/101 [==============================] - 142s 1s/step - loss: 0.8366 - accuracy: 0.5378\n",
            "Epoch 4/5\n",
            "101/101 [==============================] - 142s 1s/step - loss: 0.8371 - accuracy: 0.5380\n",
            "Epoch 5/5\n",
            "101/101 [==============================] - 142s 1s/step - loss: 0.8347 - accuracy: 0.5395\n"
          ]
        },
        {
          "output_type": "execute_result",
          "data": {
            "text/plain": [
              "<keras.callbacks.History at 0x7f880469fdf0>"
            ]
          },
          "metadata": {},
          "execution_count": 49
        }
      ]
    },
    {
      "cell_type": "code",
      "source": [
        "predictions = [1 if pr > 0.5 else 0\n",
        "                   for pr in model.predict([test_features_ids,\n",
        "                                            test_features_masks,test_features_segments], batch_size=200, verbose=0).ravel()]\n",
        "\n",
        "print(\"Accuracy: %.2f%%\" % (accuracy_score(y_test, predictions)*100))\n",
        "print(classification_report(y_test, predictions))\n",
        "pd.DataFrame(confusion_matrix(y_test, predictions))"
      ],
      "metadata": {
        "colab": {
          "base_uri": "https://localhost:8080/",
          "height": 290
        },
        "id": "2rSrbK3c-iuG",
        "outputId": "6e0aad7b-bf3a-4716-92e1-493330d1404f"
      },
      "execution_count": null,
      "outputs": [
        {
          "output_type": "stream",
          "name": "stdout",
          "text": [
            "Accuracy: 49.01%\n",
            "              precision    recall  f1-score   support\n",
            "\n",
            "           0       0.71      0.03      0.06      4455\n",
            "           1       0.49      0.99      0.65      4131\n",
            "\n",
            "    accuracy                           0.49      8586\n",
            "   macro avg       0.60      0.51      0.35      8586\n",
            "weighted avg       0.60      0.49      0.34      8586\n",
            "\n"
          ]
        },
        {
          "output_type": "execute_result",
          "data": {
            "text/plain": [
              "     0     1\n",
              "0  131  4324\n",
              "1   54  4077"
            ],
            "text/html": [
              "\n",
              "  <div id=\"df-a545207e-ef80-44dd-bdd3-d91496602ef1\">\n",
              "    <div class=\"colab-df-container\">\n",
              "      <div>\n",
              "<style scoped>\n",
              "    .dataframe tbody tr th:only-of-type {\n",
              "        vertical-align: middle;\n",
              "    }\n",
              "\n",
              "    .dataframe tbody tr th {\n",
              "        vertical-align: top;\n",
              "    }\n",
              "\n",
              "    .dataframe thead th {\n",
              "        text-align: right;\n",
              "    }\n",
              "</style>\n",
              "<table border=\"1\" class=\"dataframe\">\n",
              "  <thead>\n",
              "    <tr style=\"text-align: right;\">\n",
              "      <th></th>\n",
              "      <th>0</th>\n",
              "      <th>1</th>\n",
              "    </tr>\n",
              "  </thead>\n",
              "  <tbody>\n",
              "    <tr>\n",
              "      <th>0</th>\n",
              "      <td>131</td>\n",
              "      <td>4324</td>\n",
              "    </tr>\n",
              "    <tr>\n",
              "      <th>1</th>\n",
              "      <td>54</td>\n",
              "      <td>4077</td>\n",
              "    </tr>\n",
              "  </tbody>\n",
              "</table>\n",
              "</div>\n",
              "      <button class=\"colab-df-convert\" onclick=\"convertToInteractive('df-a545207e-ef80-44dd-bdd3-d91496602ef1')\"\n",
              "              title=\"Convert this dataframe to an interactive table.\"\n",
              "              style=\"display:none;\">\n",
              "        \n",
              "  <svg xmlns=\"http://www.w3.org/2000/svg\" height=\"24px\"viewBox=\"0 0 24 24\"\n",
              "       width=\"24px\">\n",
              "    <path d=\"M0 0h24v24H0V0z\" fill=\"none\"/>\n",
              "    <path d=\"M18.56 5.44l.94 2.06.94-2.06 2.06-.94-2.06-.94-.94-2.06-.94 2.06-2.06.94zm-11 1L8.5 8.5l.94-2.06 2.06-.94-2.06-.94L8.5 2.5l-.94 2.06-2.06.94zm10 10l.94 2.06.94-2.06 2.06-.94-2.06-.94-.94-2.06-.94 2.06-2.06.94z\"/><path d=\"M17.41 7.96l-1.37-1.37c-.4-.4-.92-.59-1.43-.59-.52 0-1.04.2-1.43.59L10.3 9.45l-7.72 7.72c-.78.78-.78 2.05 0 2.83L4 21.41c.39.39.9.59 1.41.59.51 0 1.02-.2 1.41-.59l7.78-7.78 2.81-2.81c.8-.78.8-2.07 0-2.86zM5.41 20L4 18.59l7.72-7.72 1.47 1.35L5.41 20z\"/>\n",
              "  </svg>\n",
              "      </button>\n",
              "      \n",
              "  <style>\n",
              "    .colab-df-container {\n",
              "      display:flex;\n",
              "      flex-wrap:wrap;\n",
              "      gap: 12px;\n",
              "    }\n",
              "\n",
              "    .colab-df-convert {\n",
              "      background-color: #E8F0FE;\n",
              "      border: none;\n",
              "      border-radius: 50%;\n",
              "      cursor: pointer;\n",
              "      display: none;\n",
              "      fill: #1967D2;\n",
              "      height: 32px;\n",
              "      padding: 0 0 0 0;\n",
              "      width: 32px;\n",
              "    }\n",
              "\n",
              "    .colab-df-convert:hover {\n",
              "      background-color: #E2EBFA;\n",
              "      box-shadow: 0px 1px 2px rgba(60, 64, 67, 0.3), 0px 1px 3px 1px rgba(60, 64, 67, 0.15);\n",
              "      fill: #174EA6;\n",
              "    }\n",
              "\n",
              "    [theme=dark] .colab-df-convert {\n",
              "      background-color: #3B4455;\n",
              "      fill: #D2E3FC;\n",
              "    }\n",
              "\n",
              "    [theme=dark] .colab-df-convert:hover {\n",
              "      background-color: #434B5C;\n",
              "      box-shadow: 0px 1px 3px 1px rgba(0, 0, 0, 0.15);\n",
              "      filter: drop-shadow(0px 1px 2px rgba(0, 0, 0, 0.3));\n",
              "      fill: #FFFFFF;\n",
              "    }\n",
              "  </style>\n",
              "\n",
              "      <script>\n",
              "        const buttonEl =\n",
              "          document.querySelector('#df-a545207e-ef80-44dd-bdd3-d91496602ef1 button.colab-df-convert');\n",
              "        buttonEl.style.display =\n",
              "          google.colab.kernel.accessAllowed ? 'block' : 'none';\n",
              "\n",
              "        async function convertToInteractive(key) {\n",
              "          const element = document.querySelector('#df-a545207e-ef80-44dd-bdd3-d91496602ef1');\n",
              "          const dataTable =\n",
              "            await google.colab.kernel.invokeFunction('convertToInteractive',\n",
              "                                                     [key], {});\n",
              "          if (!dataTable) return;\n",
              "\n",
              "          const docLinkHtml = 'Like what you see? Visit the ' +\n",
              "            '<a target=\"_blank\" href=https://colab.research.google.com/notebooks/data_table.ipynb>data table notebook</a>'\n",
              "            + ' to learn more about interactive tables.';\n",
              "          element.innerHTML = '';\n",
              "          dataTable['output_type'] = 'display_data';\n",
              "          await google.colab.output.renderOutput(dataTable, element);\n",
              "          const docLink = document.createElement('div');\n",
              "          docLink.innerHTML = docLinkHtml;\n",
              "          element.appendChild(docLink);\n",
              "        }\n",
              "      </script>\n",
              "    </div>\n",
              "  </div>\n",
              "  "
            ]
          },
          "metadata": {},
          "execution_count": 50
        }
      ]
    },
    {
      "cell_type": "markdown",
      "source": [
        "Case5 -\n",
        "\n",
        "*   4 layers\n",
        "*   layer size: [256,256,256,256]\n",
        "\n",
        "*   kernel_initialzer: he_normal\n",
        "*   dropout rate: 0.2"
      ],
      "metadata": {
        "id": "bvDx92tldjMD"
      }
    },
    {
      "cell_type": "code",
      "source": [
        "dense1 = tf.keras.layers.Dense(256, activation='relu',kernel_initializer=\"he_normal\")(pooled_output)\n",
        "drop1 = tf.keras.layers.Dropout(0.2)(dense1)\n",
        "dense2 = tf.keras.layers.Dense(256, activation='relu',kernel_initializer=\"he_normal\")(drop1)\n",
        "drop2 = tf.keras.layers.Dropout(0.2)(dense2)\n",
        "dense3 = tf.keras.layers.Dense(256, activation='relu',kernel_initializer=\"he_normal\")(drop2)\n",
        "drop3 = tf.keras.layers.Dropout(0.2)(dense3)\n",
        "dense4 = tf.keras.layers.Dense(256, activation='relu',kernel_initializer=\"he_normal\")(drop3)\n",
        "drop4 = tf.keras.layers.Dropout(0.2)(dense4)\n",
        "\n",
        "\n",
        "output = tf.keras.layers.Dense(1, activation='sigmoid')(drop4)\n",
        "\n",
        "model = tf.keras.Model(inputs=inputs, outputs=output)\n",
        "\n",
        "model.compile(optimizer=optimizer,\n",
        "              loss='binary_crossentropy', metrics=['accuracy'])\n",
        "\n",
        "model.summary()"
      ],
      "metadata": {
        "colab": {
          "base_uri": "https://localhost:8080/"
        },
        "id": "MV5WD7gD_yCv",
        "outputId": "b74fc0f2-e7b2-426f-c19a-bacf7b4a2ade"
      },
      "execution_count": null,
      "outputs": [
        {
          "output_type": "stream",
          "name": "stdout",
          "text": [
            "Model: \"model_11\"\n",
            "__________________________________________________________________________________________________\n",
            " Layer (type)                   Output Shape         Param #     Connected to                     \n",
            "==================================================================================================\n",
            " bert_input_ids (InputLayer)    [(None, 40)]         0           []                               \n",
            "                                                                                                  \n",
            " bert_input_masks (InputLayer)  [(None, 40)]         0           []                               \n",
            "                                                                                                  \n",
            " bert_segment_ids (InputLayer)  [(None, 40)]         0           []                               \n",
            "                                                                                                  \n",
            " tf_bert_model_4 (TFBertModel)  TFBaseModelOutputWi  109482240   ['bert_input_ids[0][0]',         \n",
            "                                thPoolingAndCrossAt               'bert_input_masks[0][0]',       \n",
            "                                tentions(last_hidde               'bert_segment_ids[0][0]']       \n",
            "                                n_state=(None, 40,                                                \n",
            "                                768),                                                             \n",
            "                                 pooler_output=(Non                                               \n",
            "                                e, 768),                                                          \n",
            "                                 past_key_values=No                                               \n",
            "                                ne, hidden_states=N                                               \n",
            "                                one, attentions=Non                                               \n",
            "                                e, cross_attentions                                               \n",
            "                                =None)                                                            \n",
            "                                                                                                  \n",
            " dense_45 (Dense)               (None, 256)          196864      ['tf_bert_model_4[0][1]']        \n",
            "                                                                                                  \n",
            " dropout_219 (Dropout)          (None, 256)          0           ['dense_45[0][0]']               \n",
            "                                                                                                  \n",
            " dense_46 (Dense)               (None, 256)          65792       ['dropout_219[0][0]']            \n",
            "                                                                                                  \n",
            " dropout_220 (Dropout)          (None, 256)          0           ['dense_46[0][0]']               \n",
            "                                                                                                  \n",
            " dense_47 (Dense)               (None, 256)          65792       ['dropout_220[0][0]']            \n",
            "                                                                                                  \n",
            " dropout_221 (Dropout)          (None, 256)          0           ['dense_47[0][0]']               \n",
            "                                                                                                  \n",
            " dense_48 (Dense)               (None, 256)          65792       ['dropout_221[0][0]']            \n",
            "                                                                                                  \n",
            " dropout_222 (Dropout)          (None, 256)          0           ['dense_48[0][0]']               \n",
            "                                                                                                  \n",
            " dense_49 (Dense)               (None, 1)            257         ['dropout_222[0][0]']            \n",
            "                                                                                                  \n",
            "==================================================================================================\n",
            "Total params: 109,876,737\n",
            "Trainable params: 109,876,737\n",
            "Non-trainable params: 0\n",
            "__________________________________________________________________________________________________\n"
          ]
        }
      ]
    },
    {
      "cell_type": "code",
      "source": [
        "model.fit([train_features_ids,\n",
        "           train_features_masks,\n",
        "           train_features_segments], y_train,\n",
        "          epochs=epochs, # run more only if needed as this takes a long time\n",
        "          batch_size=batch_size, # reduce this in case you get GPU OOM error\n",
        "          shuffle=True,\n",
        "          verbose=1)"
      ],
      "metadata": {
        "colab": {
          "base_uri": "https://localhost:8080/"
        },
        "id": "O3vkQGDO_4It",
        "outputId": "20b787d0-19fa-4095-bb1e-022f8a49dc40"
      },
      "execution_count": null,
      "outputs": [
        {
          "output_type": "stream",
          "name": "stdout",
          "text": [
            "Epoch 1/5\n",
            "101/101 [==============================] - 159s 1s/step - loss: 1.1141 - accuracy: 0.4914\n",
            "Epoch 2/5\n",
            "101/101 [==============================] - 142s 1s/step - loss: 1.1138 - accuracy: 0.4908\n",
            "Epoch 3/5\n",
            "101/101 [==============================] - 142s 1s/step - loss: 1.1129 - accuracy: 0.4949\n",
            "Epoch 4/5\n",
            "101/101 [==============================] - 142s 1s/step - loss: 1.1180 - accuracy: 0.4909\n",
            "Epoch 5/5\n",
            "101/101 [==============================] - 142s 1s/step - loss: 1.1162 - accuracy: 0.4925\n"
          ]
        },
        {
          "output_type": "execute_result",
          "data": {
            "text/plain": [
              "<keras.callbacks.History at 0x7f87ea5e5ed0>"
            ]
          },
          "metadata": {},
          "execution_count": 52
        }
      ]
    },
    {
      "cell_type": "code",
      "source": [
        "predictions = [1 if pr > 0.5 else 0\n",
        "                   for pr in model.predict([test_features_ids,\n",
        "                                            test_features_masks,test_features_segments], batch_size=200, verbose=0).ravel()]\n",
        "\n",
        "print(\"Accuracy: %.2f%%\" % (accuracy_score(y_test, predictions)*100))\n",
        "print(classification_report(y_test, predictions))\n",
        "pd.DataFrame(confusion_matrix(y_test, predictions))"
      ],
      "metadata": {
        "colab": {
          "base_uri": "https://localhost:8080/",
          "height": 417
        },
        "id": "2KDcBasb_5zg",
        "outputId": "fd9528c5-8a55-4c68-98c8-5dc223e3d234"
      },
      "execution_count": null,
      "outputs": [
        {
          "output_type": "stream",
          "name": "stdout",
          "text": [
            "Accuracy: 48.11%\n",
            "              precision    recall  f1-score   support\n",
            "\n",
            "           0       0.00      0.00      0.00      4455\n",
            "           1       0.48      1.00      0.65      4131\n",
            "\n",
            "    accuracy                           0.48      8586\n",
            "   macro avg       0.24      0.50      0.32      8586\n",
            "weighted avg       0.23      0.48      0.31      8586\n",
            "\n"
          ]
        },
        {
          "output_type": "stream",
          "name": "stderr",
          "text": [
            "/usr/local/lib/python3.10/dist-packages/sklearn/metrics/_classification.py:1344: UndefinedMetricWarning: Precision and F-score are ill-defined and being set to 0.0 in labels with no predicted samples. Use `zero_division` parameter to control this behavior.\n",
            "  _warn_prf(average, modifier, msg_start, len(result))\n",
            "/usr/local/lib/python3.10/dist-packages/sklearn/metrics/_classification.py:1344: UndefinedMetricWarning: Precision and F-score are ill-defined and being set to 0.0 in labels with no predicted samples. Use `zero_division` parameter to control this behavior.\n",
            "  _warn_prf(average, modifier, msg_start, len(result))\n",
            "/usr/local/lib/python3.10/dist-packages/sklearn/metrics/_classification.py:1344: UndefinedMetricWarning: Precision and F-score are ill-defined and being set to 0.0 in labels with no predicted samples. Use `zero_division` parameter to control this behavior.\n",
            "  _warn_prf(average, modifier, msg_start, len(result))\n"
          ]
        },
        {
          "output_type": "execute_result",
          "data": {
            "text/plain": [
              "   0     1\n",
              "0  0  4455\n",
              "1  0  4131"
            ],
            "text/html": [
              "\n",
              "  <div id=\"df-63b1eebc-357f-4b33-a3ff-2cc9bee6711e\">\n",
              "    <div class=\"colab-df-container\">\n",
              "      <div>\n",
              "<style scoped>\n",
              "    .dataframe tbody tr th:only-of-type {\n",
              "        vertical-align: middle;\n",
              "    }\n",
              "\n",
              "    .dataframe tbody tr th {\n",
              "        vertical-align: top;\n",
              "    }\n",
              "\n",
              "    .dataframe thead th {\n",
              "        text-align: right;\n",
              "    }\n",
              "</style>\n",
              "<table border=\"1\" class=\"dataframe\">\n",
              "  <thead>\n",
              "    <tr style=\"text-align: right;\">\n",
              "      <th></th>\n",
              "      <th>0</th>\n",
              "      <th>1</th>\n",
              "    </tr>\n",
              "  </thead>\n",
              "  <tbody>\n",
              "    <tr>\n",
              "      <th>0</th>\n",
              "      <td>0</td>\n",
              "      <td>4455</td>\n",
              "    </tr>\n",
              "    <tr>\n",
              "      <th>1</th>\n",
              "      <td>0</td>\n",
              "      <td>4131</td>\n",
              "    </tr>\n",
              "  </tbody>\n",
              "</table>\n",
              "</div>\n",
              "      <button class=\"colab-df-convert\" onclick=\"convertToInteractive('df-63b1eebc-357f-4b33-a3ff-2cc9bee6711e')\"\n",
              "              title=\"Convert this dataframe to an interactive table.\"\n",
              "              style=\"display:none;\">\n",
              "        \n",
              "  <svg xmlns=\"http://www.w3.org/2000/svg\" height=\"24px\"viewBox=\"0 0 24 24\"\n",
              "       width=\"24px\">\n",
              "    <path d=\"M0 0h24v24H0V0z\" fill=\"none\"/>\n",
              "    <path d=\"M18.56 5.44l.94 2.06.94-2.06 2.06-.94-2.06-.94-.94-2.06-.94 2.06-2.06.94zm-11 1L8.5 8.5l.94-2.06 2.06-.94-2.06-.94L8.5 2.5l-.94 2.06-2.06.94zm10 10l.94 2.06.94-2.06 2.06-.94-2.06-.94-.94-2.06-.94 2.06-2.06.94z\"/><path d=\"M17.41 7.96l-1.37-1.37c-.4-.4-.92-.59-1.43-.59-.52 0-1.04.2-1.43.59L10.3 9.45l-7.72 7.72c-.78.78-.78 2.05 0 2.83L4 21.41c.39.39.9.59 1.41.59.51 0 1.02-.2 1.41-.59l7.78-7.78 2.81-2.81c.8-.78.8-2.07 0-2.86zM5.41 20L4 18.59l7.72-7.72 1.47 1.35L5.41 20z\"/>\n",
              "  </svg>\n",
              "      </button>\n",
              "      \n",
              "  <style>\n",
              "    .colab-df-container {\n",
              "      display:flex;\n",
              "      flex-wrap:wrap;\n",
              "      gap: 12px;\n",
              "    }\n",
              "\n",
              "    .colab-df-convert {\n",
              "      background-color: #E8F0FE;\n",
              "      border: none;\n",
              "      border-radius: 50%;\n",
              "      cursor: pointer;\n",
              "      display: none;\n",
              "      fill: #1967D2;\n",
              "      height: 32px;\n",
              "      padding: 0 0 0 0;\n",
              "      width: 32px;\n",
              "    }\n",
              "\n",
              "    .colab-df-convert:hover {\n",
              "      background-color: #E2EBFA;\n",
              "      box-shadow: 0px 1px 2px rgba(60, 64, 67, 0.3), 0px 1px 3px 1px rgba(60, 64, 67, 0.15);\n",
              "      fill: #174EA6;\n",
              "    }\n",
              "\n",
              "    [theme=dark] .colab-df-convert {\n",
              "      background-color: #3B4455;\n",
              "      fill: #D2E3FC;\n",
              "    }\n",
              "\n",
              "    [theme=dark] .colab-df-convert:hover {\n",
              "      background-color: #434B5C;\n",
              "      box-shadow: 0px 1px 3px 1px rgba(0, 0, 0, 0.15);\n",
              "      filter: drop-shadow(0px 1px 2px rgba(0, 0, 0, 0.3));\n",
              "      fill: #FFFFFF;\n",
              "    }\n",
              "  </style>\n",
              "\n",
              "      <script>\n",
              "        const buttonEl =\n",
              "          document.querySelector('#df-63b1eebc-357f-4b33-a3ff-2cc9bee6711e button.colab-df-convert');\n",
              "        buttonEl.style.display =\n",
              "          google.colab.kernel.accessAllowed ? 'block' : 'none';\n",
              "\n",
              "        async function convertToInteractive(key) {\n",
              "          const element = document.querySelector('#df-63b1eebc-357f-4b33-a3ff-2cc9bee6711e');\n",
              "          const dataTable =\n",
              "            await google.colab.kernel.invokeFunction('convertToInteractive',\n",
              "                                                     [key], {});\n",
              "          if (!dataTable) return;\n",
              "\n",
              "          const docLinkHtml = 'Like what you see? Visit the ' +\n",
              "            '<a target=\"_blank\" href=https://colab.research.google.com/notebooks/data_table.ipynb>data table notebook</a>'\n",
              "            + ' to learn more about interactive tables.';\n",
              "          element.innerHTML = '';\n",
              "          dataTable['output_type'] = 'display_data';\n",
              "          await google.colab.output.renderOutput(dataTable, element);\n",
              "          const docLink = document.createElement('div');\n",
              "          docLink.innerHTML = docLinkHtml;\n",
              "          element.appendChild(docLink);\n",
              "        }\n",
              "      </script>\n",
              "    </div>\n",
              "  </div>\n",
              "  "
            ]
          },
          "metadata": {},
          "execution_count": 53
        }
      ]
    },
    {
      "cell_type": "markdown",
      "source": [
        "Case6 -\n",
        "\n",
        "*   3 layers\n",
        "*   layer size: [256,256,128]\n",
        "\n",
        "*   kernel_initialzer: he_normal\n",
        "*   dropout rate: 0.2"
      ],
      "metadata": {
        "id": "xXcy1T5Sdt6j"
      }
    },
    {
      "cell_type": "code",
      "source": [
        "dense1 = tf.keras.layers.Dense(256, activation='relu',kernel_initializer=\"he_normal\")(pooled_output)\n",
        "drop1 = tf.keras.layers.Dropout(0.2)(dense1)\n",
        "dense2 = tf.keras.layers.Dense(256, activation='relu',kernel_initializer=\"he_normal\")(drop1)\n",
        "drop2 = tf.keras.layers.Dropout(0.2)(dense2)\n",
        "dense3 = tf.keras.layers.Dense(128, activation='relu',kernel_initializer=\"he_normal\")(drop2)\n",
        "drop3 = tf.keras.layers.Dropout(0.2)(dense3)\n",
        "\n",
        "\n",
        "output = tf.keras.layers.Dense(1, activation='sigmoid')(drop3)\n",
        "\n",
        "model = tf.keras.Model(inputs=inputs, outputs=output)\n",
        "\n",
        "model.compile(optimizer=optimizer,\n",
        "              loss='binary_crossentropy', metrics=['accuracy'])\n",
        "\n",
        "model.summary()"
      ],
      "metadata": {
        "id": "xEEJJcVWDzon"
      },
      "execution_count": null,
      "outputs": []
    },
    {
      "cell_type": "code",
      "source": [
        "model.fit([train_features_ids,\n",
        "           train_features_masks,\n",
        "           train_features_segments], y_train,\n",
        "          epochs=epochs, # run more only if needed as this takes a long time\n",
        "          batch_size=batch_size, # reduce this in case you get GPU OOM error\n",
        "          shuffle=True,\n",
        "          verbose=1)"
      ],
      "metadata": {
        "colab": {
          "base_uri": "https://localhost:8080/"
        },
        "id": "76gWWzoqD3EU",
        "outputId": "b873e03f-926f-4af4-93b9-e37ec1925086"
      },
      "execution_count": null,
      "outputs": [
        {
          "output_type": "stream",
          "name": "stdout",
          "text": [
            "Epoch 1/5\n",
            "101/101 [==============================] - 161s 1s/step - loss: 0.4337 - accuracy: 0.8023\n",
            "Epoch 2/5\n",
            "101/101 [==============================] - 142s 1s/step - loss: 0.4334 - accuracy: 0.8008\n",
            "Epoch 3/5\n",
            "101/101 [==============================] - 142s 1s/step - loss: 0.4310 - accuracy: 0.8025\n",
            "Epoch 4/5\n",
            "101/101 [==============================] - 142s 1s/step - loss: 0.4326 - accuracy: 0.7990\n",
            "Epoch 5/5\n",
            "101/101 [==============================] - 142s 1s/step - loss: 0.4333 - accuracy: 0.7994\n"
          ]
        },
        {
          "output_type": "execute_result",
          "data": {
            "text/plain": [
              "<keras.callbacks.History at 0x7f85feb6e710>"
            ]
          },
          "metadata": {},
          "execution_count": 55
        }
      ]
    },
    {
      "cell_type": "code",
      "source": [
        "predictions = [1 if pr > 0.5 else 0\n",
        "                   for pr in model.predict([test_features_ids,\n",
        "                                            test_features_masks,test_features_segments], batch_size=200, verbose=0).ravel()]\n",
        "\n",
        "print(\"Accuracy: %.2f%%\" % (accuracy_score(y_test, predictions)*100))\n",
        "print(classification_report(y_test, predictions))\n",
        "pd.DataFrame(confusion_matrix(y_test, predictions))"
      ],
      "metadata": {
        "colab": {
          "base_uri": "https://localhost:8080/",
          "height": 290
        },
        "id": "Ucgs-a2kD37y",
        "outputId": "d4705920-9304-4393-8ae8-26ee3b731933"
      },
      "execution_count": null,
      "outputs": [
        {
          "output_type": "stream",
          "name": "stdout",
          "text": [
            "Accuracy: 91.19%\n",
            "              precision    recall  f1-score   support\n",
            "\n",
            "           0       0.89      0.95      0.92      4455\n",
            "           1       0.94      0.87      0.90      4131\n",
            "\n",
            "    accuracy                           0.91      8586\n",
            "   macro avg       0.92      0.91      0.91      8586\n",
            "weighted avg       0.91      0.91      0.91      8586\n",
            "\n"
          ]
        },
        {
          "output_type": "execute_result",
          "data": {
            "text/plain": [
              "      0     1\n",
              "0  4236   219\n",
              "1   537  3594"
            ],
            "text/html": [
              "\n",
              "  <div id=\"df-2c94980a-ef70-4eb5-badd-1b7bf03b104e\">\n",
              "    <div class=\"colab-df-container\">\n",
              "      <div>\n",
              "<style scoped>\n",
              "    .dataframe tbody tr th:only-of-type {\n",
              "        vertical-align: middle;\n",
              "    }\n",
              "\n",
              "    .dataframe tbody tr th {\n",
              "        vertical-align: top;\n",
              "    }\n",
              "\n",
              "    .dataframe thead th {\n",
              "        text-align: right;\n",
              "    }\n",
              "</style>\n",
              "<table border=\"1\" class=\"dataframe\">\n",
              "  <thead>\n",
              "    <tr style=\"text-align: right;\">\n",
              "      <th></th>\n",
              "      <th>0</th>\n",
              "      <th>1</th>\n",
              "    </tr>\n",
              "  </thead>\n",
              "  <tbody>\n",
              "    <tr>\n",
              "      <th>0</th>\n",
              "      <td>4236</td>\n",
              "      <td>219</td>\n",
              "    </tr>\n",
              "    <tr>\n",
              "      <th>1</th>\n",
              "      <td>537</td>\n",
              "      <td>3594</td>\n",
              "    </tr>\n",
              "  </tbody>\n",
              "</table>\n",
              "</div>\n",
              "      <button class=\"colab-df-convert\" onclick=\"convertToInteractive('df-2c94980a-ef70-4eb5-badd-1b7bf03b104e')\"\n",
              "              title=\"Convert this dataframe to an interactive table.\"\n",
              "              style=\"display:none;\">\n",
              "        \n",
              "  <svg xmlns=\"http://www.w3.org/2000/svg\" height=\"24px\"viewBox=\"0 0 24 24\"\n",
              "       width=\"24px\">\n",
              "    <path d=\"M0 0h24v24H0V0z\" fill=\"none\"/>\n",
              "    <path d=\"M18.56 5.44l.94 2.06.94-2.06 2.06-.94-2.06-.94-.94-2.06-.94 2.06-2.06.94zm-11 1L8.5 8.5l.94-2.06 2.06-.94-2.06-.94L8.5 2.5l-.94 2.06-2.06.94zm10 10l.94 2.06.94-2.06 2.06-.94-2.06-.94-.94-2.06-.94 2.06-2.06.94z\"/><path d=\"M17.41 7.96l-1.37-1.37c-.4-.4-.92-.59-1.43-.59-.52 0-1.04.2-1.43.59L10.3 9.45l-7.72 7.72c-.78.78-.78 2.05 0 2.83L4 21.41c.39.39.9.59 1.41.59.51 0 1.02-.2 1.41-.59l7.78-7.78 2.81-2.81c.8-.78.8-2.07 0-2.86zM5.41 20L4 18.59l7.72-7.72 1.47 1.35L5.41 20z\"/>\n",
              "  </svg>\n",
              "      </button>\n",
              "      \n",
              "  <style>\n",
              "    .colab-df-container {\n",
              "      display:flex;\n",
              "      flex-wrap:wrap;\n",
              "      gap: 12px;\n",
              "    }\n",
              "\n",
              "    .colab-df-convert {\n",
              "      background-color: #E8F0FE;\n",
              "      border: none;\n",
              "      border-radius: 50%;\n",
              "      cursor: pointer;\n",
              "      display: none;\n",
              "      fill: #1967D2;\n",
              "      height: 32px;\n",
              "      padding: 0 0 0 0;\n",
              "      width: 32px;\n",
              "    }\n",
              "\n",
              "    .colab-df-convert:hover {\n",
              "      background-color: #E2EBFA;\n",
              "      box-shadow: 0px 1px 2px rgba(60, 64, 67, 0.3), 0px 1px 3px 1px rgba(60, 64, 67, 0.15);\n",
              "      fill: #174EA6;\n",
              "    }\n",
              "\n",
              "    [theme=dark] .colab-df-convert {\n",
              "      background-color: #3B4455;\n",
              "      fill: #D2E3FC;\n",
              "    }\n",
              "\n",
              "    [theme=dark] .colab-df-convert:hover {\n",
              "      background-color: #434B5C;\n",
              "      box-shadow: 0px 1px 3px 1px rgba(0, 0, 0, 0.15);\n",
              "      filter: drop-shadow(0px 1px 2px rgba(0, 0, 0, 0.3));\n",
              "      fill: #FFFFFF;\n",
              "    }\n",
              "  </style>\n",
              "\n",
              "      <script>\n",
              "        const buttonEl =\n",
              "          document.querySelector('#df-2c94980a-ef70-4eb5-badd-1b7bf03b104e button.colab-df-convert');\n",
              "        buttonEl.style.display =\n",
              "          google.colab.kernel.accessAllowed ? 'block' : 'none';\n",
              "\n",
              "        async function convertToInteractive(key) {\n",
              "          const element = document.querySelector('#df-2c94980a-ef70-4eb5-badd-1b7bf03b104e');\n",
              "          const dataTable =\n",
              "            await google.colab.kernel.invokeFunction('convertToInteractive',\n",
              "                                                     [key], {});\n",
              "          if (!dataTable) return;\n",
              "\n",
              "          const docLinkHtml = 'Like what you see? Visit the ' +\n",
              "            '<a target=\"_blank\" href=https://colab.research.google.com/notebooks/data_table.ipynb>data table notebook</a>'\n",
              "            + ' to learn more about interactive tables.';\n",
              "          element.innerHTML = '';\n",
              "          dataTable['output_type'] = 'display_data';\n",
              "          await google.colab.output.renderOutput(dataTable, element);\n",
              "          const docLink = document.createElement('div');\n",
              "          docLink.innerHTML = docLinkHtml;\n",
              "          element.appendChild(docLink);\n",
              "        }\n",
              "      </script>\n",
              "    </div>\n",
              "  </div>\n",
              "  "
            ]
          },
          "metadata": {},
          "execution_count": 56
        }
      ]
    },
    {
      "cell_type": "markdown",
      "source": [
        "Case7 -\n",
        "\n",
        "*   3 layers\n",
        "*   layer size: [256,256,512]\n",
        "\n",
        "*   kernel_initialzer: he_normal\n",
        "*   dropout rate: 0.2"
      ],
      "metadata": {
        "id": "WT4K9Voydz4Y"
      }
    },
    {
      "cell_type": "code",
      "source": [
        "dense1 = tf.keras.layers.Dense(256, activation='relu',kernel_initializer=\"he_normal\")(pooled_output)\n",
        "drop1 = tf.keras.layers.Dropout(0.2)(dense1)\n",
        "dense2 = tf.keras.layers.Dense(256, activation='relu',kernel_initializer=\"he_normal\")(drop1)\n",
        "drop2 = tf.keras.layers.Dropout(0.2)(dense2)\n",
        "dense3 = tf.keras.layers.Dense(512, activation='relu',kernel_initializer=\"he_normal\")(drop2)\n",
        "drop3 = tf.keras.layers.Dropout(0.2)(dense3)\n",
        "\n",
        "\n",
        "output = tf.keras.layers.Dense(1, activation='sigmoid')(drop3)\n",
        "\n",
        "model = tf.keras.Model(inputs=inputs, outputs=output)\n",
        "\n",
        "model.compile(optimizer=optimizer,\n",
        "              loss='binary_crossentropy', metrics=['accuracy'])\n",
        "\n",
        "model.summary()"
      ],
      "metadata": {
        "id": "aOm_yB8XILgB"
      },
      "execution_count": null,
      "outputs": []
    },
    {
      "cell_type": "code",
      "source": [
        "model.fit([train_features_ids,\n",
        "           train_features_masks,\n",
        "           train_features_segments], y_train,\n",
        "          epochs=epochs, # run more only if needed as this takes a long time\n",
        "          batch_size=batch_size, # reduce this in case you get GPU OOM error\n",
        "          shuffle=True,\n",
        "          verbose=1)"
      ],
      "metadata": {
        "colab": {
          "base_uri": "https://localhost:8080/"
        },
        "id": "WRMiuCd7Iq_h",
        "outputId": "32a4b5d5-baf2-4842-803d-2b8dd7eae253"
      },
      "execution_count": null,
      "outputs": [
        {
          "output_type": "stream",
          "name": "stdout",
          "text": [
            "Epoch 1/5\n",
            "101/101 [==============================] - 160s 1s/step - loss: 1.0483 - accuracy: 0.3772\n",
            "Epoch 2/5\n",
            "101/101 [==============================] - 142s 1s/step - loss: 1.0497 - accuracy: 0.3821\n",
            "Epoch 3/5\n",
            "101/101 [==============================] - 142s 1s/step - loss: 1.0466 - accuracy: 0.3793\n",
            "Epoch 4/5\n",
            "101/101 [==============================] - 142s 1s/step - loss: 1.0476 - accuracy: 0.3789\n",
            "Epoch 5/5\n",
            "101/101 [==============================] - 142s 1s/step - loss: 1.0438 - accuracy: 0.3849\n"
          ]
        },
        {
          "output_type": "execute_result",
          "data": {
            "text/plain": [
              "<keras.callbacks.History at 0x7f849ac94c40>"
            ]
          },
          "metadata": {},
          "execution_count": 59
        }
      ]
    },
    {
      "cell_type": "code",
      "source": [
        "predictions = [1 if pr > 0.5 else 0\n",
        "                   for pr in model.predict([test_features_ids,\n",
        "                                            test_features_masks,test_features_segments], batch_size=200, verbose=0).ravel()]\n",
        "\n",
        "print(\"Accuracy: %.2f%%\" % (accuracy_score(y_test, predictions)*100))\n",
        "print(classification_report(y_test, predictions))\n",
        "pd.DataFrame(confusion_matrix(y_test, predictions))"
      ],
      "metadata": {
        "colab": {
          "base_uri": "https://localhost:8080/",
          "height": 290
        },
        "id": "76lxydYOItPD",
        "outputId": "35579106-9d5a-4f07-c7c2-81e2ed3243a7"
      },
      "execution_count": null,
      "outputs": [
        {
          "output_type": "stream",
          "name": "stdout",
          "text": [
            "Accuracy: 48.24%\n",
            "              precision    recall  f1-score   support\n",
            "\n",
            "           0       0.60      0.01      0.01      4455\n",
            "           1       0.48      0.99      0.65      4131\n",
            "\n",
            "    accuracy                           0.48      8586\n",
            "   macro avg       0.54      0.50      0.33      8586\n",
            "weighted avg       0.54      0.48      0.32      8586\n",
            "\n"
          ]
        },
        {
          "output_type": "execute_result",
          "data": {
            "text/plain": [
              "    0     1\n",
              "0  33  4422\n",
              "1  22  4109"
            ],
            "text/html": [
              "\n",
              "  <div id=\"df-4b79e033-6fd5-4785-9419-2d9f6602c2f6\">\n",
              "    <div class=\"colab-df-container\">\n",
              "      <div>\n",
              "<style scoped>\n",
              "    .dataframe tbody tr th:only-of-type {\n",
              "        vertical-align: middle;\n",
              "    }\n",
              "\n",
              "    .dataframe tbody tr th {\n",
              "        vertical-align: top;\n",
              "    }\n",
              "\n",
              "    .dataframe thead th {\n",
              "        text-align: right;\n",
              "    }\n",
              "</style>\n",
              "<table border=\"1\" class=\"dataframe\">\n",
              "  <thead>\n",
              "    <tr style=\"text-align: right;\">\n",
              "      <th></th>\n",
              "      <th>0</th>\n",
              "      <th>1</th>\n",
              "    </tr>\n",
              "  </thead>\n",
              "  <tbody>\n",
              "    <tr>\n",
              "      <th>0</th>\n",
              "      <td>33</td>\n",
              "      <td>4422</td>\n",
              "    </tr>\n",
              "    <tr>\n",
              "      <th>1</th>\n",
              "      <td>22</td>\n",
              "      <td>4109</td>\n",
              "    </tr>\n",
              "  </tbody>\n",
              "</table>\n",
              "</div>\n",
              "      <button class=\"colab-df-convert\" onclick=\"convertToInteractive('df-4b79e033-6fd5-4785-9419-2d9f6602c2f6')\"\n",
              "              title=\"Convert this dataframe to an interactive table.\"\n",
              "              style=\"display:none;\">\n",
              "        \n",
              "  <svg xmlns=\"http://www.w3.org/2000/svg\" height=\"24px\"viewBox=\"0 0 24 24\"\n",
              "       width=\"24px\">\n",
              "    <path d=\"M0 0h24v24H0V0z\" fill=\"none\"/>\n",
              "    <path d=\"M18.56 5.44l.94 2.06.94-2.06 2.06-.94-2.06-.94-.94-2.06-.94 2.06-2.06.94zm-11 1L8.5 8.5l.94-2.06 2.06-.94-2.06-.94L8.5 2.5l-.94 2.06-2.06.94zm10 10l.94 2.06.94-2.06 2.06-.94-2.06-.94-.94-2.06-.94 2.06-2.06.94z\"/><path d=\"M17.41 7.96l-1.37-1.37c-.4-.4-.92-.59-1.43-.59-.52 0-1.04.2-1.43.59L10.3 9.45l-7.72 7.72c-.78.78-.78 2.05 0 2.83L4 21.41c.39.39.9.59 1.41.59.51 0 1.02-.2 1.41-.59l7.78-7.78 2.81-2.81c.8-.78.8-2.07 0-2.86zM5.41 20L4 18.59l7.72-7.72 1.47 1.35L5.41 20z\"/>\n",
              "  </svg>\n",
              "      </button>\n",
              "      \n",
              "  <style>\n",
              "    .colab-df-container {\n",
              "      display:flex;\n",
              "      flex-wrap:wrap;\n",
              "      gap: 12px;\n",
              "    }\n",
              "\n",
              "    .colab-df-convert {\n",
              "      background-color: #E8F0FE;\n",
              "      border: none;\n",
              "      border-radius: 50%;\n",
              "      cursor: pointer;\n",
              "      display: none;\n",
              "      fill: #1967D2;\n",
              "      height: 32px;\n",
              "      padding: 0 0 0 0;\n",
              "      width: 32px;\n",
              "    }\n",
              "\n",
              "    .colab-df-convert:hover {\n",
              "      background-color: #E2EBFA;\n",
              "      box-shadow: 0px 1px 2px rgba(60, 64, 67, 0.3), 0px 1px 3px 1px rgba(60, 64, 67, 0.15);\n",
              "      fill: #174EA6;\n",
              "    }\n",
              "\n",
              "    [theme=dark] .colab-df-convert {\n",
              "      background-color: #3B4455;\n",
              "      fill: #D2E3FC;\n",
              "    }\n",
              "\n",
              "    [theme=dark] .colab-df-convert:hover {\n",
              "      background-color: #434B5C;\n",
              "      box-shadow: 0px 1px 3px 1px rgba(0, 0, 0, 0.15);\n",
              "      filter: drop-shadow(0px 1px 2px rgba(0, 0, 0, 0.3));\n",
              "      fill: #FFFFFF;\n",
              "    }\n",
              "  </style>\n",
              "\n",
              "      <script>\n",
              "        const buttonEl =\n",
              "          document.querySelector('#df-4b79e033-6fd5-4785-9419-2d9f6602c2f6 button.colab-df-convert');\n",
              "        buttonEl.style.display =\n",
              "          google.colab.kernel.accessAllowed ? 'block' : 'none';\n",
              "\n",
              "        async function convertToInteractive(key) {\n",
              "          const element = document.querySelector('#df-4b79e033-6fd5-4785-9419-2d9f6602c2f6');\n",
              "          const dataTable =\n",
              "            await google.colab.kernel.invokeFunction('convertToInteractive',\n",
              "                                                     [key], {});\n",
              "          if (!dataTable) return;\n",
              "\n",
              "          const docLinkHtml = 'Like what you see? Visit the ' +\n",
              "            '<a target=\"_blank\" href=https://colab.research.google.com/notebooks/data_table.ipynb>data table notebook</a>'\n",
              "            + ' to learn more about interactive tables.';\n",
              "          element.innerHTML = '';\n",
              "          dataTable['output_type'] = 'display_data';\n",
              "          await google.colab.output.renderOutput(dataTable, element);\n",
              "          const docLink = document.createElement('div');\n",
              "          docLink.innerHTML = docLinkHtml;\n",
              "          element.appendChild(docLink);\n",
              "        }\n",
              "      </script>\n",
              "    </div>\n",
              "  </div>\n",
              "  "
            ]
          },
          "metadata": {},
          "execution_count": 60
        }
      ]
    },
    {
      "cell_type": "markdown",
      "source": [
        "Case8 -\n",
        "\n",
        "*   3 layers\n",
        "*   layer size: [256,256,256]\n",
        "\n",
        "*   kernel_initialzer: glorot\n",
        "*   dropout rate: 0.25"
      ],
      "metadata": {
        "id": "OHVi0J9Bd5ed"
      }
    },
    {
      "cell_type": "code",
      "source": [
        "\n",
        "hidden_state = transformers.TFBertModel.from_pretrained('bert-base-uncased')(inputs)\n",
        "pooled_output = hidden_state[1]\n",
        "\n",
        "dense1 = tf.keras.layers.Dense(256, activation='relu')(pooled_output)\n",
        "drop1 = tf.keras.layers.Dropout(0.25)(dense1)\n",
        "dense2 = tf.keras.layers.Dense(256, activation='relu')(drop1)\n",
        "drop2 = tf.keras.layers.Dropout(0.25)(dense2)\n",
        "\n",
        "output = tf.keras.layers.Dense(1, activation='sigmoid')(drop2)\n",
        "\n",
        "model = tf.keras.Model(inputs=inputs, outputs=output)\n",
        "\n",
        "model.compile(optimizer=tf.optimizers.Adam(learning_rate=2e-5,\n",
        "                                           epsilon=1e-08),\n",
        "              loss='binary_crossentropy', metrics=['accuracy'])\n",
        "\n",
        "model.summary()"
      ],
      "metadata": {
        "colab": {
          "base_uri": "https://localhost:8080/"
        },
        "id": "I0PgNIIWK2RO",
        "outputId": "e1cdf2b3-b50a-4ab1-c082-957d57edc6d4"
      },
      "execution_count": null,
      "outputs": [
        {
          "output_type": "stream",
          "name": "stderr",
          "text": [
            "Some weights of the PyTorch model were not used when initializing the TF 2.0 model TFBertModel: ['cls.predictions.transform.LayerNorm.weight', 'cls.predictions.transform.LayerNorm.bias', 'cls.predictions.transform.dense.weight', 'cls.predictions.bias', 'cls.seq_relationship.bias', 'cls.seq_relationship.weight', 'cls.predictions.transform.dense.bias']\n",
            "- This IS expected if you are initializing TFBertModel from a PyTorch model trained on another task or with another architecture (e.g. initializing a TFBertForSequenceClassification model from a BertForPreTraining model).\n",
            "- This IS NOT expected if you are initializing TFBertModel from a PyTorch model that you expect to be exactly identical (e.g. initializing a TFBertForSequenceClassification model from a BertForSequenceClassification model).\n",
            "All the weights of TFBertModel were initialized from the PyTorch model.\n",
            "If your task is similar to the task the model of the checkpoint was trained on, you can already use TFBertModel for predictions without further training.\n"
          ]
        },
        {
          "output_type": "stream",
          "name": "stdout",
          "text": [
            "Model: \"model_14\"\n",
            "__________________________________________________________________________________________________\n",
            " Layer (type)                   Output Shape         Param #     Connected to                     \n",
            "==================================================================================================\n",
            " bert_input_ids (InputLayer)    [(None, 40)]         0           []                               \n",
            "                                                                                                  \n",
            " bert_input_masks (InputLayer)  [(None, 40)]         0           []                               \n",
            "                                                                                                  \n",
            " bert_segment_ids (InputLayer)  [(None, 40)]         0           []                               \n",
            "                                                                                                  \n",
            " tf_bert_model_5 (TFBertModel)  TFBaseModelOutputWi  109482240   ['bert_input_ids[0][0]',         \n",
            "                                thPoolingAndCrossAt               'bert_input_masks[0][0]',       \n",
            "                                tentions(last_hidde               'bert_segment_ids[0][0]']       \n",
            "                                n_state=(None, 40,                                                \n",
            "                                768),                                                             \n",
            "                                 pooler_output=(Non                                               \n",
            "                                e, 768),                                                          \n",
            "                                 past_key_values=No                                               \n",
            "                                ne, hidden_states=N                                               \n",
            "                                one, attentions=Non                                               \n",
            "                                e, cross_attentions                                               \n",
            "                                =None)                                                            \n",
            "                                                                                                  \n",
            " dense_58 (Dense)               (None, 256)          196864      ['tf_bert_model_5[0][1]']        \n",
            "                                                                                                  \n",
            " dropout_266 (Dropout)          (None, 256)          0           ['dense_58[0][0]']               \n",
            "                                                                                                  \n",
            " dense_59 (Dense)               (None, 256)          65792       ['dropout_266[0][0]']            \n",
            "                                                                                                  \n",
            " dropout_267 (Dropout)          (None, 256)          0           ['dense_59[0][0]']               \n",
            "                                                                                                  \n",
            " dense_60 (Dense)               (None, 1)            257         ['dropout_267[0][0]']            \n",
            "                                                                                                  \n",
            "==================================================================================================\n",
            "Total params: 109,745,153\n",
            "Trainable params: 109,745,153\n",
            "Non-trainable params: 0\n",
            "__________________________________________________________________________________________________\n"
          ]
        }
      ]
    },
    {
      "cell_type": "code",
      "source": [
        "model.fit([train_features_ids,\n",
        "           train_features_masks,\n",
        "           train_features_segments], y_train,\n",
        "          epochs=5, # run more only if needed as this takes a long time\n",
        "          batch_size=200, # reduce this in case you get GPU OOM error\n",
        "          shuffle=True,\n",
        "          verbose=1)"
      ],
      "metadata": {
        "colab": {
          "base_uri": "https://localhost:8080/"
        },
        "id": "Ag07MpSqK54O",
        "outputId": "46772ad3-7f90-47ef-81f3-562247ab3e88"
      },
      "execution_count": null,
      "outputs": [
        {
          "output_type": "stream",
          "name": "stdout",
          "text": [
            "Epoch 1/5\n",
            "101/101 [==============================] - 142s 1s/step - loss: 0.4054 - accuracy: 0.8244\n",
            "Epoch 2/5\n",
            "101/101 [==============================] - 141s 1s/step - loss: 0.2495 - accuracy: 0.9011\n",
            "Epoch 3/5\n",
            "101/101 [==============================] - 142s 1s/step - loss: 0.1820 - accuracy: 0.9296\n",
            "Epoch 4/5\n",
            "101/101 [==============================] - 141s 1s/step - loss: 0.1199 - accuracy: 0.9573\n",
            "Epoch 5/5\n",
            "101/101 [==============================] - 141s 1s/step - loss: 0.0817 - accuracy: 0.9714\n"
          ]
        },
        {
          "output_type": "execute_result",
          "data": {
            "text/plain": [
              "<keras.callbacks.History at 0x7f848fdbb220>"
            ]
          },
          "metadata": {},
          "execution_count": 64
        }
      ]
    },
    {
      "cell_type": "code",
      "source": [
        "test_features_ids, test_features_masks, test_features_segments = create_bert_input_features(tokenizer,\n",
        "                                                                                            test_clean_text,\n",
        "                                                                                            max_seq_length=MAX_SEQ_LENGTH)\n",
        "print('Test Features:', test_features_ids.shape, test_features_masks.shape, test_features_segments.shape)"
      ],
      "metadata": {
        "colab": {
          "base_uri": "https://localhost:8080/"
        },
        "id": "22-j8QpqK8jB",
        "outputId": "82256261-a9a8-4772-8dee-3a350a190594"
      },
      "execution_count": null,
      "outputs": [
        {
          "output_type": "stream",
          "name": "stderr",
          "text": [
            "Converting docs to features: 100%|██████████| 8586/8586 [00:02<00:00, 3898.43it/s]\n"
          ]
        },
        {
          "output_type": "stream",
          "name": "stdout",
          "text": [
            "Test Features: (8586, 40) (8586, 40) (8586, 40)\n"
          ]
        }
      ]
    },
    {
      "cell_type": "code",
      "source": [
        "predictions = [1 if pr > 0.5 else 0\n",
        "                   for pr in model.predict([test_features_ids,\n",
        "                                            test_features_masks,\n",
        "                                            test_features_segments], verbose=0).ravel()]\n",
        "\n",
        "print(\"Accuracy: %.2f%%\" % (accuracy_score(y_test, predictions)*100))\n",
        "print(classification_report(y_test, predictions))\n",
        "pd.DataFrame(confusion_matrix(y_test, predictions))"
      ],
      "metadata": {
        "colab": {
          "base_uri": "https://localhost:8080/",
          "height": 290
        },
        "id": "8TZH1DyAK-Hn",
        "outputId": "4b30cdc4-7db9-4cc5-e45f-fd5135d527dd"
      },
      "execution_count": null,
      "outputs": [
        {
          "output_type": "stream",
          "name": "stdout",
          "text": [
            "Accuracy: 90.97%\n",
            "              precision    recall  f1-score   support\n",
            "\n",
            "           0       0.89      0.95      0.92      4455\n",
            "           1       0.94      0.87      0.90      4131\n",
            "\n",
            "    accuracy                           0.91      8586\n",
            "   macro avg       0.91      0.91      0.91      8586\n",
            "weighted avg       0.91      0.91      0.91      8586\n",
            "\n"
          ]
        },
        {
          "output_type": "execute_result",
          "data": {
            "text/plain": [
              "      0     1\n",
              "0  4212   243\n",
              "1   532  3599"
            ],
            "text/html": [
              "\n",
              "  <div id=\"df-24dc7c8d-23d5-4aa9-8e7b-0f312632276e\">\n",
              "    <div class=\"colab-df-container\">\n",
              "      <div>\n",
              "<style scoped>\n",
              "    .dataframe tbody tr th:only-of-type {\n",
              "        vertical-align: middle;\n",
              "    }\n",
              "\n",
              "    .dataframe tbody tr th {\n",
              "        vertical-align: top;\n",
              "    }\n",
              "\n",
              "    .dataframe thead th {\n",
              "        text-align: right;\n",
              "    }\n",
              "</style>\n",
              "<table border=\"1\" class=\"dataframe\">\n",
              "  <thead>\n",
              "    <tr style=\"text-align: right;\">\n",
              "      <th></th>\n",
              "      <th>0</th>\n",
              "      <th>1</th>\n",
              "    </tr>\n",
              "  </thead>\n",
              "  <tbody>\n",
              "    <tr>\n",
              "      <th>0</th>\n",
              "      <td>4212</td>\n",
              "      <td>243</td>\n",
              "    </tr>\n",
              "    <tr>\n",
              "      <th>1</th>\n",
              "      <td>532</td>\n",
              "      <td>3599</td>\n",
              "    </tr>\n",
              "  </tbody>\n",
              "</table>\n",
              "</div>\n",
              "      <button class=\"colab-df-convert\" onclick=\"convertToInteractive('df-24dc7c8d-23d5-4aa9-8e7b-0f312632276e')\"\n",
              "              title=\"Convert this dataframe to an interactive table.\"\n",
              "              style=\"display:none;\">\n",
              "        \n",
              "  <svg xmlns=\"http://www.w3.org/2000/svg\" height=\"24px\"viewBox=\"0 0 24 24\"\n",
              "       width=\"24px\">\n",
              "    <path d=\"M0 0h24v24H0V0z\" fill=\"none\"/>\n",
              "    <path d=\"M18.56 5.44l.94 2.06.94-2.06 2.06-.94-2.06-.94-.94-2.06-.94 2.06-2.06.94zm-11 1L8.5 8.5l.94-2.06 2.06-.94-2.06-.94L8.5 2.5l-.94 2.06-2.06.94zm10 10l.94 2.06.94-2.06 2.06-.94-2.06-.94-.94-2.06-.94 2.06-2.06.94z\"/><path d=\"M17.41 7.96l-1.37-1.37c-.4-.4-.92-.59-1.43-.59-.52 0-1.04.2-1.43.59L10.3 9.45l-7.72 7.72c-.78.78-.78 2.05 0 2.83L4 21.41c.39.39.9.59 1.41.59.51 0 1.02-.2 1.41-.59l7.78-7.78 2.81-2.81c.8-.78.8-2.07 0-2.86zM5.41 20L4 18.59l7.72-7.72 1.47 1.35L5.41 20z\"/>\n",
              "  </svg>\n",
              "      </button>\n",
              "      \n",
              "  <style>\n",
              "    .colab-df-container {\n",
              "      display:flex;\n",
              "      flex-wrap:wrap;\n",
              "      gap: 12px;\n",
              "    }\n",
              "\n",
              "    .colab-df-convert {\n",
              "      background-color: #E8F0FE;\n",
              "      border: none;\n",
              "      border-radius: 50%;\n",
              "      cursor: pointer;\n",
              "      display: none;\n",
              "      fill: #1967D2;\n",
              "      height: 32px;\n",
              "      padding: 0 0 0 0;\n",
              "      width: 32px;\n",
              "    }\n",
              "\n",
              "    .colab-df-convert:hover {\n",
              "      background-color: #E2EBFA;\n",
              "      box-shadow: 0px 1px 2px rgba(60, 64, 67, 0.3), 0px 1px 3px 1px rgba(60, 64, 67, 0.15);\n",
              "      fill: #174EA6;\n",
              "    }\n",
              "\n",
              "    [theme=dark] .colab-df-convert {\n",
              "      background-color: #3B4455;\n",
              "      fill: #D2E3FC;\n",
              "    }\n",
              "\n",
              "    [theme=dark] .colab-df-convert:hover {\n",
              "      background-color: #434B5C;\n",
              "      box-shadow: 0px 1px 3px 1px rgba(0, 0, 0, 0.15);\n",
              "      filter: drop-shadow(0px 1px 2px rgba(0, 0, 0, 0.3));\n",
              "      fill: #FFFFFF;\n",
              "    }\n",
              "  </style>\n",
              "\n",
              "      <script>\n",
              "        const buttonEl =\n",
              "          document.querySelector('#df-24dc7c8d-23d5-4aa9-8e7b-0f312632276e button.colab-df-convert');\n",
              "        buttonEl.style.display =\n",
              "          google.colab.kernel.accessAllowed ? 'block' : 'none';\n",
              "\n",
              "        async function convertToInteractive(key) {\n",
              "          const element = document.querySelector('#df-24dc7c8d-23d5-4aa9-8e7b-0f312632276e');\n",
              "          const dataTable =\n",
              "            await google.colab.kernel.invokeFunction('convertToInteractive',\n",
              "                                                     [key], {});\n",
              "          if (!dataTable) return;\n",
              "\n",
              "          const docLinkHtml = 'Like what you see? Visit the ' +\n",
              "            '<a target=\"_blank\" href=https://colab.research.google.com/notebooks/data_table.ipynb>data table notebook</a>'\n",
              "            + ' to learn more about interactive tables.';\n",
              "          element.innerHTML = '';\n",
              "          dataTable['output_type'] = 'display_data';\n",
              "          await google.colab.output.renderOutput(dataTable, element);\n",
              "          const docLink = document.createElement('div');\n",
              "          docLink.innerHTML = docLinkHtml;\n",
              "          element.appendChild(docLink);\n",
              "        }\n",
              "      </script>\n",
              "    </div>\n",
              "  </div>\n",
              "  "
            ]
          },
          "metadata": {},
          "execution_count": 66
        }
      ]
    },
    {
      "cell_type": "code",
      "source": [
        "tokenizer = transformers.BertTokenizer.from_pretrained('bert-base-uncased')\n",
        "MAX_SEQ_LENGTH = 40\n",
        "\n",
        "train_features_ids, train_features_masks, train_features_segments = create_bert_input_features(tokenizer,\n",
        "                                                                                               train_clean_text,\n",
        "                                                                                               max_seq_length=MAX_SEQ_LENGTH)\n",
        "#test_features = create_bert_input_features(tokenizer, test_reviews, max_seq_length=MAX_SEQ_LENGTH)\n",
        "print('Train Features:', train_features_ids.shape, train_features_masks.shape, train_features_segments.shape)"
      ],
      "metadata": {
        "colab": {
          "base_uri": "https://localhost:8080/"
        },
        "id": "py4h3SiBPPmO",
        "outputId": "a5379ce7-65c1-43b4-c5ad-074dccac7c7d"
      },
      "execution_count": null,
      "outputs": [
        {
          "output_type": "stream",
          "name": "stderr",
          "text": [
            "Converting docs to features: 100%|██████████| 20033/20033 [00:04<00:00, 4163.07it/s]\n"
          ]
        },
        {
          "output_type": "stream",
          "name": "stdout",
          "text": [
            "Train Features: (20033, 40) (20033, 40) (20033, 40)\n"
          ]
        }
      ]
    },
    {
      "cell_type": "code",
      "source": [
        "inp_id = tf.keras.layers.Input(shape=(MAX_SEQ_LENGTH,), dtype='int32', name=\"bert_input_ids\")\n",
        "inp_mask = tf.keras.layers.Input(shape=(MAX_SEQ_LENGTH,), dtype='int32', name=\"bert_input_masks\")\n",
        "inp_segment = tf.keras.layers.Input(shape=(MAX_SEQ_LENGTH,), dtype='int32', name=\"bert_segment_ids\")\n",
        "inputs = [inp_id, inp_mask, inp_segment]\n",
        "\n",
        "hidden_state = transformers.TFBertModel.from_pretrained('bert-base-uncased')(inputs)\n",
        "pooled_output = hidden_state[1]\n",
        "\n",
        "dense1 = tf.keras.layers.Dense(256, activation='relu')(pooled_output)\n",
        "drop1 = tf.keras.layers.Dropout(0.25)(dense1)\n",
        "dense2 = tf.keras.layers.Dense(256, activation='relu')(drop1)\n",
        "drop2 = tf.keras.layers.Dropout(0.25)(dense2)\n",
        "\n",
        "output = tf.keras.layers.Dense(1, activation='sigmoid')(drop2)\n",
        "\n",
        "model = tf.keras.Model(inputs=inputs, outputs=output)\n",
        "\n",
        "model.compile(optimizer=tf.optimizers.Adam(learning_rate=2e-5,\n",
        "                                           epsilon=1e-08),\n",
        "              loss='binary_crossentropy', metrics=['accuracy'])\n",
        "\n",
        "model.summary()"
      ],
      "metadata": {
        "colab": {
          "base_uri": "https://localhost:8080/"
        },
        "id": "Q39Z_uhGPp5q",
        "outputId": "6078eec8-f717-45cf-aa78-81b5fc933002"
      },
      "execution_count": null,
      "outputs": [
        {
          "output_type": "stream",
          "name": "stderr",
          "text": [
            "Some weights of the PyTorch model were not used when initializing the TF 2.0 model TFBertModel: ['cls.predictions.transform.LayerNorm.weight', 'cls.predictions.transform.LayerNorm.bias', 'cls.predictions.transform.dense.weight', 'cls.predictions.bias', 'cls.seq_relationship.bias', 'cls.seq_relationship.weight', 'cls.predictions.transform.dense.bias']\n",
            "- This IS expected if you are initializing TFBertModel from a PyTorch model trained on another task or with another architecture (e.g. initializing a TFBertForSequenceClassification model from a BertForPreTraining model).\n",
            "- This IS NOT expected if you are initializing TFBertModel from a PyTorch model that you expect to be exactly identical (e.g. initializing a TFBertForSequenceClassification model from a BertForSequenceClassification model).\n",
            "All the weights of TFBertModel were initialized from the PyTorch model.\n",
            "If your task is similar to the task the model of the checkpoint was trained on, you can already use TFBertModel for predictions without further training.\n"
          ]
        },
        {
          "output_type": "stream",
          "name": "stdout",
          "text": [
            "Model: \"model_17\"\n",
            "__________________________________________________________________________________________________\n",
            " Layer (type)                   Output Shape         Param #     Connected to                     \n",
            "==================================================================================================\n",
            " bert_input_ids (InputLayer)    [(None, 40)]         0           []                               \n",
            "                                                                                                  \n",
            " bert_input_masks (InputLayer)  [(None, 40)]         0           []                               \n",
            "                                                                                                  \n",
            " bert_segment_ids (InputLayer)  [(None, 40)]         0           []                               \n",
            "                                                                                                  \n",
            " tf_bert_model_8 (TFBertModel)  TFBaseModelOutputWi  109482240   ['bert_input_ids[0][0]',         \n",
            "                                thPoolingAndCrossAt               'bert_input_masks[0][0]',       \n",
            "                                tentions(last_hidde               'bert_segment_ids[0][0]']       \n",
            "                                n_state=(None, 40,                                                \n",
            "                                768),                                                             \n",
            "                                 pooler_output=(Non                                               \n",
            "                                e, 768),                                                          \n",
            "                                 past_key_values=No                                               \n",
            "                                ne, hidden_states=N                                               \n",
            "                                one, attentions=Non                                               \n",
            "                                e, cross_attentions                                               \n",
            "                                =None)                                                            \n",
            "                                                                                                  \n",
            " dense_67 (Dense)               (None, 256)          196864      ['tf_bert_model_8[0][1]']        \n",
            "                                                                                                  \n",
            " dropout_383 (Dropout)          (None, 256)          0           ['dense_67[0][0]']               \n",
            "                                                                                                  \n",
            " dense_68 (Dense)               (None, 256)          65792       ['dropout_383[0][0]']            \n",
            "                                                                                                  \n",
            " dropout_384 (Dropout)          (None, 256)          0           ['dense_68[0][0]']               \n",
            "                                                                                                  \n",
            " dense_69 (Dense)               (None, 1)            257         ['dropout_384[0][0]']            \n",
            "                                                                                                  \n",
            "==================================================================================================\n",
            "Total params: 109,745,153\n",
            "Trainable params: 109,745,153\n",
            "Non-trainable params: 0\n",
            "__________________________________________________________________________________________________\n"
          ]
        }
      ]
    },
    {
      "cell_type": "code",
      "source": [
        "train_features_ids"
      ],
      "metadata": {
        "colab": {
          "base_uri": "https://localhost:8080/"
        },
        "id": "2yECdmAnQZyz",
        "outputId": "389fdf1a-9271-4f30-c404-e525c65a667a"
      },
      "execution_count": null,
      "outputs": [
        {
          "output_type": "execute_result",
          "data": {
            "text/plain": [
              "array([[  101,  2137,  4671, ...,     0,     0,     0],\n",
              "       [  101,  3422, 17801, ...,     0,     0,     0],\n",
              "       [  101,  2158,  2040, ...,     0,     0,     0],\n",
              "       ...,\n",
              "       [  101,  2120,  4633, ...,     0,     0,     0],\n",
              "       [  101,  4828,  5651, ...,     0,     0,     0],\n",
              "       [  101,  7077, 11484, ...,     0,     0,     0]])"
            ]
          },
          "metadata": {},
          "execution_count": 78
        }
      ]
    },
    {
      "cell_type": "code",
      "source": [
        "y_train"
      ],
      "metadata": {
        "colab": {
          "base_uri": "https://localhost:8080/"
        },
        "id": "-DmrOX6IQ_BU",
        "outputId": "79baf518-5164-4637-c847-6b80bec2a9a1"
      },
      "execution_count": null,
      "outputs": [
        {
          "output_type": "execute_result",
          "data": {
            "text/plain": [
              "12170    0\n",
              "28552    0\n",
              "6883     1\n",
              "28387    1\n",
              "12932    1\n",
              "        ..\n",
              "21575    1\n",
              "5390     1\n",
              "860      1\n",
              "15795    1\n",
              "23654    1\n",
              "Name: is_sarcastic, Length: 20033, dtype: int64"
            ]
          },
          "metadata": {},
          "execution_count": 79
        }
      ]
    },
    {
      "cell_type": "code",
      "source": [
        "model.fit([train_features_ids,\n",
        "           train_features_masks,\n",
        "           train_features_segments], y_train,\n",
        "          epochs=5,\n",
        "          batch_size=25,\n",
        "          shuffle=True,\n",
        "          verbose=1)"
      ],
      "metadata": {
        "colab": {
          "base_uri": "https://localhost:8080/"
        },
        "id": "_lC1NotGPr2G",
        "outputId": "8c55c9d3-6f8d-4563-97b0-065fcbabb849"
      },
      "execution_count": null,
      "outputs": [
        {
          "output_type": "stream",
          "name": "stdout",
          "text": [
            "Epoch 1/5\n",
            "802/802 [==============================] - 226s 222ms/step - loss: 0.3278 - accuracy: 0.8547\n",
            "Epoch 2/5\n",
            "802/802 [==============================] - 170s 212ms/step - loss: 0.1499 - accuracy: 0.9439\n",
            "Epoch 3/5\n",
            "802/802 [==============================] - 170s 212ms/step - loss: 0.0635 - accuracy: 0.9774\n",
            "Epoch 4/5\n",
            "802/802 [==============================] - 169s 211ms/step - loss: 0.0299 - accuracy: 0.9905\n",
            "Epoch 5/5\n",
            "802/802 [==============================] - 171s 213ms/step - loss: 0.0220 - accuracy: 0.9928\n"
          ]
        },
        {
          "output_type": "execute_result",
          "data": {
            "text/plain": [
              "<keras.callbacks.History at 0x7f84787c91e0>"
            ]
          },
          "metadata": {},
          "execution_count": 80
        }
      ]
    },
    {
      "cell_type": "code",
      "source": [
        "test_features_ids, test_features_masks, test_features_segments = create_bert_input_features(tokenizer,\n",
        "                                                                                            test_clean_text,\n",
        "                                                                                            max_seq_length=MAX_SEQ_LENGTH)\n",
        "print('Test Features:', test_features_ids.shape, test_features_masks.shape, test_features_segments.shape)"
      ],
      "metadata": {
        "colab": {
          "base_uri": "https://localhost:8080/"
        },
        "id": "MRmGTT9UPtxR",
        "outputId": "a6db51e1-2292-4f28-f606-7b381b40c3c7"
      },
      "execution_count": null,
      "outputs": [
        {
          "output_type": "stream",
          "name": "stderr",
          "text": [
            "Converting docs to features: 100%|██████████| 8586/8586 [00:02<00:00, 3911.05it/s]\n"
          ]
        },
        {
          "output_type": "stream",
          "name": "stdout",
          "text": [
            "Test Features: (8586, 40) (8586, 40) (8586, 40)\n"
          ]
        }
      ]
    },
    {
      "cell_type": "code",
      "source": [
        "predictions = [1 if pr > 0.5 else 0\n",
        "                   for pr in model.predict([test_features_ids,\n",
        "                                            test_features_masks,\n",
        "                                            test_features_segments], verbose=0).ravel()]\n",
        "\n",
        "print(\"Accuracy: %.2f%%\" % (accuracy_score(y_test, predictions)*100))\n",
        "print(classification_report(y_test, predictions))\n",
        "pd.DataFrame(confusion_matrix(y_test, predictions))"
      ],
      "metadata": {
        "colab": {
          "base_uri": "https://localhost:8080/",
          "height": 290
        },
        "id": "GJ2cUnFRPyWB",
        "outputId": "7239dd60-8cc5-4f1f-a60b-358f381b98f1"
      },
      "execution_count": null,
      "outputs": [
        {
          "output_type": "stream",
          "name": "stdout",
          "text": [
            "Accuracy: 92.35%\n",
            "              precision    recall  f1-score   support\n",
            "\n",
            "           0       0.92      0.93      0.93      4455\n",
            "           1       0.92      0.92      0.92      4131\n",
            "\n",
            "    accuracy                           0.92      8586\n",
            "   macro avg       0.92      0.92      0.92      8586\n",
            "weighted avg       0.92      0.92      0.92      8586\n",
            "\n"
          ]
        },
        {
          "output_type": "execute_result",
          "data": {
            "text/plain": [
              "      0     1\n",
              "0  4136   319\n",
              "1   338  3793"
            ],
            "text/html": [
              "\n",
              "  <div id=\"df-4e89cb81-8e59-4ac3-bf5f-58dd6e7b4538\">\n",
              "    <div class=\"colab-df-container\">\n",
              "      <div>\n",
              "<style scoped>\n",
              "    .dataframe tbody tr th:only-of-type {\n",
              "        vertical-align: middle;\n",
              "    }\n",
              "\n",
              "    .dataframe tbody tr th {\n",
              "        vertical-align: top;\n",
              "    }\n",
              "\n",
              "    .dataframe thead th {\n",
              "        text-align: right;\n",
              "    }\n",
              "</style>\n",
              "<table border=\"1\" class=\"dataframe\">\n",
              "  <thead>\n",
              "    <tr style=\"text-align: right;\">\n",
              "      <th></th>\n",
              "      <th>0</th>\n",
              "      <th>1</th>\n",
              "    </tr>\n",
              "  </thead>\n",
              "  <tbody>\n",
              "    <tr>\n",
              "      <th>0</th>\n",
              "      <td>4136</td>\n",
              "      <td>319</td>\n",
              "    </tr>\n",
              "    <tr>\n",
              "      <th>1</th>\n",
              "      <td>338</td>\n",
              "      <td>3793</td>\n",
              "    </tr>\n",
              "  </tbody>\n",
              "</table>\n",
              "</div>\n",
              "      <button class=\"colab-df-convert\" onclick=\"convertToInteractive('df-4e89cb81-8e59-4ac3-bf5f-58dd6e7b4538')\"\n",
              "              title=\"Convert this dataframe to an interactive table.\"\n",
              "              style=\"display:none;\">\n",
              "        \n",
              "  <svg xmlns=\"http://www.w3.org/2000/svg\" height=\"24px\"viewBox=\"0 0 24 24\"\n",
              "       width=\"24px\">\n",
              "    <path d=\"M0 0h24v24H0V0z\" fill=\"none\"/>\n",
              "    <path d=\"M18.56 5.44l.94 2.06.94-2.06 2.06-.94-2.06-.94-.94-2.06-.94 2.06-2.06.94zm-11 1L8.5 8.5l.94-2.06 2.06-.94-2.06-.94L8.5 2.5l-.94 2.06-2.06.94zm10 10l.94 2.06.94-2.06 2.06-.94-2.06-.94-.94-2.06-.94 2.06-2.06.94z\"/><path d=\"M17.41 7.96l-1.37-1.37c-.4-.4-.92-.59-1.43-.59-.52 0-1.04.2-1.43.59L10.3 9.45l-7.72 7.72c-.78.78-.78 2.05 0 2.83L4 21.41c.39.39.9.59 1.41.59.51 0 1.02-.2 1.41-.59l7.78-7.78 2.81-2.81c.8-.78.8-2.07 0-2.86zM5.41 20L4 18.59l7.72-7.72 1.47 1.35L5.41 20z\"/>\n",
              "  </svg>\n",
              "      </button>\n",
              "      \n",
              "  <style>\n",
              "    .colab-df-container {\n",
              "      display:flex;\n",
              "      flex-wrap:wrap;\n",
              "      gap: 12px;\n",
              "    }\n",
              "\n",
              "    .colab-df-convert {\n",
              "      background-color: #E8F0FE;\n",
              "      border: none;\n",
              "      border-radius: 50%;\n",
              "      cursor: pointer;\n",
              "      display: none;\n",
              "      fill: #1967D2;\n",
              "      height: 32px;\n",
              "      padding: 0 0 0 0;\n",
              "      width: 32px;\n",
              "    }\n",
              "\n",
              "    .colab-df-convert:hover {\n",
              "      background-color: #E2EBFA;\n",
              "      box-shadow: 0px 1px 2px rgba(60, 64, 67, 0.3), 0px 1px 3px 1px rgba(60, 64, 67, 0.15);\n",
              "      fill: #174EA6;\n",
              "    }\n",
              "\n",
              "    [theme=dark] .colab-df-convert {\n",
              "      background-color: #3B4455;\n",
              "      fill: #D2E3FC;\n",
              "    }\n",
              "\n",
              "    [theme=dark] .colab-df-convert:hover {\n",
              "      background-color: #434B5C;\n",
              "      box-shadow: 0px 1px 3px 1px rgba(0, 0, 0, 0.15);\n",
              "      filter: drop-shadow(0px 1px 2px rgba(0, 0, 0, 0.3));\n",
              "      fill: #FFFFFF;\n",
              "    }\n",
              "  </style>\n",
              "\n",
              "      <script>\n",
              "        const buttonEl =\n",
              "          document.querySelector('#df-4e89cb81-8e59-4ac3-bf5f-58dd6e7b4538 button.colab-df-convert');\n",
              "        buttonEl.style.display =\n",
              "          google.colab.kernel.accessAllowed ? 'block' : 'none';\n",
              "\n",
              "        async function convertToInteractive(key) {\n",
              "          const element = document.querySelector('#df-4e89cb81-8e59-4ac3-bf5f-58dd6e7b4538');\n",
              "          const dataTable =\n",
              "            await google.colab.kernel.invokeFunction('convertToInteractive',\n",
              "                                                     [key], {});\n",
              "          if (!dataTable) return;\n",
              "\n",
              "          const docLinkHtml = 'Like what you see? Visit the ' +\n",
              "            '<a target=\"_blank\" href=https://colab.research.google.com/notebooks/data_table.ipynb>data table notebook</a>'\n",
              "            + ' to learn more about interactive tables.';\n",
              "          element.innerHTML = '';\n",
              "          dataTable['output_type'] = 'display_data';\n",
              "          await google.colab.output.renderOutput(dataTable, element);\n",
              "          const docLink = document.createElement('div');\n",
              "          docLink.innerHTML = docLinkHtml;\n",
              "          element.appendChild(docLink);\n",
              "        }\n",
              "      </script>\n",
              "    </div>\n",
              "  </div>\n",
              "  "
            ]
          },
          "metadata": {},
          "execution_count": 82
        }
      ]
    },
    {
      "cell_type": "markdown",
      "source": [
        "### Summary"
      ],
      "metadata": {
        "id": "YeAweLKreBVV"
      }
    },
    {
      "cell_type": "code",
      "source": [
        "accuracy_dict = {'bow+lr':83.23,'FastText + CNN':85.62,'FastText + LSTM':82.33,'NNLM':83.44,'USE':87.39,'BERT':92.66}"
      ],
      "metadata": {
        "id": "JBDn5iv8WBbK"
      },
      "execution_count": null,
      "outputs": []
    },
    {
      "cell_type": "code",
      "source": [
        "accuracy_df = pd.DataFrame(list(accuracy_dict.items()),columns=['Model','Accuracy'])\n",
        "accuracy_df"
      ],
      "metadata": {
        "colab": {
          "base_uri": "https://localhost:8080/",
          "height": 237
        },
        "id": "_M9iGKoTWt1j",
        "outputId": "28055b47-acec-4665-a4ec-f66ac946b071"
      },
      "execution_count": null,
      "outputs": [
        {
          "output_type": "execute_result",
          "data": {
            "text/plain": [
              "             Model  Accuracy\n",
              "0           bow+lr     83.23\n",
              "1   FastText + CNN     85.62\n",
              "2  FastText + LSTM     82.33\n",
              "3             NNLM     83.44\n",
              "4              USE     87.39\n",
              "5             BERT     92.66"
            ],
            "text/html": [
              "\n",
              "  <div id=\"df-6dcb677b-0241-4e3f-9175-f55832b758f4\">\n",
              "    <div class=\"colab-df-container\">\n",
              "      <div>\n",
              "<style scoped>\n",
              "    .dataframe tbody tr th:only-of-type {\n",
              "        vertical-align: middle;\n",
              "    }\n",
              "\n",
              "    .dataframe tbody tr th {\n",
              "        vertical-align: top;\n",
              "    }\n",
              "\n",
              "    .dataframe thead th {\n",
              "        text-align: right;\n",
              "    }\n",
              "</style>\n",
              "<table border=\"1\" class=\"dataframe\">\n",
              "  <thead>\n",
              "    <tr style=\"text-align: right;\">\n",
              "      <th></th>\n",
              "      <th>Model</th>\n",
              "      <th>Accuracy</th>\n",
              "    </tr>\n",
              "  </thead>\n",
              "  <tbody>\n",
              "    <tr>\n",
              "      <th>0</th>\n",
              "      <td>bow+lr</td>\n",
              "      <td>83.23</td>\n",
              "    </tr>\n",
              "    <tr>\n",
              "      <th>1</th>\n",
              "      <td>FastText + CNN</td>\n",
              "      <td>85.62</td>\n",
              "    </tr>\n",
              "    <tr>\n",
              "      <th>2</th>\n",
              "      <td>FastText + LSTM</td>\n",
              "      <td>82.33</td>\n",
              "    </tr>\n",
              "    <tr>\n",
              "      <th>3</th>\n",
              "      <td>NNLM</td>\n",
              "      <td>83.44</td>\n",
              "    </tr>\n",
              "    <tr>\n",
              "      <th>4</th>\n",
              "      <td>USE</td>\n",
              "      <td>87.39</td>\n",
              "    </tr>\n",
              "    <tr>\n",
              "      <th>5</th>\n",
              "      <td>BERT</td>\n",
              "      <td>92.66</td>\n",
              "    </tr>\n",
              "  </tbody>\n",
              "</table>\n",
              "</div>\n",
              "      <button class=\"colab-df-convert\" onclick=\"convertToInteractive('df-6dcb677b-0241-4e3f-9175-f55832b758f4')\"\n",
              "              title=\"Convert this dataframe to an interactive table.\"\n",
              "              style=\"display:none;\">\n",
              "        \n",
              "  <svg xmlns=\"http://www.w3.org/2000/svg\" height=\"24px\"viewBox=\"0 0 24 24\"\n",
              "       width=\"24px\">\n",
              "    <path d=\"M0 0h24v24H0V0z\" fill=\"none\"/>\n",
              "    <path d=\"M18.56 5.44l.94 2.06.94-2.06 2.06-.94-2.06-.94-.94-2.06-.94 2.06-2.06.94zm-11 1L8.5 8.5l.94-2.06 2.06-.94-2.06-.94L8.5 2.5l-.94 2.06-2.06.94zm10 10l.94 2.06.94-2.06 2.06-.94-2.06-.94-.94-2.06-.94 2.06-2.06.94z\"/><path d=\"M17.41 7.96l-1.37-1.37c-.4-.4-.92-.59-1.43-.59-.52 0-1.04.2-1.43.59L10.3 9.45l-7.72 7.72c-.78.78-.78 2.05 0 2.83L4 21.41c.39.39.9.59 1.41.59.51 0 1.02-.2 1.41-.59l7.78-7.78 2.81-2.81c.8-.78.8-2.07 0-2.86zM5.41 20L4 18.59l7.72-7.72 1.47 1.35L5.41 20z\"/>\n",
              "  </svg>\n",
              "      </button>\n",
              "      \n",
              "  <style>\n",
              "    .colab-df-container {\n",
              "      display:flex;\n",
              "      flex-wrap:wrap;\n",
              "      gap: 12px;\n",
              "    }\n",
              "\n",
              "    .colab-df-convert {\n",
              "      background-color: #E8F0FE;\n",
              "      border: none;\n",
              "      border-radius: 50%;\n",
              "      cursor: pointer;\n",
              "      display: none;\n",
              "      fill: #1967D2;\n",
              "      height: 32px;\n",
              "      padding: 0 0 0 0;\n",
              "      width: 32px;\n",
              "    }\n",
              "\n",
              "    .colab-df-convert:hover {\n",
              "      background-color: #E2EBFA;\n",
              "      box-shadow: 0px 1px 2px rgba(60, 64, 67, 0.3), 0px 1px 3px 1px rgba(60, 64, 67, 0.15);\n",
              "      fill: #174EA6;\n",
              "    }\n",
              "\n",
              "    [theme=dark] .colab-df-convert {\n",
              "      background-color: #3B4455;\n",
              "      fill: #D2E3FC;\n",
              "    }\n",
              "\n",
              "    [theme=dark] .colab-df-convert:hover {\n",
              "      background-color: #434B5C;\n",
              "      box-shadow: 0px 1px 3px 1px rgba(0, 0, 0, 0.15);\n",
              "      filter: drop-shadow(0px 1px 2px rgba(0, 0, 0, 0.3));\n",
              "      fill: #FFFFFF;\n",
              "    }\n",
              "  </style>\n",
              "\n",
              "      <script>\n",
              "        const buttonEl =\n",
              "          document.querySelector('#df-6dcb677b-0241-4e3f-9175-f55832b758f4 button.colab-df-convert');\n",
              "        buttonEl.style.display =\n",
              "          google.colab.kernel.accessAllowed ? 'block' : 'none';\n",
              "\n",
              "        async function convertToInteractive(key) {\n",
              "          const element = document.querySelector('#df-6dcb677b-0241-4e3f-9175-f55832b758f4');\n",
              "          const dataTable =\n",
              "            await google.colab.kernel.invokeFunction('convertToInteractive',\n",
              "                                                     [key], {});\n",
              "          if (!dataTable) return;\n",
              "\n",
              "          const docLinkHtml = 'Like what you see? Visit the ' +\n",
              "            '<a target=\"_blank\" href=https://colab.research.google.com/notebooks/data_table.ipynb>data table notebook</a>'\n",
              "            + ' to learn more about interactive tables.';\n",
              "          element.innerHTML = '';\n",
              "          dataTable['output_type'] = 'display_data';\n",
              "          await google.colab.output.renderOutput(dataTable, element);\n",
              "          const docLink = document.createElement('div');\n",
              "          docLink.innerHTML = docLinkHtml;\n",
              "          element.appendChild(docLink);\n",
              "        }\n",
              "      </script>\n",
              "    </div>\n",
              "  </div>\n",
              "  "
            ]
          },
          "metadata": {},
          "execution_count": 117
        }
      ]
    },
    {
      "cell_type": "code",
      "source": [
        "bert_dict = {'layer number':[2,3,3,3,3,4,4,4],\n",
        "             'neuron size':[[256,256],[256,256,256],[256,256,256],[256,256,128],[256,256,512],[256,256,256,128],[256,256,256,256],[256,256,256,512]],\n",
        "             'activation function':['relu']*8,\n",
        "             'dropout_rate':[0.25]*2+[0.2]*6,\n",
        "             'kernel_initializer':['glorot_unifomr']*2+['he_normal']*6,\n",
        "             'Accuracy':['90.97%/ 92.07%/ 92.35%/ 92.66%','91.99%','92.46%','91.19%','48.24%','38.94%','48.11%','49.01%']}\n",
        "bert_df = pd.DataFrame(bert_dict)\n",
        "bert_df"
      ],
      "metadata": {
        "colab": {
          "base_uri": "https://localhost:8080/",
          "height": 300
        },
        "id": "WEXFrNvmYNyB",
        "outputId": "4de4fb1b-9dbb-4d4c-f09f-0eb7a0e16285"
      },
      "execution_count": null,
      "outputs": [
        {
          "output_type": "execute_result",
          "data": {
            "text/plain": [
              "   layer number           neuron size activation function  dropout_rate  \\\n",
              "0             2            [256, 256]                relu          0.25   \n",
              "1             3       [256, 256, 256]                relu          0.25   \n",
              "2             3       [256, 256, 256]                relu          0.20   \n",
              "3             3       [256, 256, 128]                relu          0.20   \n",
              "4             3       [256, 256, 512]                relu          0.20   \n",
              "5             4  [256, 256, 256, 128]                relu          0.20   \n",
              "6             4  [256, 256, 256, 256]                relu          0.20   \n",
              "7             4  [256, 256, 256, 512]                relu          0.20   \n",
              "\n",
              "  kernel_initializer                        Accuracy  \n",
              "0     glorot_unifomr  90.97%/ 92.07%/ 92.35%/ 92.66%  \n",
              "1     glorot_unifomr                          91.99%  \n",
              "2          he_normal                          94.24%  \n",
              "3          he_normal                          91.19%  \n",
              "4          he_normal                          48.24%  \n",
              "5          he_normal                          38.94%  \n",
              "6          he_normal                          48.11%  \n",
              "7          he_normal                          49.01%  "
            ],
            "text/html": [
              "\n",
              "  <div id=\"df-3f06fdfb-188b-4cd6-8875-a8e7b8c048f5\">\n",
              "    <div class=\"colab-df-container\">\n",
              "      <div>\n",
              "<style scoped>\n",
              "    .dataframe tbody tr th:only-of-type {\n",
              "        vertical-align: middle;\n",
              "    }\n",
              "\n",
              "    .dataframe tbody tr th {\n",
              "        vertical-align: top;\n",
              "    }\n",
              "\n",
              "    .dataframe thead th {\n",
              "        text-align: right;\n",
              "    }\n",
              "</style>\n",
              "<table border=\"1\" class=\"dataframe\">\n",
              "  <thead>\n",
              "    <tr style=\"text-align: right;\">\n",
              "      <th></th>\n",
              "      <th>layer number</th>\n",
              "      <th>neuron size</th>\n",
              "      <th>activation function</th>\n",
              "      <th>dropout_rate</th>\n",
              "      <th>kernel_initializer</th>\n",
              "      <th>Accuracy</th>\n",
              "    </tr>\n",
              "  </thead>\n",
              "  <tbody>\n",
              "    <tr>\n",
              "      <th>0</th>\n",
              "      <td>2</td>\n",
              "      <td>[256, 256]</td>\n",
              "      <td>relu</td>\n",
              "      <td>0.25</td>\n",
              "      <td>glorot_unifomr</td>\n",
              "      <td>90.97%/ 92.07%/ 92.35%/ 92.66%</td>\n",
              "    </tr>\n",
              "    <tr>\n",
              "      <th>1</th>\n",
              "      <td>3</td>\n",
              "      <td>[256, 256, 256]</td>\n",
              "      <td>relu</td>\n",
              "      <td>0.25</td>\n",
              "      <td>glorot_unifomr</td>\n",
              "      <td>91.99%</td>\n",
              "    </tr>\n",
              "    <tr>\n",
              "      <th>2</th>\n",
              "      <td>3</td>\n",
              "      <td>[256, 256, 256]</td>\n",
              "      <td>relu</td>\n",
              "      <td>0.20</td>\n",
              "      <td>he_normal</td>\n",
              "      <td>94.24%</td>\n",
              "    </tr>\n",
              "    <tr>\n",
              "      <th>3</th>\n",
              "      <td>3</td>\n",
              "      <td>[256, 256, 128]</td>\n",
              "      <td>relu</td>\n",
              "      <td>0.20</td>\n",
              "      <td>he_normal</td>\n",
              "      <td>91.19%</td>\n",
              "    </tr>\n",
              "    <tr>\n",
              "      <th>4</th>\n",
              "      <td>3</td>\n",
              "      <td>[256, 256, 512]</td>\n",
              "      <td>relu</td>\n",
              "      <td>0.20</td>\n",
              "      <td>he_normal</td>\n",
              "      <td>48.24%</td>\n",
              "    </tr>\n",
              "    <tr>\n",
              "      <th>5</th>\n",
              "      <td>4</td>\n",
              "      <td>[256, 256, 256, 128]</td>\n",
              "      <td>relu</td>\n",
              "      <td>0.20</td>\n",
              "      <td>he_normal</td>\n",
              "      <td>38.94%</td>\n",
              "    </tr>\n",
              "    <tr>\n",
              "      <th>6</th>\n",
              "      <td>4</td>\n",
              "      <td>[256, 256, 256, 256]</td>\n",
              "      <td>relu</td>\n",
              "      <td>0.20</td>\n",
              "      <td>he_normal</td>\n",
              "      <td>48.11%</td>\n",
              "    </tr>\n",
              "    <tr>\n",
              "      <th>7</th>\n",
              "      <td>4</td>\n",
              "      <td>[256, 256, 256, 512]</td>\n",
              "      <td>relu</td>\n",
              "      <td>0.20</td>\n",
              "      <td>he_normal</td>\n",
              "      <td>49.01%</td>\n",
              "    </tr>\n",
              "  </tbody>\n",
              "</table>\n",
              "</div>\n",
              "      <button class=\"colab-df-convert\" onclick=\"convertToInteractive('df-3f06fdfb-188b-4cd6-8875-a8e7b8c048f5')\"\n",
              "              title=\"Convert this dataframe to an interactive table.\"\n",
              "              style=\"display:none;\">\n",
              "        \n",
              "  <svg xmlns=\"http://www.w3.org/2000/svg\" height=\"24px\"viewBox=\"0 0 24 24\"\n",
              "       width=\"24px\">\n",
              "    <path d=\"M0 0h24v24H0V0z\" fill=\"none\"/>\n",
              "    <path d=\"M18.56 5.44l.94 2.06.94-2.06 2.06-.94-2.06-.94-.94-2.06-.94 2.06-2.06.94zm-11 1L8.5 8.5l.94-2.06 2.06-.94-2.06-.94L8.5 2.5l-.94 2.06-2.06.94zm10 10l.94 2.06.94-2.06 2.06-.94-2.06-.94-.94-2.06-.94 2.06-2.06.94z\"/><path d=\"M17.41 7.96l-1.37-1.37c-.4-.4-.92-.59-1.43-.59-.52 0-1.04.2-1.43.59L10.3 9.45l-7.72 7.72c-.78.78-.78 2.05 0 2.83L4 21.41c.39.39.9.59 1.41.59.51 0 1.02-.2 1.41-.59l7.78-7.78 2.81-2.81c.8-.78.8-2.07 0-2.86zM5.41 20L4 18.59l7.72-7.72 1.47 1.35L5.41 20z\"/>\n",
              "  </svg>\n",
              "      </button>\n",
              "      \n",
              "  <style>\n",
              "    .colab-df-container {\n",
              "      display:flex;\n",
              "      flex-wrap:wrap;\n",
              "      gap: 12px;\n",
              "    }\n",
              "\n",
              "    .colab-df-convert {\n",
              "      background-color: #E8F0FE;\n",
              "      border: none;\n",
              "      border-radius: 50%;\n",
              "      cursor: pointer;\n",
              "      display: none;\n",
              "      fill: #1967D2;\n",
              "      height: 32px;\n",
              "      padding: 0 0 0 0;\n",
              "      width: 32px;\n",
              "    }\n",
              "\n",
              "    .colab-df-convert:hover {\n",
              "      background-color: #E2EBFA;\n",
              "      box-shadow: 0px 1px 2px rgba(60, 64, 67, 0.3), 0px 1px 3px 1px rgba(60, 64, 67, 0.15);\n",
              "      fill: #174EA6;\n",
              "    }\n",
              "\n",
              "    [theme=dark] .colab-df-convert {\n",
              "      background-color: #3B4455;\n",
              "      fill: #D2E3FC;\n",
              "    }\n",
              "\n",
              "    [theme=dark] .colab-df-convert:hover {\n",
              "      background-color: #434B5C;\n",
              "      box-shadow: 0px 1px 3px 1px rgba(0, 0, 0, 0.15);\n",
              "      filter: drop-shadow(0px 1px 2px rgba(0, 0, 0, 0.3));\n",
              "      fill: #FFFFFF;\n",
              "    }\n",
              "  </style>\n",
              "\n",
              "      <script>\n",
              "        const buttonEl =\n",
              "          document.querySelector('#df-3f06fdfb-188b-4cd6-8875-a8e7b8c048f5 button.colab-df-convert');\n",
              "        buttonEl.style.display =\n",
              "          google.colab.kernel.accessAllowed ? 'block' : 'none';\n",
              "\n",
              "        async function convertToInteractive(key) {\n",
              "          const element = document.querySelector('#df-3f06fdfb-188b-4cd6-8875-a8e7b8c048f5');\n",
              "          const dataTable =\n",
              "            await google.colab.kernel.invokeFunction('convertToInteractive',\n",
              "                                                     [key], {});\n",
              "          if (!dataTable) return;\n",
              "\n",
              "          const docLinkHtml = 'Like what you see? Visit the ' +\n",
              "            '<a target=\"_blank\" href=https://colab.research.google.com/notebooks/data_table.ipynb>data table notebook</a>'\n",
              "            + ' to learn more about interactive tables.';\n",
              "          element.innerHTML = '';\n",
              "          dataTable['output_type'] = 'display_data';\n",
              "          await google.colab.output.renderOutput(dataTable, element);\n",
              "          const docLink = document.createElement('div');\n",
              "          docLink.innerHTML = docLinkHtml;\n",
              "          element.appendChild(docLink);\n",
              "        }\n",
              "      </script>\n",
              "    </div>\n",
              "  </div>\n",
              "  "
            ]
          },
          "metadata": {},
          "execution_count": 127
        }
      ]
    },
    {
      "cell_type": "code",
      "source": [
        "overall_df = pd.DataFrame({'headline':X_test['Clean Headline'],'is_sarcastic':y_test,'predicted result':predictions})\n",
        "overall_df"
      ],
      "metadata": {
        "colab": {
          "base_uri": "https://localhost:8080/",
          "height": 423
        },
        "id": "B4_2sBaYZfoj",
        "outputId": "09067de2-1eb2-4ac4-917d-ffbe1646e460"
      },
      "execution_count": null,
      "outputs": [
        {
          "output_type": "execute_result",
          "data": {
            "text/plain": [
              "                                                headline  is_sarcastic  \\\n",
              "27927  states slow to shut down weak teacher educatio...             0   \n",
              "1660     drone places fresh kill on steps of white house             1   \n",
              "96     report majority of instances of people getting...             1   \n",
              "6237   sole remaining lung filled with rich satisfyin...             1   \n",
              "6650                        the gop s stockholm syndrome             0   \n",
              "...                                                  ...           ...   \n",
              "3388   nation feels first only pang of sympathy for z...             1   \n",
              "3310   things to make the most out of your high schoo...             0   \n",
              "25714    winning lottery numbers so obvious in hindsight             1   \n",
              "21391  nuns and advocates protest planned pipeline by...             0   \n",
              "10018  pilot informs passengers they will be reroutin...             1   \n",
              "\n",
              "       predicted result  \n",
              "27927                 0  \n",
              "1660                  1  \n",
              "96                    1  \n",
              "6237                  1  \n",
              "6650                  0  \n",
              "...                 ...  \n",
              "3388                  1  \n",
              "3310                  0  \n",
              "25714                 1  \n",
              "21391                 0  \n",
              "10018                 1  \n",
              "\n",
              "[8586 rows x 3 columns]"
            ],
            "text/html": [
              "\n",
              "  <div id=\"df-89d6c583-8f0b-4eeb-80e1-4f65a05af471\">\n",
              "    <div class=\"colab-df-container\">\n",
              "      <div>\n",
              "<style scoped>\n",
              "    .dataframe tbody tr th:only-of-type {\n",
              "        vertical-align: middle;\n",
              "    }\n",
              "\n",
              "    .dataframe tbody tr th {\n",
              "        vertical-align: top;\n",
              "    }\n",
              "\n",
              "    .dataframe thead th {\n",
              "        text-align: right;\n",
              "    }\n",
              "</style>\n",
              "<table border=\"1\" class=\"dataframe\">\n",
              "  <thead>\n",
              "    <tr style=\"text-align: right;\">\n",
              "      <th></th>\n",
              "      <th>headline</th>\n",
              "      <th>is_sarcastic</th>\n",
              "      <th>predicted result</th>\n",
              "    </tr>\n",
              "  </thead>\n",
              "  <tbody>\n",
              "    <tr>\n",
              "      <th>27927</th>\n",
              "      <td>states slow to shut down weak teacher educatio...</td>\n",
              "      <td>0</td>\n",
              "      <td>0</td>\n",
              "    </tr>\n",
              "    <tr>\n",
              "      <th>1660</th>\n",
              "      <td>drone places fresh kill on steps of white house</td>\n",
              "      <td>1</td>\n",
              "      <td>1</td>\n",
              "    </tr>\n",
              "    <tr>\n",
              "      <th>96</th>\n",
              "      <td>report majority of instances of people getting...</td>\n",
              "      <td>1</td>\n",
              "      <td>1</td>\n",
              "    </tr>\n",
              "    <tr>\n",
              "      <th>6237</th>\n",
              "      <td>sole remaining lung filled with rich satisfyin...</td>\n",
              "      <td>1</td>\n",
              "      <td>1</td>\n",
              "    </tr>\n",
              "    <tr>\n",
              "      <th>6650</th>\n",
              "      <td>the gop s stockholm syndrome</td>\n",
              "      <td>0</td>\n",
              "      <td>0</td>\n",
              "    </tr>\n",
              "    <tr>\n",
              "      <th>...</th>\n",
              "      <td>...</td>\n",
              "      <td>...</td>\n",
              "      <td>...</td>\n",
              "    </tr>\n",
              "    <tr>\n",
              "      <th>3388</th>\n",
              "      <td>nation feels first only pang of sympathy for z...</td>\n",
              "      <td>1</td>\n",
              "      <td>1</td>\n",
              "    </tr>\n",
              "    <tr>\n",
              "      <th>3310</th>\n",
              "      <td>things to make the most out of your high schoo...</td>\n",
              "      <td>0</td>\n",
              "      <td>0</td>\n",
              "    </tr>\n",
              "    <tr>\n",
              "      <th>25714</th>\n",
              "      <td>winning lottery numbers so obvious in hindsight</td>\n",
              "      <td>1</td>\n",
              "      <td>1</td>\n",
              "    </tr>\n",
              "    <tr>\n",
              "      <th>21391</th>\n",
              "      <td>nuns and advocates protest planned pipeline by...</td>\n",
              "      <td>0</td>\n",
              "      <td>0</td>\n",
              "    </tr>\n",
              "    <tr>\n",
              "      <th>10018</th>\n",
              "      <td>pilot informs passengers they will be reroutin...</td>\n",
              "      <td>1</td>\n",
              "      <td>1</td>\n",
              "    </tr>\n",
              "  </tbody>\n",
              "</table>\n",
              "<p>8586 rows × 3 columns</p>\n",
              "</div>\n",
              "      <button class=\"colab-df-convert\" onclick=\"convertToInteractive('df-89d6c583-8f0b-4eeb-80e1-4f65a05af471')\"\n",
              "              title=\"Convert this dataframe to an interactive table.\"\n",
              "              style=\"display:none;\">\n",
              "        \n",
              "  <svg xmlns=\"http://www.w3.org/2000/svg\" height=\"24px\"viewBox=\"0 0 24 24\"\n",
              "       width=\"24px\">\n",
              "    <path d=\"M0 0h24v24H0V0z\" fill=\"none\"/>\n",
              "    <path d=\"M18.56 5.44l.94 2.06.94-2.06 2.06-.94-2.06-.94-.94-2.06-.94 2.06-2.06.94zm-11 1L8.5 8.5l.94-2.06 2.06-.94-2.06-.94L8.5 2.5l-.94 2.06-2.06.94zm10 10l.94 2.06.94-2.06 2.06-.94-2.06-.94-.94-2.06-.94 2.06-2.06.94z\"/><path d=\"M17.41 7.96l-1.37-1.37c-.4-.4-.92-.59-1.43-.59-.52 0-1.04.2-1.43.59L10.3 9.45l-7.72 7.72c-.78.78-.78 2.05 0 2.83L4 21.41c.39.39.9.59 1.41.59.51 0 1.02-.2 1.41-.59l7.78-7.78 2.81-2.81c.8-.78.8-2.07 0-2.86zM5.41 20L4 18.59l7.72-7.72 1.47 1.35L5.41 20z\"/>\n",
              "  </svg>\n",
              "      </button>\n",
              "      \n",
              "  <style>\n",
              "    .colab-df-container {\n",
              "      display:flex;\n",
              "      flex-wrap:wrap;\n",
              "      gap: 12px;\n",
              "    }\n",
              "\n",
              "    .colab-df-convert {\n",
              "      background-color: #E8F0FE;\n",
              "      border: none;\n",
              "      border-radius: 50%;\n",
              "      cursor: pointer;\n",
              "      display: none;\n",
              "      fill: #1967D2;\n",
              "      height: 32px;\n",
              "      padding: 0 0 0 0;\n",
              "      width: 32px;\n",
              "    }\n",
              "\n",
              "    .colab-df-convert:hover {\n",
              "      background-color: #E2EBFA;\n",
              "      box-shadow: 0px 1px 2px rgba(60, 64, 67, 0.3), 0px 1px 3px 1px rgba(60, 64, 67, 0.15);\n",
              "      fill: #174EA6;\n",
              "    }\n",
              "\n",
              "    [theme=dark] .colab-df-convert {\n",
              "      background-color: #3B4455;\n",
              "      fill: #D2E3FC;\n",
              "    }\n",
              "\n",
              "    [theme=dark] .colab-df-convert:hover {\n",
              "      background-color: #434B5C;\n",
              "      box-shadow: 0px 1px 3px 1px rgba(0, 0, 0, 0.15);\n",
              "      filter: drop-shadow(0px 1px 2px rgba(0, 0, 0, 0.3));\n",
              "      fill: #FFFFFF;\n",
              "    }\n",
              "  </style>\n",
              "\n",
              "      <script>\n",
              "        const buttonEl =\n",
              "          document.querySelector('#df-89d6c583-8f0b-4eeb-80e1-4f65a05af471 button.colab-df-convert');\n",
              "        buttonEl.style.display =\n",
              "          google.colab.kernel.accessAllowed ? 'block' : 'none';\n",
              "\n",
              "        async function convertToInteractive(key) {\n",
              "          const element = document.querySelector('#df-89d6c583-8f0b-4eeb-80e1-4f65a05af471');\n",
              "          const dataTable =\n",
              "            await google.colab.kernel.invokeFunction('convertToInteractive',\n",
              "                                                     [key], {});\n",
              "          if (!dataTable) return;\n",
              "\n",
              "          const docLinkHtml = 'Like what you see? Visit the ' +\n",
              "            '<a target=\"_blank\" href=https://colab.research.google.com/notebooks/data_table.ipynb>data table notebook</a>'\n",
              "            + ' to learn more about interactive tables.';\n",
              "          element.innerHTML = '';\n",
              "          dataTable['output_type'] = 'display_data';\n",
              "          await google.colab.output.renderOutput(dataTable, element);\n",
              "          const docLink = document.createElement('div');\n",
              "          docLink.innerHTML = docLinkHtml;\n",
              "          element.appendChild(docLink);\n",
              "        }\n",
              "      </script>\n",
              "    </div>\n",
              "  </div>\n",
              "  "
            ]
          },
          "metadata": {},
          "execution_count": 133
        }
      ]
    },
    {
      "cell_type": "markdown",
      "source": [
        "### False Positive and False Negative"
      ],
      "metadata": {
        "id": "nN9OtcSDeJFO"
      }
    },
    {
      "cell_type": "code",
      "source": [
        "false_positive = overall_df[(overall_df['is_sarcastic']==0) & (overall_df['predicted result']==1)]\n",
        "false_positive['headline'].values"
      ],
      "metadata": {
        "colab": {
          "base_uri": "https://localhost:8080/"
        },
        "id": "8J8MYLvVbrut",
        "outputId": "afbd7812-53cb-426d-9b16-e71f89cdcbfa"
      },
      "execution_count": null,
      "outputs": [
        {
          "output_type": "execute_result",
          "data": {
            "text/plain": [
              "array(['band targeted in paris attacks makes emotional return to finish concert',\n",
              "       'massive filament snakes across sun s surface',\n",
              "       'robin hood foundation',\n",
              "       'mom sentenced for encouraging boyfriend s sex assault on baby',\n",
              "       'ahmad khan rahami identified as suspect in manhattan explosion',\n",
              "       'brad pitt goes completely gray for new movie',\n",
              "       'most long island politician ever attacks opponent for not loving billy joel enough',\n",
              "       'virginia alcohol agents involved in bloody arrest return to duty',\n",
              "       'librarian who amassed millions by living humbly leaves entire fortune to college',\n",
              "       'desperate trump campaign turns to congress for support in attacks against khan family',\n",
              "       'powerball ticket sold with all winning numbers in million jackpot',\n",
              "       'dave chappelle donates from michigan show to flint foundation',\n",
              "       'teen accepted into colleges chooses full ride to hbcu',\n",
              "       'jimmy fallon announces new children s book',\n",
              "       'samsung halts production sales of galaxy note',\n",
              "       'man stuffs cash into shirt of gop congressman who voted to repeal obamacare',\n",
              "       'newly discovered smallpox vials more dangerous than thought',\n",
              "       'report new york state senate leader to be arrested for corruption',\n",
              "       'lincoln memorial pool to be drained after ducklings die',\n",
              "       'nutritionist approved back to school tips',\n",
              "       'toys r us may shut down all you s operations impacting thousands of workers',\n",
              "       'obama predicts bright future for legal weed',\n",
              "       'uber charges passenger over for mile ride across toronto',\n",
              "       'scientists agree this is the most effective diet for weight loss',\n",
              "       'afro textured hair beautiful and magical or nappy heads in need of perminators',\n",
              "       'harambe s grandmother euthanized at miami zoo',\n",
              "       'trump terrible mooch improved edition',\n",
              "       'mccain botched execution amounts to torture',\n",
              "       'california wildfire death toll rises to as more bodies found',\n",
              "       'rand paul ends daylong nsa filibuster',\n",
              "       'parkland survivor i have never been so unimpressed by a person after trump call',\n",
              "       'shirtless goofball in flag underwear invades field at world series',\n",
              "       'new fathers suffer from postpartum depression too',\n",
              "       'trevor noah michael flynn too stupid to be national security adviser',\n",
              "       'mom s postpartum body serves as painful reminder of pregnancy loss',\n",
              "       'trapped mexican bakery staff bake hundreds of loaves for harvey flood victims',\n",
              "       'comey memoir claims trump was obsessed with disproving pee tape allegation',\n",
              "       'indian prince manvendra singh gohil to open lgbtq center on family s royal grounds',\n",
              "       'new internet radio station modeled on heyday of fm radio',\n",
              "       'mass die off of dolphins directly linked to deepwater horizon spill',\n",
              "       'australian asylum seekers told to choose life in jail or risk death in home countries',\n",
              "       'jon kabat zinn the real meditation practice is how we live our lives from moment to moment',\n",
              "       'male writer outs female writer who wanted anonymity',\n",
              "       'obamacare repeal possibly going to live on farm upstate',\n",
              "       'alec confidential inside the secretive group s annual conference',\n",
              "       'jesse jackson absolutely no reason for officer to shoot',\n",
              "       'distributor will not release new louis c k film after sexual misconduct report',\n",
              "       'early apple computer sells for almost million at auction',\n",
              "       'new york times throws vicious oscars shade at kevin spacey',\n",
              "       'report nurse who fought ebola quarantine to leave maine',\n",
              "       'little league pitcher totally in awe after giving up grand slam',\n",
              "       'coroner to investigate police killing of rock thrower',\n",
              "       'hacker releases new orange is the new black episodes after demanding ransom',\n",
              "       'woman shuts down dude who demanded back for coffee date',\n",
              "       'nuns on the bus to drive through seven states to greet the pope',\n",
              "       'advocates rally around transgender migrant woman detained in all male facility',\n",
              "       'hall oates inducted into rock and roll hall of fame video',\n",
              "       'permission denied',\n",
              "       'f scott fitzgerald a princeton graduate with his diploma at last',\n",
              "       'mlb announces new domestic violence policy',\n",
              "       'spilled milk dishing daphne',\n",
              "       'kfc urged to stop routine use of antibiotics on poultry',\n",
              "       'secretive whcd pre party draws hollywood celebrities',\n",
              "       'trump blows up statue of liberty',\n",
              "       'invisibility cloak may be moving closer to reality',\n",
              "       'kris kobach posted partial social security numbers of thousands of kansas officials online',\n",
              "       'netflix to shut down planned louis c k comedy special',\n",
              "       'selfless cop escorts adorable family of ducklings across busy street',\n",
              "       'month old shot by father cleaning illegal gun',\n",
              "       'neil gorsuch sworn in as america s th supreme court justice',\n",
              "       'pizza rat has returned or has he',\n",
              "       'registered sex offender allegedly caught working as petco santa claus',\n",
              "       'obama encourages staff to stay on offense in final year',\n",
              "       'man s unexpected reaction to teen who held him up at knifepoint retold in powerful video',\n",
              "       'report algerian militant killed in you s strike targeting al qaeda operatives in libya',\n",
              "       'jimmy carter to discuss cancer diagnosis on thursday',\n",
              "       'super bowl to cheat or not to cheat',\n",
              "       'beyonc announces in scholarships for hbcu students',\n",
              "       'al jazeera america to shut down by end of april',\n",
              "       'newspaper front pages usher in uncertainty of new trump era',\n",
              "       'kansas bans poor people from spending welfare on cruise ships',\n",
              "       'million people who cannot vote but can they still complain',\n",
              "       'boston globe offers spotlight fellowship to fund investigations',\n",
              "       'oscars line up five non white presenters',\n",
              "       'connecticut to give its electoral college votes to national popular vote victor',\n",
              "       'daily meditation joyful',\n",
              "       'putin picks ex defense official as new ambassador to you s',\n",
              "       'earth day project collecting million different sounds from our beautiful bustling planet',\n",
              "       'report nsa s intercepted data mostly not from intended targets',\n",
              "       'you s justices reject challenge to protest ban on supreme court plaza',\n",
              "       'unhappy an excerpt from shitfaced musings of a former drunk',\n",
              "       'navy sailor surprises year old daughter at football game',\n",
              "       'larry flynt wins right to pursue missouri execution records',\n",
              "       'judge overturns conviction of innocent man sentenced to life more than years ago',\n",
              "       'kansas city area waiter gets world series ticket as a tip',\n",
              "       'aol instant messenger to sign off forever after years',\n",
              "       'trump speaker warms up crowd with bizarre hillary huma death fantasy',\n",
              "       'capital in st century',\n",
              "       'world could face months of chinese market aftershocks',\n",
              "       'kitten valiantly attempts high five',\n",
              "       'pope condemns violence against women',\n",
              "       'hints of hope emerge in deadly american bat plague',\n",
              "       'new google project delivers critical info to refugees smartphones',\n",
              "       'air pollution linked to millions of premature births around the globe',\n",
              "       'pope francis to give historic address to congress',\n",
              "       'disaster movies are tame compared to what happened billion years ago',\n",
              "       'gold star family promised by trump finally receives check in the mail',\n",
              "       'kentucky clerk it is impossible for me to marry gay couples',\n",
              "       'missing puppy headed back to worried owners after mile road trip',\n",
              "       'statement making sunglasses under',\n",
              "       'jimmy carter to make rare address to britain s house of lords',\n",
              "       'university of kansas plans to create meditation room',\n",
              "       'nestl recalls millions of frozen products that may contain glass',\n",
              "       'pope francis captivated by teen cancer patient s rendition of ave maria',\n",
              "       'rnc proclaims mike pence the winner more than an hour before the debate',\n",
              "       'secret service officer arrested in child sexting sting',\n",
              "       'teen blinded in one eye but lucky to be alive after duct tape challenge',\n",
              "       'radish a cat wants outta here',\n",
              "       'pope urges using weapons of love to combat evil in easter message',\n",
              "       'health officials confirm second case of plague from yosemite',\n",
              "       'scientists crack mystery of tiny traveling plants',\n",
              "       'same thang second strang',\n",
              "       'desperate dolphin mom seen helping her trapped baby breathe',\n",
              "       'very special stone age axe discovered',\n",
              "       'trump touts middle class tax relief but only detail he offers helps the rich',\n",
              "       'jury awards ex employee of roscoe s chicken n waffles m in race discrimination suit',\n",
              "       'you s trained syria rebels hand over equipment to al qaeda affiliate',\n",
              "       'norman lear common shonda rhimes to explore inequality in epix documentary series',\n",
              "       'football loving americans harassed for wearing turbans to nfl game',\n",
              "       'long lost salamander rediscovered in guatemalan jungle',\n",
              "       'afghan president ashraf ghani offers to recognize taliban as legitimate political group',\n",
              "       'chipotle hires former critic to help improve chain s food safety',\n",
              "       'holy s t airplane lands right in front of driver on ny highway',\n",
              "       'pope wraps up south american tour with visit to banado norte slum',\n",
              "       'chadwick boseman to deliver howard university commencement speech',\n",
              "       'warning this home video of a kid getting a nintendo is intensely nostalgic',\n",
              "       'donald trump descends into steak fueled madness',\n",
              "       'fourth graders suspended after plotting to kill teacher with hand sanitizer',\n",
              "       'page turners too addictive to put down',\n",
              "       'journalists attend private koch brothers gathering but agree not to name donors',\n",
              "       'draft biden super pac releases first ad',\n",
              "       'she will shocked cnbc staffers had long flight home',\n",
              "       'carrie fisher remembered as fans celebrate star wars day',\n",
              "       'mom who drove kids into ocean gives birth',\n",
              "       'stacey dash still just as clueless',\n",
              "       'senate still at odds over zika funding with only days left before summer break',\n",
              "       'aziz ansari pissed about accepting british award in person in la',\n",
              "       'boston judge orders apple to help law enforcement examine iphone',\n",
              "       'john kerry attempts to bully codepink into silence',\n",
              "       'meteorologist has hilarious comeback to daughter who questioned his weather prediction',\n",
              "       'derek jeter reportedly ready to make a life changing move',\n",
              "       'trump jr left open possibility that dad knew of trump tower meeting at the time',\n",
              "       'philippine congress agrees to extend mindanao martial law to end of year',\n",
              "       'matador fatally gored after he trips on cape in french bullring warning graphic video',\n",
              "       'woman meets george w bush while reporting for jury duty',\n",
              "       'twitter reminds alec baldwin at least he has a job for next years',\n",
              "       'hundreds of goats invade berkeley',\n",
              "       'parents respond to article that celebrates dads for one day of parenting',\n",
              "       'teddy bear population makes an awesome recovery',\n",
              "       'ben carson to tell supporters he sees no path forward for campaign',\n",
              "       'baby fox who was supposed to die finds man who believes in her',\n",
              "       'researchers uncover brain region associated with generosity',\n",
              "       'family rewrites in da club to celebrate back to school season',\n",
              "       'internal email sinclair ceo tells employees not to let extremists bully them',\n",
              "       'utah adopts nation s strictest drunk driving law',\n",
              "       'dog chained up for decade has sweetest reaction to being set free',\n",
              "       'legendary broadcaster dies at',\n",
              "       'boy scouts unveils historic name change as girls join youth programs',\n",
              "       'senators visit cuba hoping congress will ease restrictions',\n",
              "       'who needs fps when you can have frame every minutes min portrait s edition',\n",
              "       'teacher cut off woman s hair during hug cops',\n",
              "       'whoisdsharp injects some viral vine violin into huffpost x',\n",
              "       'creationism banned from uk schools',\n",
              "       'history teacher removed from classroom for comparing trump to hitler',\n",
              "       'fall of inversions',\n",
              "       'cat turning on the lights is way more fun than a clapper',\n",
              "       'usa today editorial board calls trump unfit to clean obama s toilets in scathing editorial',\n",
              "       'innocent man awarded million after spending years in prison',\n",
              "       'pope francis s life depicted in new comic book',\n",
              "       'dedicated humans of new york fans raise money to send underserved kids on harvard visit',\n",
              "       'researchers discover new source of airborne antibiotic resistant bacteria',\n",
              "       'national enquirer turns on michael cohen',\n",
              "       'middle st age never stop learning',\n",
              "       'surge soda again sells out on amazon',\n",
              "       'woman owned businesses on the rise in afghanistan',\n",
              "       'jennifer lopez rear ended by drunk driver',\n",
              "       'cross shaped wwi monument declared unconstitutional',\n",
              "       'sharon stone slammed by golden boy director',\n",
              "       'last officer from pearl harbor battleship uss arizona dies at',\n",
              "       'woman survives story plunge from parking garage in bmw',\n",
              "       'foot christmas tree goes up in flames',\n",
              "       'gay marriage finds scant mention among republicans at values voter summit',\n",
              "       'republicans holding out hope new chief of staff can restore order to chaotic white house',\n",
              "       'noose found in african american history museum exhibit in d c',\n",
              "       'craig hicks indicted',\n",
              "       'thandie newton recalls disgusting encounter with repulsive male director',\n",
              "       'two sisters tell heart felt tale of taking down bad cholesterol',\n",
              "       'boy spends his allowance on hundreds of books for inmates',\n",
              "       'prince of pot spends last in prison',\n",
              "       'pope visits one of italy s most dangerous areas',\n",
              "       'controversial study links e cigarettes to formaldehyde exposure',\n",
              "       'new bill would she would daylight on schools under investigation for sexual violence',\n",
              "       'controversial photo editing app under fire for makeup removal feature',\n",
              "       'dustin diamond arrested for reckless behavior',\n",
              "       'e sports organizations are going to launch governing body for pro video gaming',\n",
              "       'bakery owner vows to stop making wedding cakes altogether after pro gay court ruling',\n",
              "       'republicans humiliate boehner tee up next week s national crisis',\n",
              "       'an open letter to white supremacists from former owner of biggest racist record label',\n",
              "       'scottish independence proudly small or proudly together',\n",
              "       'bombing anniversary a reminder of the radical right s rage',\n",
              "       'bubble boy finally comfortable in his own skin',\n",
              "       'huffpost hill rand paul tongue guy now a thing',\n",
              "       'domhnall gleeson that nasty piece of work general hux is one of today s brightest actors',\n",
              "       'hugh laurie returns to the doctor game except in chance he has none of the answers',\n",
              "       'high school will not allow gay student to receive scholarship at awards dinner',\n",
              "       'sanders ramps up spending in effort to catch up to hillary',\n",
              "       'hiroshima visit brings feelings of guilt to american born in japan',\n",
              "       'nfl players buy xbox for year old boy wearing colin kaepernick jersey',\n",
              "       'same sex couples at center of supreme court case get ready for big day',\n",
              "       'fda to screen all donated blood for the zika virus',\n",
              "       'lois gibbs the government would not help me so i decided to do it myself',\n",
              "       'matt damon now knows you are sexually attracted to his ponytail',\n",
              "       'nestle to switch to cage free eggs in you s by',\n",
              "       'new united airlines policy scraps last minute boarding for crew members',\n",
              "       'man travels to historic art locations just to paint the patterns on his shirts',\n",
              "       'kerry washington we should not have to give up our seats at the table for others bad behavior',\n",
              "       'cat so scared in shelter will not even look at you',\n",
              "       'graphics to show to your climate denying uncle this thanksgiving',\n",
              "       'james foley missing american photojournalist beheaded by isis',\n",
              "       'ramadan religious fervor taken over by media capitalists',\n",
              "       'mystery toilet flusher turns out to be something pretty scary',\n",
              "       'undecided ohio voters beg for rd option on eve of gop convention',\n",
              "       'little boy stands tall',\n",
              "       'obama gathers world leaders to pledge billions in refugee aid',\n",
              "       'hiv positive man hits london streets for heartwarming experiment',\n",
              "       'epa accidentally spills millions of gallons of waste turning river orange',\n",
              "       'black panther sequel officially confirmed by marvel studios head',\n",
              "       'ancient flying beast named after avatar creature',\n",
              "       'ja rule on fyre festival not my fault',\n",
              "       'orangutan s horrific death underscores need for brands to use certified palm oil',\n",
              "       'incredible new slate of documentaries to elevate everyday lgbt heroes',\n",
              "       'presumed innocent found dead',\n",
              "       'former commish michael copps maybe the worst fcc i have ever seen',\n",
              "       'where is bana mystery surrounds shutdown of syrian girl s twitter account',\n",
              "       'little girl attempts to play with game boy flabbergasted by lack of touchscreen',\n",
              "       'yankees affiliate timing of blue lives matter day an unfortunate coincidence',\n",
              "       'ferguson on edge on first night with curfew',\n",
              "       'peter dinklage might have spit his gum into wife s mouth before accepting his emmy',\n",
              "       'jimmy kimmel issues psa for angry trump fans planning to burn their maga hats',\n",
              "       'chipotle ceo predicts the demise of irrelevant fast food chains',\n",
              "       'elena ferrante to write column for the guardian s weekend magazine',\n",
              "       'grieving daughter says mom drinks too much and started bringing home random men since dad died',\n",
              "       'massive magma chamber discovered under yellowstone',\n",
              "       'apple names jeff williams new coo',\n",
              "       'santa obliges dad of sleeping boy by snoozing on camera',\n",
              "       'breaking ufos spotted on classy porcelain dinnerware',\n",
              "       'nyc removes statue honoring th century surgeon who experimented on female slaves',\n",
              "       'breadwinner mommies are you falling short of your expectations or are your expectations falling short',\n",
              "       'times shorter was way better',\n",
              "       'study determines whether family or friends are the key to long life',\n",
              "       'tesla announces major upgrade to original roadster',\n",
              "       'oops hot mic broadcasts al roker going to the bathroom',\n",
              "       'weekly roundup of ebay vintage home finds',\n",
              "       'supreme court justice sotomayor continues duties after breaking shoulder',\n",
              "       'scientists identify possible because of huge ice shelf collapse',\n",
              "       'baltimore police begin slow process of reform in year after freddie gray s death',\n",
              "       'college student wants people to eat chik fil a and ketchup off her body',\n",
              "       'clinton campaign launches latinos for hillary',\n",
              "       'pit bull lovers gather in washington',\n",
              "       'dozens of leads no arrests in ferguson police shooting',\n",
              "       'trump hotels buck industry trend continue to offer guests porn',\n",
              "       'financing the flames nif parade fracas pushes outraged jewish groups to define mainstream',\n",
              "       'man lived alongside dead father s body for four months',\n",
              "       'jordan edwards laid to rest as family asks community for calm',\n",
              "       'ride hailing drivers probably make even less than they think mit paper finds',\n",
              "       'miles teller doing ok after bronco flips over in car crash',\n",
              "       'air force will no longer require so help me god in enlistment oaths',\n",
              "       'hollywood talent agency ditches usual oscar party in favor of anti trump rally',\n",
              "       'heavy rain floods university s library canteen in just minutes',\n",
              "       'pelosi throws cold water on tax extenders bill as talks run down to the wire',\n",
              "       'australia to lay off leading scientist on sea levels',\n",
              "       'french catering company employs refugees to cook their native foods',\n",
              "       'pope francis thinks you spend too much time on facebook',\n",
              "       'determined cat goes through a lot to wrestle with stuffed tiger',\n",
              "       'secret australian government documents found in cabinets from secondhand store',\n",
              "       'new ad hammers trump as too impulsive to allow near the nuclear button',\n",
              "       'apple will turn next iphone into wallet',\n",
              "       'report kimora lee is pregnant',\n",
              "       'pharmaceutical industry profiting from a solution to a problem they helped create',\n",
              "       'rubio launches new lines of attack against christie',\n",
              "       'hug factory',\n",
              "       'gilmore girls creator thinks we are all way too focused on rory s love life',\n",
              "       'patty jenkins extremely distressed over brett ratner allegations',\n",
              "       'ferguson shop owner overwhelmed by community support after looting',\n",
              "       'cosme an invitation always accepted',\n",
              "       'man falls asleep at intersection what cops say happens next is pure florida',\n",
              "       'enormous humongous march trade deficit creating jobs elsewhere',\n",
              "       'there is way too much cuteness in this new dog rating twitter feed',\n",
              "       'progressives in congress call for trillion in infrastructure spending',\n",
              "       'kentucky newspapers endorse alison lundergan grimes',\n",
              "       'trump friendly breitbart news rolls over after reporter grabbed by trump aide',\n",
              "       'goodell must go banners flying over nfl stadiums',\n",
              "       'taylor swift shares family portrait with lots of famous ladies',\n",
              "       'reddit bans page hosting celebrity nudes',\n",
              "       'bad policy threatens promise of expanded use of police body cameras',\n",
              "       'dick van dyke surprises denny s patrons with impromptu performance of chitty chitty bang bang',\n",
              "       'obama begins sales pitch on trade to wary you s public',\n",
              "       'man claims ex cares more about nonexistent singing career than their daughter',\n",
              "       'officials warn flint residents that some areas have higher lead levels than filters can handle',\n",
              "       'year old dagger was used as a doorstop',\n",
              "       'roots remake to air memorial day weekend',\n",
              "       'trump holds third real press conference',\n",
              "       'new york times editorial board endorses john kasich for gop nomination',\n",
              "       'prince cremated private ceremony held with family and friends',\n",
              "       'breweries donate cans of water to harvey victims',\n",
              "       'homeless pitbull could not stop trembling until someone showed her love',\n",
              "       'peanut boss sentenced to years for deadly salmonella outbreak',\n",
              "       'morocco cracks down on journalists',\n",
              "       'paul mccartney admits the beatles felt threatened by yoko ono'],\n",
              "      dtype=object)"
            ]
          },
          "metadata": {},
          "execution_count": 139
        }
      ]
    },
    {
      "cell_type": "code",
      "source": [
        "false_negative = overall_df[(overall_df['is_sarcastic']==1) & (overall_df['predicted result']==0)]\n",
        "false_negative['headline'].values"
      ],
      "metadata": {
        "colab": {
          "base_uri": "https://localhost:8080/"
        },
        "id": "DOmlmE5VddGE",
        "outputId": "95f937e4-7a09-40de-a57d-a5b5b272b078"
      },
      "execution_count": null,
      "outputs": [
        {
          "output_type": "execute_result",
          "data": {
            "text/plain": [
              "array(['track winnings reinvested in blackjack futures',\n",
              "       'swiss threaten ricola embargo',\n",
              "       'sharper image vows we will be undersold',\n",
              "       'facebook addresses accusations of silencing conservative voices by deleting barack obama s profile',\n",
              "       'pfizer breaks psychological need to always seek fda s approval',\n",
              "       'japanese prime minister resigns to seek revenge on man who killed his family',\n",
              "       'uber hires marketing firm to help decrease brand awareness',\n",
              "       'roy moore on pedophilia accusers these women are only discrediting me now because shifting sociocultural norms have created an environment in which assault allegations are taken seriously',\n",
              "       'mall santa crying hysterically in photo with toddler',\n",
              "       'mtv movie awards snubs director jonas mekas yet again',\n",
              "       'congress passes natural disaster digital enhancement funding',\n",
              "       'woman golden retrievers short of childhood vision',\n",
              "       'kirstjen nielsen urges migrant parents leave the weak ones behind',\n",
              "       'congress wishes they could help puerto rico but it is all the way over there',\n",
              "       'billy joel has billy joel s disease',\n",
              "       'sony scores big win for playstation after poaching yoshi from nintendo with year million contract',\n",
              "       'bp ceo we deeply regret the tragic loss of billion',\n",
              "       'one last ruben studdard reference wafts gently into the cool evening air',\n",
              "       'scarface onesie social worker s first tip off',\n",
              "       'watching faces of students as they finish the lottery highlight of english teacher s year',\n",
              "       'single engine cessna crashes into bush',\n",
              "       'matt damon mans warner brothers booth at college campus s career day',\n",
              "       'obama narrowly misses quarterly performance bonus',\n",
              "       'angelina jolie stuns in first rollerblading competition since double mastectomy',\n",
              "       'philip morris lawyers deny cigarettes are cylindrical',\n",
              "       'defense department layoffs result in increased video rentals',\n",
              "       'sxsw as cool and as real as it gets reports marketing associate',\n",
              "       'china vows to begin aggressively falsifying air pollution numbers',\n",
              "       'trump unveils plan to address migrants with new open fire policy',\n",
              "       'you s not planning to attack iran says you s iran war czar',\n",
              "       'nytimes com s plan to charge people money for consuming goods services called bold business move',\n",
              "       'dole reveals one cantaloupe out there contains million check',\n",
              "       'meals on wheels volunteers deliver body chocolate edible underwear to seniors shut in on valentine s day',\n",
              "       'bashful terrorists will not take credit for attack',\n",
              "       'crazed gunman critically injures',\n",
              "       'sex scandal sinks klemke reelection bid',\n",
              "       'magazine says you have sex and the city fever',\n",
              "       'ohio state puts urban meyer on paid secret coaching leave',\n",
              "       'university with applicants to choose from somehow goes with caitlin',\n",
              "       'obama trying out social policies in second life',\n",
              "       'extravagant new window blinds inspired by the latest styles from venice',\n",
              "       'wolf blitzer decks boston man who has not been healed by red sox baseball',\n",
              "       'more cats made',\n",
              "       'climate change denier battens down worldview to weather hurricane irma',\n",
              "       'isis struggling to narrow down gop debate sound bites for new recruitment video',\n",
              "       'israeli soldiers open fire on palestinians carrying potentially dangerous injured friends',\n",
              "       'scientists working to harness energy produced by intense fracking debates',\n",
              "       'chocolate pudding up a barrel',\n",
              "       'presidential radio address pledge drive in its final day',\n",
              "       'miss america pageant adds sweatpants and messy bun competition',\n",
              "       'al roker strongly considers retiring from creating the weather',\n",
              "       'trump it is my honor to deliver the first ever state of the union',\n",
              "       'inside spring fashions so glamorous you will practically shit yourself',\n",
              "       'andrew w k adopts staunch party advocacy position',\n",
              "       'mildfires amble through california',\n",
              "       'single parent families get a rating from drug kingpin',\n",
              "       'mainstream media at it again bloggers report',\n",
              "       'showerin real good continues to top bridal style trends of',\n",
              "       'jeff bezos heart breaks a little reading albany s amazon headquarters pitch',\n",
              "       'shadow government attracts shadow protesters',\n",
              "       'pallbearers carry leslie nielsen s coffin without incident',\n",
              "       'peta protests use of animatronic animals in commercials',\n",
              "       'kennel certificate proves who puppy daddy is',\n",
              "       'are we meeting the needs of our nation s rich',\n",
              "       'angelina jolie coming for your baby',\n",
              "       'chelsea clinton my mother will shape this country into a strong independent young woman',\n",
              "       'embattled rove seeks asylum in scarborough country',\n",
              "       'woman builds ironclad case proving mila kunis looks bad without makeup',\n",
              "       'damning evidence shows actor al jolson wearing blackface',\n",
              "       'jennifer lawrence stuns in oscar de la hoya gown',\n",
              "       'facebook apologizes for giving mark zuckerberg a platform',\n",
              "       'counselors quarantine homesick campers',\n",
              "       'fog machine heightens drama at children s piano recital',\n",
              "       'donut shop gets weird after a m',\n",
              "       'leaked george lucas sex tape includes digitally inserted footage of jabba the hutt',\n",
              "       'larry king s frothing saliva hosed off bette midler',\n",
              "       'elton john wows mother theresa funeral crowd with the bitch is back',\n",
              "       'kkk member struggles to blame blacks for his hangover',\n",
              "       'north korea successfully harvests wheat in show of growing strength',\n",
              "       'clinton clinton',\n",
              "       'kendrick lamar becomes first rapper to win pulitzer prize for editorial cartooning',\n",
              "       'onion social ceo responds to company chaos by donating to haiti',\n",
              "       'ahmadinejad signs on as dean at sarah lawrence',\n",
              "       'obama turns despite republican opposition',\n",
              "       'rolling stones kick off sing our songs for us tour',\n",
              "       'garth brooks thinking about how a pie would be good right about now',\n",
              "       'jared kushner claims that russian interference less damaging to you s democracy than saudi arabia nepotism israel cambridge analytica uae illicit donations erik prince bill barr and financial entanglements',\n",
              "       'george h w bush has not seen anyone from his secret service detail in years',\n",
              "       'stressed out paul ryan uses cheat day to indulge in one bipartisan vote',\n",
              "       'black history month celebration honors how sharp african americans looked in old timey clothes',\n",
              "       'israel s hamas disregard for palestinian life aligning nicely',\n",
              "       'smithsonian rejects tie dylan mcdermott wore in the practice',\n",
              "       'south dakota asked to water north dakota s crops over the weekend',\n",
              "       'drug use by jerry garcia down percent',\n",
              "       'craigslist apartment listing uses record exclamation points',\n",
              "       'percent of americans in favor of watching iraq get bombed on tv',\n",
              "       'study finds humans crave sweet foods because they are weak they are weak and they are small',\n",
              "       'clinton hitchhikes to st louis for jazzfest',\n",
              "       'germany disavows ties with the scorpions',\n",
              "       'trump vows to bring back ohio town s white castle',\n",
              "       'who is this little guy', 'bolivia joins dopec',\n",
              "       'innovative fat man combines waffles with ice cream',\n",
              "       'epa chief pruitt welcomes delegation of pollution from china',\n",
              "       'fema airdrops emergency cyanide pills for residents stranded by hurricane florence',\n",
              "       'date of apple backlash set for march',\n",
              "       'mel gibson his performance in payback still not getting enough credit',\n",
              "       'ryan seacrest catches up with captain phillips star maersk alabama on red carpet',\n",
              "       'billboard seems oddly proud sting will be playing at foxwoods casino',\n",
              "       'michelle obama shutters let us move program after failed year run',\n",
              "       'either ming or yuan dynasty seizes control of mainland china',\n",
              "       'the onion is canceling our second web video featuring kevin spacey',\n",
              "       'smiling willie nelson reflects on a lifetime of weed and women',\n",
              "       'eggs good for you this week',\n",
              "       'christian bale visits sikh temple victims',\n",
              "       'women why do not they lose some weight',\n",
              "       'theodore roosevelt was a gay man',\n",
              "       'hbo film reveals liberace was good friends with gay men',\n",
              "       'mockingbird imitates car alarm perfectly',\n",
              "       'trump honors sacrifices civil rights activists will have to make under his presidency',\n",
              "       'ryan zinke comes out in support of controversial wildfire',\n",
              "       'you s will not rule out escalating defense sector profits from syria conflict',\n",
              "       'cruel owner chains bike outside in freezing weather',\n",
              "       'bush to london bombers bring it on',\n",
              "       'white house concerned ryan zinke made land deal without giving cut to trump',\n",
              "       'ted danson totally nails tonight show interview',\n",
              "       'hate crime bill stalled by pro hate lobby',\n",
              "       'trump makes last minute push to appeal to whites',\n",
              "       'you s advises allies not to border russia',\n",
              "       'indonesian mother sews halloween costumes for children',\n",
              "       'michael dukakis wakes up not angry for first time since election',\n",
              "       'google s homepage design stirs controversy',\n",
              "       'obama has colorado appraised',\n",
              "       'trump regrets choosing kavanaugh after supreme court nominee keeps talking about how much he respects women',\n",
              "       'delirious rover hallucinates water on mars',\n",
              "       'john kelly resigns in last ditch effort to save his and trump s friendship',\n",
              "       'shocking biblical study reveals methushael did not beget lamech',\n",
              "       'lingerie wearing boehner we still have a very pretty speaker of the house',\n",
              "       'hilary duff s number one fan tasered',\n",
              "       'following death of adam yauch grieving china frees tibet',\n",
              "       'r l stine reveals slappy from night of the living dummy was gay',\n",
              "       'merle haggard haggard', 'bob dole makes car and driver best list',\n",
              "       'melania trump my fat piece of shit husband who should go kill himself needs to stop bullying people online',\n",
              "       'double amputee proves he is capable of anything',\n",
              "       'parents fighting about who is unhappier', 'classic boring',\n",
              "       'out of texas dentists advocate the death penalty',\n",
              "       'can the american idol\\xa0 \\xa0winner end kelly clarkson s pop chart dominance',\n",
              "       'putin will try the how you say fried chicken',\n",
              "       'is your privacy being violated an exclusive hidden camera investigation',\n",
              "       'popeye decries mideast bombings dese bombinks is disgustipating says sailor man',\n",
              "       'oxfam your donation will help us protect impoverished girls from our employees',\n",
              "       'giuliani puts odds of trump mueller interview at',\n",
              "       'a cashier at our davenport location did what disgusted sbarro ceo asks',\n",
              "       'inside america rates the skin colors',\n",
              "       'zsa zsa or eva gabor dead',\n",
              "       'secretary of state fired after inappropriately weighing in on international politics',\n",
              "       'zz top reveals meaning behind classic song legs',\n",
              "       'religious scholars discover jesus christ delivered by dr sidney adler',\n",
              "       'jaguars raiders hold postseason exhibition game in london',\n",
              "       'wow no one saw this coming nation groans as norway s kon tiki nabs best foreign picture nomination',\n",
              "       'republicans diversity through imported africans plan criticized',\n",
              "       'dad explains obamacare',\n",
              "       'million donation from chan zuckerberg charity to help kids learn to read returned',\n",
              "       'emeril bams groupie',\n",
              "       'newsweek editors argue over what to make readers fear next',\n",
              "       'gary cohn resigns in protest of trump s bigoted comments towards aluminum',\n",
              "       'fox news reporter asks the questions others are too smart to ask',\n",
              "       'esports star suspected of using peds', 'kite flyer in the zone',\n",
              "       'clown looked a lot different in online profile photo',\n",
              "       'mad lit professor puts finishing touches on bloomsday device',\n",
              "       'man who lost leg to whale decides to let it go',\n",
              "       'roy moore under fire for new children are my future ad campaign',\n",
              "       'paul hogan keeps pitching crocodile dundee saturday morning cartoon',\n",
              "       'seek funding step added to scientific method',\n",
              "       'doctors cancer patients who watched the onion s amazon pilot daily showed signs of remission',\n",
              "       'please do not feed the poor campaign catching on',\n",
              "       'now that is what i call shitty music tops album charts',\n",
              "       'john bolton warns war with north korea will not be cakewalk like iraq',\n",
              "       'high end persian rugs attend trial in show of support for paul manafort',\n",
              "       'grounded plane makes snow angel on tarmac',\n",
              "       'missing white girl drives missing black girl from headlines',\n",
              "       'trump administration denies president was behind jared kushner s promotion to star general',\n",
              "       'paul ryan calls on trump to take dismantling of america more seriously',\n",
              "       'mom saw a bunch of photos from women s march online',\n",
              "       'detroit burned down for the insurance money',\n",
              "       'ivana trump calls ex husband to ask him what he did to her beautiful baby boy',\n",
              "       'percent of americans approve of clinton s approval rating',\n",
              "       'wife unfazed by husband s sad e mails to other women',\n",
              "       'new swiss army phone may pose health risks',\n",
              "       'passage of health care reform brings democrat republican score to',\n",
              "       'bush asks advice for this friend of his who invaded iraq',\n",
              "       'stolen tour bus leads police on chase of historic downtown philadelphia',\n",
              "       'obama iraq airstrikes not slippery slope to other humanitarian interventions',\n",
              "       'theresa may narrowly manages to survive parliamentary firing squad',\n",
              "       'tom snyder returns to the sea',\n",
              "       'newt gingrich it is an honor to address a crowd that shares my utterly bizarre and unhealthy obsession with hillary clinton',\n",
              "       'van s rocking motion discourages would be knocker',\n",
              "       'sen dick lugar placed on congressional disabled list with strained hamstring',\n",
              "       'san francisco photographer shits out another bridge photo',\n",
              "       'cockatiel cannot take a punch', 'war talks begin at camp goliath',\n",
              "       'movie characters happen to pass through pamplona on the one week bulls run',\n",
              "       'chuck yeager dies in fiery kitchen mishap',\n",
              "       'travel channel blows its bed and breakfasts of new england wad',\n",
              "       'secret service s prostitution scandal did not affect president s security white house adviser madame chartreuse says',\n",
              "       'real life pepe le pew rapes cat',\n",
              "       'john kelly takes responsibility for failing to properly silence victims',\n",
              "       'trump flubs gaffe',\n",
              "       'hellmann s heir s conduct unbefitting a mayonnaise magnate',\n",
              "       'ryan gosling sneaks past paparazzi in full body red carpet camouflage',\n",
              "       'kendrick lamar deletes rhymezone com from internet history',\n",
              "       'violence erupts at trump rally after supporters clash with protesting gop leaders',\n",
              "       'disney rehires director james gunn as part of company wide push towards embracing pedophilia',\n",
              "       'woman apologizes for what appears to be clean house',\n",
              "       'taylor swift mourns death of boyfriend christopher dorner',\n",
              "       'kim jong un s wife on nuclear threats this is not the man i was forced to marry',\n",
              "       'disney s toy tales hits theaters friday',\n",
              "       'drew carey signs year contract to host the price is right',\n",
              "       'new macrowave can defrost a roast in hours',\n",
              "       'mom cannot wait for halloween episode of the big bang theory',\n",
              "       'midwestern tornado destroys world s largest objects',\n",
              "       'another comedian ruined by parenthood',\n",
              "       'israel builds new settlement to host palestinian peace talks',\n",
              "       'sarah huckabee sanders flatly rejects jim acosta s assertion that he is jim acosta',\n",
              "       'postal service and wait until you cocksuckers see what we do with wednesdays',\n",
              "       'aol time warner turmoil over reported says time',\n",
              "       'magical gallery transforms dull objects into art',\n",
              "       'those we lost in',\n",
              "       'frederick s of anchorage debuts crotchless long underwear',\n",
              "       'word innovate said times at sxsw so far',\n",
              "       'police release haircut progressed photo of missing woman',\n",
              "       'some genius juxtaposing religious iconography and bodily waste yet again',\n",
              "       'north dakota drinks itself to sleep again',\n",
              "       'rwandan refugees angered over lack of aol access',\n",
              "       'boehner resignation leaves massive leadership vacuum in congress intact',\n",
              "       'breaking thriller writer jeffery deaver at top of his game',\n",
              "       'man who could not defeat george w bush attempting to resolve israel palestine conflict',\n",
              "       'guillermo del toro makes first appearance with new monster wife at venice film festival',\n",
              "       'yet another media savvy ex hostage delights tv news producers',\n",
              "       'cop who shot unarmed black man let off with a promotion',\n",
              "       'ryan chugs down rhino horn and bull semen shake for mid debate boost',\n",
              "       'tv showdown expected as sleepy hollow debuts tonight against hbo s ichabod tnt s headless horseman showtime s cloaked rider',\n",
              "       'women s strike a sobering reality check for subway masturbator',\n",
              "       'jeb bush campaign kicks off state farewell tour with iowa town hall meeting',\n",
              "       'john boehner calls for national guard to deal with illegal immigrants hiding in mexico',\n",
              "       'trump blasts critics who judge neo nazi groups by most extreme members',\n",
              "       'breaking situation worsens in venezuela bolivia you s japan mexico iraq spain',\n",
              "       'obama s declaration of swine flu emergency prompts pro swine flu republican response',\n",
              "       'year old congressional whiz kid balances budget',\n",
              "       'america china trying to spice up trade relationship by bringing third country into negotiations',\n",
              "       'who pushes for more ouchless adhesive funding',\n",
              "       'gray wolves sighted in capitol building for first time in years',\n",
              "       'light playing beautifully off eric trump s gums at inaugural ball',\n",
              "       'jay z ceo resigns after stock price plunges',\n",
              "       'curly fry inventor strikes out with curly veal',\n",
              "       'like boxes of shit in your house get a cat',\n",
              "       'your republican friend to explain why paul ryan is great choice',\n",
              "       'cryptic long john silver s campaign just says you are the bait now',\n",
              "       'hot new murder craze sweeps chicago',\n",
              "       'china slaughters population to control flu outbreak',\n",
              "       'tom izzo calls spartans best team he is ever threatened with violence',\n",
              "       'palin brushing up on foreign policy at epcot',\n",
              "       'magical gallery transforms dull objects into art',\n",
              "       'los angeles now percent overpasses',\n",
              "       'kathie lee gifford denies getting sincerity implants',\n",
              "       'viagra announces real medicine that gave customers erections was confidence all along',\n",
              "       'internet crashes as billions of people go online to purchase the onion s latest book the trump leaks',\n",
              "       'jason statham beats wedding planner to death in new romantic comedy',\n",
              "       'china introduces new one uighur policy',\n",
              "       'ann coulter attacks trump for cowardly backing down from full on race war',\n",
              "       'clinton says badtz maru may be his favorite sanrio character',\n",
              "       'the cyberspace revolution why are the media ignoring it',\n",
              "       'new tech support caste arises in india',\n",
              "       'winter storm threatens homeless man s plans to survive over thanksgiving',\n",
              "       'check it out deer',\n",
              "       'law enforcement questions why alton sterling was even black in the first place',\n",
              "       'pool noodle has another season in her',\n",
              "       'anaheim police chief john welter look our job is to shoot people',\n",
              "       'prego marketing new marinara as the premiere sauce for the metoo moment',\n",
              "       'lindsay lohan s rehab stint off to great start and she is gone',\n",
              "       'michael cohen granted prison work release for new job with trump campaign',\n",
              "       'swiss threaten ricola embargo',\n",
              "       'lebron james guarantees cleveland will win numerous regular season games',\n",
              "       'jewel organizes save the unicorns benefit',\n",
              "       'bill cosby announces dates for you s college commencement tour',\n",
              "       'comics not just for kids anymore reports th mainstream news story',\n",
              "       'trump unfairly claims credit for rise in economic inequality that occurred under obama s watch',\n",
              "       'curiosity rover finds bucks on mars',\n",
              "       'himalayan goat dies following failed everest climb',\n",
              "       'tonight house faces his greatest challenge yet',\n",
              "       'prince harry meghan markle debating between hawaiian luau or x files themed wedding',\n",
              "       'cameraman strikes gold with tubby fan eating ice cream dancing holding baby',\n",
              "       'iran moves to ban events of mass destruction',\n",
              "       'boss makes lipstick prints on paychecks for valentine s day',\n",
              "       'm tley cr e signs sexual harassment guarantee',\n",
              "       'firefighters turned away from exclusive nightclub blaze',\n",
              "       'commas turning up everywhere',\n",
              "       'texans brace for president s response to hurricane',\n",
              "       'al qaeda s no killed on office depot run',\n",
              "       'campbell s unveils one big can sized noodle',\n",
              "       'cbs laugh track threatens walkout', 'dan aykroyd has aykroyds',\n",
              "       'ben affleck defends decision to set argo in boston',\n",
              "       'trump preemptively tells melania he will not give her a kidney',\n",
              "       'god almost forgot to kill dave elfman of boulder co today',\n",
              "       'clinton reelected by wide margin',\n",
              "       'gop completely fixes economy by canceling funding for npr',\n",
              "       'cool cybergranny needs machines to help her live',\n",
              "       'nelson mandela becomes first politician to be missed',\n",
              "       'candidates preparing for colorado debate conditions with high altitude speaking drills',\n",
              "       'mom just called to say hi and that she is very sad',\n",
              "       'america a fascist police state stoned underage drunk driver charges',\n",
              "       'nra lobby warns congress not to try anything stupid',\n",
              "       'souter hopes roberts is into birds',\n",
              "       'north dakota flooding reminds people of north dakota s existence',\n",
              "       'biden calls dibs on qaddafi s clothes',\n",
              "       'winter olympics cancelled due to inclement weather',\n",
              "       'white house this is not the geologic era to debate gun control',\n",
              "       'mitsubishi from the fast and the furious lands first directorial role',\n",
              "       'trump dismisses trump as a distraction',\n",
              "       'you s economy continues campaigning for barack obama',\n",
              "       'wolf blitzer debuts new real time election results beard',\n",
              "       'barry pepper getting by',\n",
              "       'rising star john kerry s stirring speech paves way for presidential run',\n",
              "       'one intern way older',\n",
              "       'christie comes from nowhere to win republican nomination',\n",
              "       'powerball super fans camping out before the big drawing dressed up as their favorite numbers',\n",
              "       'nited st tes toughens image with umlauts',\n",
              "       'intellectual property rights as fleeting as the scent of jasmine mayfly s wing in autumn',\n",
              "       'obama s fifth gulf coast visit really helps a lot',\n",
              "       'well neighbors just got a pit bull', 'yin making inroads on yang',\n",
              "       'trump thanks united nations for inviting him to their country',\n",
              "       'parents fight to remove cartoon characters from industrial solvents',\n",
              "       'hostage negotiation talks stall in congress'], dtype=object)"
            ]
          },
          "metadata": {},
          "execution_count": 141
        }
      ]
    }
  ]
}
